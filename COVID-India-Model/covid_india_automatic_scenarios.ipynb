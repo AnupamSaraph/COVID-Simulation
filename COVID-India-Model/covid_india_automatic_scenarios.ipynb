{
 "cells": [
  {
   "cell_type": "markdown",
   "metadata": {},
   "source": [
    "# COVID India Model\n",
    "This notebook enables you to run different scenarios of an SEIR model of the spread of COVID-19 in India.\n",
    "\n",
    "In order to run the model lets first load all required code"
   ]
  },
  {
   "cell_type": "code",
   "execution_count": null,
   "metadata": {},
   "outputs": [],
   "source": [
    "# The Scenario parameters are set here before invoking the simulation\n",
    "\"\"\"\n",
    "main module to automatically run the model scenarios\n",
    "\n",
    "\"\"\"\n",
    "__version__ = \"6.0.00.2020\"\n",
    "__doc__ = \"Automatically generates different scenario outputs for COVID-19 India Model\"\n",
    "__name__ = \"COVID-19 India Scenario Generator\"\n",
    "\n",
    "# contains the main model\n",
    "import covid_india_model as covid\n",
    "# contains the functions that initialise the model variables\n",
    "import covid_india_model_config as cmc\n",
    "# contains all functions to change parameter values for scenarios\n",
    "import covid_india_scenarios as cs\n",
    "# contains the functions to simulate the model and produce the output\n",
    "import simulator as sim\n",
    "# builtin functions for system dynamics\n",
    "import SD as sd"
   ]
  },
  {
   "cell_type": "markdown",
   "metadata": {},
   "source": [
    "Next lets set sim.show or sim.save to True depending on whether we want to view or save the output to file. You can do both, but depending on the computing power, the program may crash. So choose to do one at a time. "
   ]
  },
  {
   "cell_type": "code",
   "execution_count": null,
   "metadata": {},
   "outputs": [],
   "source": [
    "sim.show = True\n",
    "sim.save = False"
   ]
  },
  {
   "cell_type": "markdown",
   "metadata": {},
   "source": [
    "Lets define some housekeeping functions to obtain the outputs in the desired format. "
   ]
  },
  {
   "cell_type": "code",
   "execution_count": null,
   "metadata": {},
   "outputs": [],
   "source": [
    "def merge_scenarios(df):\n",
    "    \"\"\"\n",
    "    merge_scenarios [removes the contact numbers from scenario names to make comparison of all scenarios with contact numbers possible]\n",
    "\n",
    "    [extended_summary]\n",
    "\n",
    "    Args:\n",
    "        df ([DataFrame]): [DataFrame with the scenario data]\n",
    "\n",
    "    Returns:\n",
    "        [type]: [description]\n",
    "    \"\"\"    \n",
    "    import pandas as pd\n",
    "    element_list = df.index\n",
    "    for contact_rate in range(111, -10, -10):\n",
    "        element_list = [word.replace(\"-\"+str(contact_rate), '')\n",
    "                        for word in element_list]\n",
    "    df.index = element_list\n",
    "    df.index.name = 'scenario'\n",
    "    df.reset_index(inplace=True)\n",
    "    return df\n",
    "\n",
    "def summary_table(df1, df2, df3, df4):\n",
    "    \"\"\"\n",
    "    summary_table [saves the DataFrames for new cases, total cases and total deaths into excel sheets]\n",
    "\n",
    "    [extended_summary]\n",
    "\n",
    "   Args:\n",
    "        df1 ([DataFrame): [DataFrame with peak and peeaktime values for new cases]\n",
    "        df2 ([DataFrame]): [DataFrame with peak and peeaktime values for total cases]\n",
    "        df3 ([DataFrame]): [DataFrame with peak and peeaktime values for total deaths]\n",
    "     \"\"\"    \n",
    "    import pandas as pd\n",
    "    sim.save_to_excel(df1, 'infection_rate', 'Scenario Summary', 'w')\n",
    "    sim.save_to_excel(df2, 'total_infected', 'Scenario Summary', 'w')\n",
    "    sim.save_to_excel(df3, 'covid_deaths', 'Scenario Summary', 'w')\n",
    "    sim.save_to_excel(df4, 'infected', 'Scenario Summary', 'w')\n",
    "\n",
    "\n",
    "def summary_pivot(df1, df2, df3, df4):\n",
    "    \"\"\"\n",
    "    summary_pivot [geerates excel files with peak and peak time comparison for all scenarios]\n",
    "\n",
    "    [extended_summary]\n",
    "\n",
    "    Args:\n",
    "        df1 ([DataFrame): [DataFrame with peak and peeaktime values for new cases]\n",
    "        df2 ([DataFrame]): [DataFrame with peak and peeaktime values for total cases]\n",
    "        df3 ([DataFrame]): [DataFrame with peak and peeaktime values for total deaths]\n",
    "    \"\"\"    \n",
    "    import pandas as pd\n",
    "    new_cases = pd.pivot_table(df1, values=['peak', 'peak_time'], index=[\n",
    "                               'scenario'], columns=['contact_rate 2'])\n",
    "    total_cases = pd.pivot_table(df2, values=['peak', 'peak_time'], index=[\n",
    "                                 'scenario'], columns=['contact_rate 2'])\n",
    "    total_deaths = pd.pivot_table(df3, values=['peak', 'peak_time'], index=[\n",
    "                                  'scenario'], columns=['contact_rate 2'])\n",
    "    infected = pd.pivot_table(df4, values=['peak', 'peak_time'], index=[\n",
    "                                  'scenario'], columns=['contact_rate 2'])\n",
    "\n",
    "    sim.save_to_excel(new_cases, 'infection_rate', 'Scenario Pivot', 'w')\n",
    "    sim.save_to_excel(total_cases, 'total_infected', 'Scenario Pivot', 'w')\n",
    "    sim.save_to_excel(total_deaths, 'covid_deaths', 'Scenario Pivot', 'w')\n",
    "    sim.save_to_excel(infected, 'infected', 'Scenario Pivot', 'w')\n"
   ]
  },
  {
   "cell_type": "markdown",
   "metadata": {},
   "source": [
    "Now let's automate the simulator to initialise, run, and store each scenario for different lockdown stringencies.  "
   ]
  },
  {
   "cell_type": "code",
   "execution_count": null,
   "metadata": {},
   "outputs": [],
   "source": [
    "\n",
    "def initialise_scenario(program, scene, value, intervention_time):\n",
    "    \"\"\"\n",
    "    initialise_scenario [initialise the scenario settings and invoke the simulator]\n",
    "\n",
    "    [extended_summary]\n",
    "\n",
    "    Args:\n",
    "        program ([string]): [name of the scenario]\n",
    "        scene ([function]): [scenario parameter setting function to be invoked]\n",
    "        value ([float]): [parameter values to be set]\n",
    "        intervention_time ([int]): [the intervention time to be passed to the scenario parmeter setting function]\n",
    "    \"\"\"    \n",
    "    cmc.duration(1, 1825, 0.5)\n",
    "    for l2 in range(1, 110, 10):\n",
    "        program_name = program + \" - \" + str(value) + \"-\" + str(l2)\n",
    "        cmc.initialise_model(program_name)  \n",
    "        scene(value, intervention_time)\n",
    "        # This is what you use to set change the death multiplier\n",
    "        # ty = 1, 1, 1, 1  # there is no multiplier effect\n",
    "        # program_name = \"C-\" + program_name\n",
    "        ty = 1, 5, 8, 10  # comment the line above and uncomment this to set a death multiplier effect due to undercapacity\n",
    "        program_name = \"U-\" + program_name\n",
    "        cs.deaths_by_undercapacity(ty)\n",
    "        # This is the 1st lockdown and required to match the historic data, must always be on\n",
    "        cs.lockdown1(10, 85)    # lockdown was initiated from day 85\n",
    "        cs.closure1(0.99,85)    # closure of international flights was also initiated from day 85\n",
    "        # This is the 4th lockdown from day 140 when there was relaxation of contact rate: must always be on \n",
    "        cs.lockdown2(l2, 140)   \n",
    "        scenario = program_name  # \"contacts/day:\" + str(l2)\n",
    "        # program + \"-\" + str(value)   #+ \"-\" + \"under weak lockdown\"\n",
    "        filename = program_name\n",
    "        print('initiating scenario ', filename, \" with \", l2, \" contacts/day\")\n",
    "        sim.simulate(covid.model, __name__, scenario,\n",
    "                     cmc.no_of_time_points, cmc.dt)\n",
    "        # store the scenario as a dataframe in a dictionary\n",
    "        sc = sim.store_scenario(scenario, cmc.store(), cmc.description, cmc.dt)"
   ]
  },
  {
   "cell_type": "markdown",
   "metadata": {},
   "source": [
    "Let's invoke and run each scenario now."
   ]
  },
  {
   "cell_type": "code",
   "execution_count": null,
   "metadata": {
    "tags": []
   },
   "outputs": [],
   "source": [
    "sim.reset(covid.__version__)\n",
    "intervention_time = 140\n",
    "\n",
    "initialise_scenario('L', cs.lockdown1, 1, intervention_time)  # for lockdown to be eased\n",
    "initialise_scenario('C', cs.closure2, 0.99, intervention_time)  # for closure to contine\n",
    "initialise_scenario('C', cs.closure2, 0, intervention_time)  # for closure to be lifted\n",
    "initialise_scenario('I', cs.immunity, 0.1, intervention_time)  # for 10% effectiveness immunity programs to be introduced\n",
    "initialise_scenario('I', cs.immunity, 0.5, intervention_time)  # for 50% effectiveness immunity programs to be introduced\n",
    "initialise_scenario('Q', cs.quarantine, 0.1, intervention_time)  # for 10% effectiveness isolation programs to be introduced\n",
    "initialise_scenario('Q', cs.quarantine, 0.5, intervention_time)  # for 50% effectiveness isolation programs to be introduced\n",
    "initialise_scenario('M', cs.masks, 0.1, intervention_time)  # for 10% effectiveness nasks programs to be introduced\n",
    "initialise_scenario('M', cs.masks, 0.5, intervention_time)  # for 50% effectiveness masks programs to be introduced\n",
    "\n",
    "# Ensure the data can be summarized in plots and tables\n",
    "df1 = sim.summarize('infection_rate', 'contact_rate 2', cmc.dt)\n",
    "df2 = sim.summarize('total_infected', 'contact_rate 2', cmc.dt)\n",
    "df3 = sim.summarize('covid_deaths', 'contact_rate 2', cmc.dt)\n",
    "df4 = sim.summarize('infected', 'contact_rate 2', cmc.dt)\n",
    "\n",
    "merge_scenarios(df1)\n",
    "merge_scenarios(df2)\n",
    "merge_scenarios(df3)\n",
    "merge_scenarios(df4)"
   ]
  },
  {
   "cell_type": "markdown",
   "metadata": {},
   "source": [
    "## Peak new cases per day and time to peak new cases per day\n",
    "Compare the peak value, and the time to peak, to be expected for new cases per day in different scenarios "
   ]
  },
  {
   "cell_type": "code",
   "execution_count": null,
   "metadata": {},
   "outputs": [],
   "source": [
    "sim.plot_x_log_y(df1, 'contact_rate 2', 'peak', 'peak values under different scenarios',\n",
    "                     'contacts per day', 'new cases per day', 'new cases scenario comparison - log', False)\n",
    "sim.plot_x_log_y(df1, 'contact_rate 2', 'peak_time', 'peak time under different scenarios',\n",
    "                     'contacts per day', 'time to peak new cases per day (days)', 'new cases scenario comparison - log', False)"
   ]
  },
  {
   "cell_type": "markdown",
   "metadata": {},
   "source": [
    "## Peak total cases  and time to peak total cases \n",
    "Compare the peak value, and the time to peak, to be expected for total cases in different scenarios. This is a good indicator of the duration of the pandemic. "
   ]
  },
  {
   "cell_type": "code",
   "execution_count": null,
   "metadata": {},
   "outputs": [],
   "source": [
    "sim.plot_x_log_y(df2, 'contact_rate 2', 'peak', 'peak values under different scenarios',\n",
    "                    'contacts per day', 'total cases', 'total cases scenario comparison - log', False)\n",
    "sim.plot_x_log_y(df2, 'contact_rate 2', 'peak_time', 'peak time under different scenarios',\n",
    "                    'contacts per day', 'time to peak total cases (days)', 'total cases scenario comparison - log', False)"
   ]
  },
  {
   "cell_type": "markdown",
   "metadata": {},
   "source": [
    "## Peak total deaths and time to peak total deaths\n",
    "Compare the peak value, and the time to peak, to be expected for total deaths in different scenarios. This is a good indicator of the last deaths due to COVID-19. "
   ]
  },
  {
   "cell_type": "code",
   "execution_count": null,
   "metadata": {},
   "outputs": [],
   "source": [
    "sim.plot_x_log_y(df3, 'contact_rate 2', 'peak', 'peak values under different scenarios',\n",
    "                    'contacts per day', 'total deaths', 'total deaths scenario comparison - log', False)\n",
    "sim.plot_x_log_y(df3, 'contact_rate 2', 'peak_time', 'peak time under different scenarios',\n",
    "                    'contacts per day', 'time to peak total deaths (days)', 'total deaths scenario comparison - log', False)"
   ]
  },
  {
   "cell_type": "markdown",
   "metadata": {},
   "source": [
    "## Peak active cases and time to peak active cases \n",
    "Compare the peak value, and the time to peak, to be expected for active cases in different scenarios. This is a good indicator of the burden of the pandemic and actual flattening accomplished. "
   ]
  },
  {
   "cell_type": "code",
   "execution_count": null,
   "metadata": {},
   "outputs": [],
   "source": [
    "sim.plot_x_log_y(df4, 'contact_rate 2', 'peak', 'peak values under different scenarios',\n",
    "                    'contacts per day', 'active cases', 'active cases scenario comparison - log', False)\n",
    "sim.plot_x_log_y(df4, 'contact_rate 2', 'peak_time', 'peak time under different scenarios',\n",
    "                    'contacts per day', 'time to peak active cases (days)', 'active cases scenario comparison - log', False)\n",
    "# uncomment the next line if you need a graph with legends\n",
    "# sim.plot_x_log_y(df1, 'contact_rate 2', 'peak', 'peak values under different scenarios',\n",
    "                    'contacts per day', 'new cases per day', 'new cases scenario comparison - legend', True)"
   ]
  },
  {
   "cell_type": "markdown",
   "metadata": {},
   "source": [
    "## Peak values and peak time tables\n",
    "Generate and store peak time and peak value tables as excel files"
   ]
  },
  {
   "cell_type": "code",
   "execution_count": null,
   "metadata": {
    "tags": []
   },
   "outputs": [],
   "source": [
    "summary_table(df1, df2, df3, df4)\n",
    "summary_pivot(df1, df2, df3, df4)"
   ]
  },
  {
   "cell_type": "markdown",
   "metadata": {},
   "source": [
    "## Plotting the output\n",
    "**Note**: The model is storing data for 198 scenarios for 36,510 time points for 35 variables. Unless you have very good computing power with memory, please plot only graphs you want to see,comment the rest. Trying to plot all graphs may cause the plotting module or python to crash."
   ]
  },
  {
   "cell_type": "markdown",
   "metadata": {},
   "source": [
    "## Daily new confirmed COVID-19 cases\n",
    "Compare the new cases per day in different scenarios in linear and log plots. "
   ]
  },
  {
   "cell_type": "code",
   "execution_count": null,
   "metadata": {},
   "outputs": [],
   "source": [
    "sim.ploty('infection_rate', '', 'Days', 'Daily new cases', 'All scenarios')\n",
    "# Log plot causes python to crash, do not plot other plots if you want to do log plots\n",
    "# sim.plot_log_y('infection_rate', '', 'Days',\n",
    "#                'Daily new cases', 'All scenarios' + '-log plot')"
   ]
  },
  {
   "cell_type": "markdown",
   "metadata": {},
   "source": [
    "## Cumulative confirmed COVID-19 cases\n",
    "Compare the total cases in different scenarios in linear and log plots"
   ]
  },
  {
   "cell_type": "code",
   "execution_count": null,
   "metadata": {},
   "outputs": [],
   "source": [
    "sim.ploty('total_infected', '', 'Days', 'Total cases', 'All scenarios')\n",
    "# Log plot causes python to crash, do not plot other plots if you want to do log plots\n",
    "# sim.plot_log_y('total_infected', '', 'Days',\n",
    "#                 'Total cases', 'All scenarios' + '-log plot')"
   ]
  },
  {
   "cell_type": "markdown",
   "metadata": {},
   "source": [
    "## Cumulative confirmed COVID-19 deaths\n",
    "Compare the total deaths in different scenarios in linear and log plots"
   ]
  },
  {
   "cell_type": "code",
   "execution_count": null,
   "metadata": {},
   "outputs": [],
   "source": [
    "sim.ploty('covid_deaths', '', 'Days', 'Total deaths', 'All scenarios')\n",
    "# Log plot causes python to crash, do not plot other plots if you want to do log plots\n",
    "# sim.plot_log_y('covid_deaths', '', 'Days',\n",
    "#                 'Total deaths', 'All scenarios' + '-log plot')\n",
    "# sim.plotx_logy('scenario', 'covid_deaths', '',\n",
    "#                 'scenario', 'covid_deaths', 'All scenarios')"
   ]
  },
  {
   "cell_type": "markdown",
   "metadata": {},
   "source": [
    "## Active COVID-19 cases\n",
    "Compare the active cases in different scenarios in linear and log plots"
   ]
  },
  {
   "cell_type": "code",
   "execution_count": null,
   "metadata": {},
   "outputs": [],
   "source": [
    "sim.ploty('infected', '', 'Days', 'Active cases', 'All scenarios')\n",
    "# Log plot causes python to crash, do not plot other plots if you want to do log plots\n",
    "# sim.plot_log_y('infected', '', 'Days',\n",
    "#                 'Acive cases', 'All scenarios' + '-log plot')\n",
    "# sim.plotx_logy('scenario', 'infected', '',\n",
    "#                 'scenario', 'Active cases', 'All scenarios')"
   ]
  },
  {
   "cell_type": "markdown",
   "metadata": {},
   "source": [
    "## Susceptible population\n",
    "Compare susceptible population with different scenarios "
   ]
  },
  {
   "cell_type": "code",
   "execution_count": null,
   "metadata": {},
   "outputs": [],
   "source": [
    "sim.ploty('susceptible', '', 'Days', 'Susceptible population', 'All Scenarios')"
   ]
  },
  {
   "cell_type": "markdown",
   "metadata": {},
   "source": [
    "## Exposed population\n",
    "Compare exposed population with different scenarios "
   ]
  },
  {
   "cell_type": "code",
   "execution_count": null,
   "metadata": {},
   "outputs": [],
   "source": [
    "sim.ploty('exposed', '', 'Days', 'Exposed population', 'All Scenarios')"
   ]
  },
  {
   "cell_type": "markdown",
   "metadata": {},
   "source": [
    "## Infected population\n",
    "Compare infected population with different scenarios "
   ]
  },
  {
   "cell_type": "code",
   "execution_count": null,
   "metadata": {},
   "outputs": [],
   "source": [
    "sim.ploty('infected', '', 'Days', 'Active cases', 'All Scenarios')"
   ]
  },
  {
   "cell_type": "markdown",
   "metadata": {},
   "source": [
    "## Recovered population\n",
    "Compare recovered population with different scenarios "
   ]
  },
  {
   "cell_type": "code",
   "execution_count": null,
   "metadata": {},
   "outputs": [],
   "source": [
    "sim.ploty(' recovered', '', 'Days', 'Recovered population', 'All Scenarios')"
   ]
  },
  {
   "cell_type": "markdown",
   "metadata": {},
   "source": [
    "## Scenario tables\n",
    "Store the scenario values for all scenarios in excel files"
   ]
  },
  {
   "cell_type": "code",
   "execution_count": null,
   "metadata": {},
   "outputs": [],
   "source": [
    "if sim.save == True:\n",
    "    sim.compare_scenarios_to_excel(\"All scenarios\" + \".xlsx\")\n",
    "\n",
    "print(\">> I'm done simulating all scenarios\")\n"
   ]
  }
 ],
 "metadata": {
  "kernelspec": {
   "display_name": "Python 3",
   "language": "python",
   "name": "python3"
  },
  "language_info": {
   "codemirror_mode": {
    "name": "ipython",
    "version": 3
   },
   "file_extension": ".py",
   "mimetype": "text/x-python",
   "name": "python",
   "nbconvert_exporter": "python",
   "pygments_lexer": "ipython3",
   "version": "3.7.6"
  }
 },
 "nbformat": 4,
 "nbformat_minor": 2
}
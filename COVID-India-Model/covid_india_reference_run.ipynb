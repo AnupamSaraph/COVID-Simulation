{
 "cells": [
  {
   "cell_type": "markdown",
   "metadata": {},
   "source": [
    "# COVID India Model\n",
    "This is a notebook to run a SEIR model over 148 days of the pandemic in India to compare the simulation results of the government's response during the 148 days with the published data for the same period. It also provides a comparison of what may have happened without the government lockdown."
   ]
  },
  {
   "cell_type": "code",
   "execution_count": 1,
   "metadata": {},
   "outputs": [
    {
     "output_type": "display_data",
     "data": {
      "text/html": "        <script type=\"text/javascript\">\n        window.PlotlyConfig = {MathJaxConfig: 'local'};\n        if (window.MathJax) {MathJax.Hub.Config({SVG: {font: \"STIX-Web\"}});}\n        if (typeof require !== 'undefined') {\n        require.undef(\"plotly\");\n        requirejs.config({\n            paths: {\n                'plotly': ['https://cdn.plot.ly/plotly-latest.min']\n            }\n        });\n        require(['plotly'], function(Plotly) {\n            window._Plotly = Plotly;\n        });\n        }\n        </script>\n        "
     },
     "metadata": {}
    }
   ],
   "source": [
    "# In[]\n",
    "\"\"\"\n",
    "Reference plot for comparison with historical data and model validation\n",
    "Import the files required to run the scenario\n",
    "\"\"\"\n",
    "__version__ = \"6.00.00.2020\"\n",
    "__doc__ = \"Generates different scenario outputs for COVID-19 India Model\"\n",
    "__name__ = \"COVID-19 India Scenario Generator\"\n",
    "\n",
    "# contains the main model\n",
    "import covid_india_model as covid\n",
    "# contains the functions that initialise the model variables\n",
    "import covid_india_model_config as cmc\n",
    "# contains all functions to change parameter values for scenarios\n",
    "import covid_india_scenarios as cs\n",
    "# contains the functions to simulate the model and produce the output\n",
    "import simulator as sim\n",
    "# builtin functions for system dynamics\n",
    "import SD as sd  "
   ]
  },
  {
   "cell_type": "markdown",
   "metadata": {},
   "source": [
    "Let's first set the government actions for the simulation period. Then we will simulate the model over the period."
   ]
  },
  {
   "cell_type": "code",
   "execution_count": 2,
   "metadata": {
    "tags": []
   },
   "outputs": [
    {
     "output_type": "stream",
     "name": "stdout",
     "text": "Simulator Version 6.01.00.2020\n(c) 2020, Anupam Saraph\nThis work is licensed under a \nCreative Commons Attribution-NonCommercial 4.0 Unported License \nhttp://creativecommons.org/licenses/by-nc/4.0/\nInitialising  COVID-19 India config  Version  6.00.00.2020 Reference Run\n"
    }
   ],
   "source": [
    "# Reference run parameters\n",
    "sim.reset(covid.__version__)\n",
    "cmc.duration(1,146,0.5)\n",
    "cmc.initialise_model('Reference Run')\n",
    "cs.lockdown1(10,85)\n",
    "cs.closure1(0.99,85)\n",
    "scenario = \"simulated\"\n",
    "\n",
    "sim.simulate(covid.model, __name__, scenario, cmc.no_of_time_points, cmc.dt)\n",
    "# store the scenario as a dataframe in a dictionary\n",
    "sc = sim.store_scenario(scenario, cmc.store(), cmc.description, cmc.dt)"
   ]
  },
  {
   "cell_type": "markdown",
   "metadata": {},
   "source": [
    "Let's get the historical data from ourworldindata.org and extract the 148 days for which the government lockdown is being compaed with this historical data."
   ]
  },
  {
   "cell_type": "code",
   "execution_count": 3,
   "metadata": {},
   "outputs": [],
   "source": [
    "# In[]\n",
    "import pandas as pd\n",
    "\n",
    "df = pd.read_csv('https://covid.ourworldindata.org/data/owid-covid-data.csv')\n",
    "india = df[df['location']=='India']\n",
    "india.reset_index(inplace=True)\n",
    "india.index.name = 'time'\n",
    "india.reset_index(level=0, inplace=True)\n",
    "reference = india[0:147]\n",
    "# set sim.show and sim.save to False if you do not want to display or save the output\n",
    "sim.show=True\n",
    "sim.save = True"
   ]
  },
  {
   "cell_type": "markdown",
   "metadata": {},
   "source": [
    "## New cases per day\n",
    "Comparison of historical and simulated new cases per day over the first 146 days of the pandemic"
   ]
  },
  {
   "cell_type": "code",
   "execution_count": 4,
   "metadata": {
    "tags": []
   },
   "outputs": [
    {
     "output_type": "display_data",
     "data": {
      "application/vnd.plotly.v1+json": {
       "config": {
        "plotlyServerURL": "https://plot.ly"
       },
       "data": [
        {
         "hovertemplate": "scenario=simulated<br>time=%{x}<br>infection_rate=%{y}<extra></extra>",
         "legendgroup": "simulated",
         "line": {
          "color": "#1F77B4",
          "dash": "solid"
         },
         "mode": "lines",
         "name": "simulated",
         "orientation": "v",
         "showlegend": true,
         "type": "scatter",
         "x": [
          1,
          1.5,
          2,
          2.5,
          3,
          3.5,
          4,
          4.5,
          5,
          5.5,
          6,
          6.5,
          7,
          7.5,
          8,
          8.5,
          9,
          9.5,
          10,
          10.5,
          11,
          11.5,
          12,
          12.5,
          13,
          13.5,
          14,
          14.5,
          15,
          15.5,
          16,
          16.5,
          17,
          17.5,
          18,
          18.5,
          19,
          19.5,
          20,
          20.5,
          21,
          21.5,
          22,
          22.5,
          23,
          23.5,
          24,
          24.5,
          25,
          25.5,
          26,
          26.5,
          27,
          27.5,
          28,
          28.5,
          29,
          29.5,
          30,
          30.5,
          31,
          31.5,
          32,
          32.5,
          33,
          33.5,
          34,
          34.5,
          35,
          35.5,
          36,
          36.5,
          37,
          37.5,
          38,
          38.5,
          39,
          39.5,
          40,
          40.5,
          41,
          41.5,
          42,
          42.5,
          43,
          43.5,
          44,
          44.5,
          45,
          45.5,
          46,
          46.5,
          47,
          47.5,
          48,
          48.5,
          49,
          49.5,
          50,
          50.5,
          51,
          51.5,
          52,
          52.5,
          53,
          53.5,
          54,
          54.5,
          55,
          55.5,
          56,
          56.5,
          57,
          57.5,
          58,
          58.5,
          59,
          59.5,
          60,
          60.5,
          61,
          61.5,
          62,
          62.5,
          63,
          63.5,
          64,
          64.5,
          65,
          65.5,
          66,
          66.5,
          67,
          67.5,
          68,
          68.5,
          69,
          69.5,
          70,
          70.5,
          71,
          71.5,
          72,
          72.5,
          73,
          73.5,
          74,
          74.5,
          75,
          75.5,
          76,
          76.5,
          77,
          77.5,
          78,
          78.5,
          79,
          79.5,
          80,
          80.5,
          81,
          81.5,
          82,
          82.5,
          83,
          83.5,
          84,
          84.5,
          85,
          85.5,
          86,
          86.5,
          87,
          87.5,
          88,
          88.5,
          89,
          89.5,
          90,
          90.5,
          91,
          91.5,
          92,
          92.5,
          93,
          93.5,
          94,
          94.5,
          95,
          95.5,
          96,
          96.5,
          97,
          97.5,
          98,
          98.5,
          99,
          99.5,
          100,
          100.5,
          101,
          101.5,
          102,
          102.5,
          103,
          103.5,
          104,
          104.5,
          105,
          105.5,
          106,
          106.5,
          107,
          107.5,
          108,
          108.5,
          109,
          109.5,
          110,
          110.5,
          111,
          111.5,
          112,
          112.5,
          113,
          113.5,
          114,
          114.5,
          115,
          115.5,
          116,
          116.5,
          117,
          117.5,
          118,
          118.5,
          119,
          119.5,
          120,
          120.5,
          121,
          121.5,
          122,
          122.5,
          123,
          123.5,
          124,
          124.5,
          125,
          125.5,
          126,
          126.5,
          127,
          127.5,
          128,
          128.5,
          129,
          129.5,
          130,
          130.5,
          131,
          131.5,
          132,
          132.5,
          133,
          133.5,
          134,
          134.5,
          135,
          135.5,
          136,
          136.5,
          137,
          137.5,
          138,
          138.5,
          139,
          139.5,
          140,
          140.5,
          141,
          141.5,
          142,
          142.5,
          143,
          143.5,
          144,
          144.5,
          145,
          145.5,
          146,
          146.5
         ],
         "xaxis": "x",
         "y": [
          0.7843137254901962,
          0.7843137254901962,
          0.7309436180173753,
          0.689766539309947,
          0.6589543547051128,
          0.6369849227702915,
          0.6225924971436346,
          0.6147262413063888,
          0.6125155326847571,
          0.6152409485817705,
          0.6223100072672004,
          0.6332368888642198,
          0.6476254872837963,
          0.6651552504035951,
          0.6855693543411783,
          0.7086648318545248,
          0.7342843369785238,
          0.7623092799506794,
          0.7926541099467286,
          0.8252615595211453,
          0.8600986950866009,
          0.8971536432393716,
          0.9364328840552402,
          0.9779590203210861,
          1.0217689465988353,
          1.0679123545157607,
          1.1164505211358275,
          1.1674553360234683,
          1.2210085299421884,
          1.2772010742686521,
          1.3361327253432749,
          1.3979116922839399,
          1.46265441039673,
          1.530485405340747,
          1.6015372357387132,
          1.6759505040511475,
          1.753873927316372,
          1.8354644608574635,
          1.9208874693174387,
          2.0103169404446417,
          2.1039357379443926,
          2.2019358904679263,
          2.3045189144485367,
          2.4118961690369374,
          2.524289241849291,
          2.6419303646356798,
          2.7650628583153583,
          2.8939416071173683,
          3.0288335618191153,
          3.170018272297844,
          3.3177884498063364,
          3.4724505595592747,
          3.6343254443745305,
          3.8037489802575117,
          3.9810727649494693,
          4.16666484058471,
          4.360910451718993,
          4.564212840103764,
          4.776994077689753,
          4.999695939450117,
          5.232780817718759,
          5.47673267984479,
          5.732058071069988,
          5.9992871646433885,
          6.278974861296408,
          6.571701940313769,
          6.878076264550447,
          7.19873404186344,
          7.534341145549807,
          7.885594496509535,
          8.253223509983775,
          8.637991609856341,
          9.04069781364936,
          9.462178391492925,
          9.903308602504236,
          10.365004512173906,
          10.848224894526716,
          11.353973223001256,
          11.883299754177974,
          12.437303708678817,
          13.017135553764012,
          13.623999392363302,
          14.259155463500404,
          14.923922759301139,
          15.619681764018116,
          16.347877320758492,
          17.110021631866708,
          17.90769739919185,
          18.742561110759937,
          19.616346480675517,
          20.530868049395316,
          21.488024951849795,
          22.48980486123698,
          23.538288116677975,
          24.635652043305218,
          25.78417547375426,
          26.986243480448167,
          28.24435232850125,
          29.56111465952707,
          30.939264917115104,
          32.38166502524236,
          33.891310331411354,
          35.47133582685568,
          37.12502265672968,
          38.855804933800805,
          40.667276869793675,
          42.56320023919408,
          44.54751219101198,
          46.624333424724526,
          48.797976747376794,
          51.072956029609,
          53.4539955792076,
          55.946039951644195,
          58.554264217974016,
          61.28408471141497,
          64.14117027492229,
          67.13145403311412,
          70.26114571299193,
          73.53674453903913,
          76.96505272947398,
          80.55318962168074,
          84.3086064561495,
          88.23910184962241,
          92.35283798957457,
          96.65835758365594,
          101.16460159928765,
          105.88092783024659,
          110.81713032878928,
          115.98345974366259,
          121.39064460622984,
          127.0499136089087,
          132.97301892217797,
          139.17226059856552,
          145.66051211428646,
          152.45124710156296,
          159.5585673271269,
          166.99723197499597,
          174.78268829431843,
          182.93110367591746,
          191.45939922413015,
          200.38528489364055,
          209.72729626425397,
          219.50483302995983,
          229.73819928218765,
          240.4486456708851,
          251.6584135309438,
          263.39078106557736,
          275.6701116825245,
          288.5219045834184,
          301.97284771133775,
          316.050873166449,
          330.7852152047706,
          346.20647094045,
          362.3466638775502,
          379.2393104032196,
          396.9194893802548,
          415.42391498350213,
          434.79101293126854,
          455.0610002699573,
          476.2759688775127,
          498.47997285897196,
          521.7191200154928,
          546.0416675766764,
          571.4981223948423,
          598.1413458091663,
          626.0266633972753,
          655.2119798420241,
          685.757899151786,
          717.7278504836838,
          751.1882198308056,
          786.208487846598,
          770.541810856031,
          769.8233787089929,
          796.9494837189305,
          813.8859782372043,
          811.4836424497188,
          813.5524478981754,
          856.9034059377005,
          843.9618199427072,
          833.1332093955793,
          894.9828472623303,
          940.5550574194936,
          918.8390133208786,
          941.2835302998471,
          909.607484803988,
          921.213014390791,
          1015.1472977824652,
          1066.3064229783106,
          1146.7976847079342,
          1186.2488581578723,
          1214.0972218117413,
          1300.8300875269326,
          1374.6274516420428,
          1396.7410133487845,
          1460.9827801208287,
          1420.5904178874,
          1392.7787171986274,
          1504.6082348567634,
          1403.8639748697615,
          1461.55957199145,
          1437.422423898449,
          1529.0624261150417,
          1593.246698943604,
          1515.5697662507403,
          1676.2436266320055,
          1809.25509037398,
          1747.4322165410701,
          1827.768468226623,
          1720.3685121014223,
          1916.1784142156428,
          1871.7668340853495,
          1850.9644605641236,
          1784.5430484460796,
          1970.4130463861334,
          1934.735158654489,
          2139.46452185278,
          1973.1299015345492,
          2179.7097735218795,
          2266.0438078482025,
          2132.3971927916377,
          2371.5019231032697,
          2597.607625451854,
          2583.426358548875,
          2510.359417454821,
          2607.4712014696534,
          2589.8615813260476,
          2535.387416942562,
          2654.959983730773,
          2973.4474952168707,
          2764.942137293305,
          2633.5872657357577,
          2474.574341209071,
          2686.075699090169,
          2826.8394193612194,
          2941.8955782122994,
          2940.222248507034,
          3094.1792748885755,
          3033.797098070631,
          2955.9135246613596,
          2788.717131533956,
          2969.6218568662753,
          3147.233553115282,
          3020.311427751572,
          3039.731242019783,
          2913.63744745692,
          2992.587193096898,
          2803.5987152453504,
          3049.0859001250583,
          2964.100287476414,
          3098.501807423341,
          3233.483794086591,
          3335.562606259207,
          3294.880237588887,
          3693.5801959404835,
          3966.258532510496,
          4360.876244662933,
          4361.513124350652,
          4143.365666908261,
          4621.584550284505,
          4317.330318915492,
          4573.04033266126,
          4951.600164218228,
          5004.9543683034535,
          5260.149260345153,
          5651.719763877791,
          6152.701052192125,
          6132.625750566229,
          6515.1736690309435,
          6666.307424352138,
          6724.204593339391,
          6404.741820631145,
          6729.110441749809,
          6646.7791704069405,
          6685.385870280522,
          6390.329362894749,
          7089.079218158679,
          7311.898892334529,
          7735.098491648052,
          7181.967836844692,
          7657.301202278133,
          7600.066009012162,
          8407.889800338999,
          8620.117506695371,
          8997.20292785444,
          9423.312501803255,
          9525.446303926868,
          9434.35614946479,
          8862.946525580839,
          8516.266413971083,
          9257.993305317113,
          9373.19666760335,
          10499.739350110956
         ],
         "yaxis": "y"
        },
        {
         "line": {
          "color": "red"
         },
         "mode": "lines",
         "name": "historical data",
         "showlegend": true,
         "type": "scatter",
         "x": [
          0,
          1,
          2,
          3,
          4,
          5,
          6,
          7,
          8,
          9,
          10,
          11,
          12,
          13,
          14,
          15,
          16,
          17,
          18,
          19,
          20,
          21,
          22,
          23,
          24,
          25,
          26,
          27,
          28,
          29,
          30,
          31,
          32,
          33,
          34,
          35,
          36,
          37,
          38,
          39,
          40,
          41,
          42,
          43,
          44,
          45,
          46,
          47,
          48,
          49,
          50,
          51,
          52,
          53,
          54,
          55,
          56,
          57,
          58,
          59,
          60,
          61,
          62,
          63,
          64,
          65,
          66,
          67,
          68,
          69,
          70,
          71,
          72,
          73,
          74,
          75,
          76,
          77,
          78,
          79,
          80,
          81,
          82,
          83,
          84,
          85,
          86,
          87,
          88,
          89,
          90,
          91,
          92,
          93,
          94,
          95,
          96,
          97,
          98,
          99,
          100,
          101,
          102,
          103,
          104,
          105,
          106,
          107,
          108,
          109,
          110,
          111,
          112,
          113,
          114,
          115,
          116,
          117,
          118,
          119,
          120,
          121,
          122,
          123,
          124,
          125,
          126,
          127,
          128,
          129,
          130,
          131,
          132,
          133,
          134,
          135,
          136,
          137,
          138,
          139,
          140,
          141,
          142,
          143,
          144,
          145,
          146
         ],
         "y": [
          0,
          0,
          0,
          0,
          0,
          0,
          0,
          0,
          0,
          0,
          0,
          0,
          0,
          0,
          0,
          0,
          0,
          0,
          0,
          0,
          0,
          0,
          0,
          0,
          0,
          0,
          0,
          0,
          0,
          0,
          1,
          0,
          0,
          1,
          0,
          1,
          0,
          0,
          0,
          0,
          0,
          0,
          0,
          0,
          0,
          0,
          0,
          0,
          0,
          0,
          0,
          0,
          0,
          0,
          0,
          0,
          0,
          0,
          0,
          0,
          0,
          0,
          0,
          2,
          1,
          22,
          1,
          2,
          3,
          null,
          10,
          6,
          23,
          2,
          8,
          7,
          3,
          32,
          12,
          28,
          26,
          40,
          89,
          119,
          53,
          70,
          87,
          75,
          149,
          106,
          92,
          180,
          146,
          568,
          336,
          601,
          472,
          693,
          354,
          773,
          540,
          678,
          1035,
          909,
          796,
          1211,
          1075,
          942,
          1007,
          991,
          1334,
          1553,
          1335,
          1384,
          1409,
          1684,
          1429,
          1990,
          1396,
          1543,
          1897,
          1718,
          1993,
          2293,
          2644,
          2553,
          3900,
          2958,
          3561,
          3390,
          3320,
          3277,
          4213,
          3604,
          3525,
          3722,
          3967,
          3970,
          4987,
          5242,
          4970,
          5611,
          5609,
          6088,
          6654,
          6767,
          6977
         ]
        }
       ],
       "layout": {
        "legend": {
         "orientation": "h",
         "title": {
          "text": "scenario"
         },
         "tracegroupgap": 0
        },
        "margin": {
         "t": 60
        },
        "template": {
         "data": {
          "bar": [
           {
            "error_x": {
             "color": "rgb(36,36,36)"
            },
            "error_y": {
             "color": "rgb(36,36,36)"
            },
            "marker": {
             "line": {
              "color": "white",
              "width": 0.5
             }
            },
            "type": "bar"
           }
          ],
          "barpolar": [
           {
            "marker": {
             "line": {
              "color": "white",
              "width": 0.5
             }
            },
            "type": "barpolar"
           }
          ],
          "carpet": [
           {
            "aaxis": {
             "endlinecolor": "rgb(36,36,36)",
             "gridcolor": "white",
             "linecolor": "white",
             "minorgridcolor": "white",
             "startlinecolor": "rgb(36,36,36)"
            },
            "baxis": {
             "endlinecolor": "rgb(36,36,36)",
             "gridcolor": "white",
             "linecolor": "white",
             "minorgridcolor": "white",
             "startlinecolor": "rgb(36,36,36)"
            },
            "type": "carpet"
           }
          ],
          "choropleth": [
           {
            "colorbar": {
             "outlinewidth": 1,
             "tickcolor": "rgb(36,36,36)",
             "ticks": "outside"
            },
            "type": "choropleth"
           }
          ],
          "contour": [
           {
            "colorbar": {
             "outlinewidth": 1,
             "tickcolor": "rgb(36,36,36)",
             "ticks": "outside"
            },
            "colorscale": [
             [
              0,
              "#440154"
             ],
             [
              0.1111111111111111,
              "#482878"
             ],
             [
              0.2222222222222222,
              "#3e4989"
             ],
             [
              0.3333333333333333,
              "#31688e"
             ],
             [
              0.4444444444444444,
              "#26828e"
             ],
             [
              0.5555555555555556,
              "#1f9e89"
             ],
             [
              0.6666666666666666,
              "#35b779"
             ],
             [
              0.7777777777777778,
              "#6ece58"
             ],
             [
              0.8888888888888888,
              "#b5de2b"
             ],
             [
              1,
              "#fde725"
             ]
            ],
            "type": "contour"
           }
          ],
          "contourcarpet": [
           {
            "colorbar": {
             "outlinewidth": 1,
             "tickcolor": "rgb(36,36,36)",
             "ticks": "outside"
            },
            "type": "contourcarpet"
           }
          ],
          "heatmap": [
           {
            "colorbar": {
             "outlinewidth": 1,
             "tickcolor": "rgb(36,36,36)",
             "ticks": "outside"
            },
            "colorscale": [
             [
              0,
              "#440154"
             ],
             [
              0.1111111111111111,
              "#482878"
             ],
             [
              0.2222222222222222,
              "#3e4989"
             ],
             [
              0.3333333333333333,
              "#31688e"
             ],
             [
              0.4444444444444444,
              "#26828e"
             ],
             [
              0.5555555555555556,
              "#1f9e89"
             ],
             [
              0.6666666666666666,
              "#35b779"
             ],
             [
              0.7777777777777778,
              "#6ece58"
             ],
             [
              0.8888888888888888,
              "#b5de2b"
             ],
             [
              1,
              "#fde725"
             ]
            ],
            "type": "heatmap"
           }
          ],
          "heatmapgl": [
           {
            "colorbar": {
             "outlinewidth": 1,
             "tickcolor": "rgb(36,36,36)",
             "ticks": "outside"
            },
            "colorscale": [
             [
              0,
              "#440154"
             ],
             [
              0.1111111111111111,
              "#482878"
             ],
             [
              0.2222222222222222,
              "#3e4989"
             ],
             [
              0.3333333333333333,
              "#31688e"
             ],
             [
              0.4444444444444444,
              "#26828e"
             ],
             [
              0.5555555555555556,
              "#1f9e89"
             ],
             [
              0.6666666666666666,
              "#35b779"
             ],
             [
              0.7777777777777778,
              "#6ece58"
             ],
             [
              0.8888888888888888,
              "#b5de2b"
             ],
             [
              1,
              "#fde725"
             ]
            ],
            "type": "heatmapgl"
           }
          ],
          "histogram": [
           {
            "marker": {
             "line": {
              "color": "white",
              "width": 0.6
             }
            },
            "type": "histogram"
           }
          ],
          "histogram2d": [
           {
            "colorbar": {
             "outlinewidth": 1,
             "tickcolor": "rgb(36,36,36)",
             "ticks": "outside"
            },
            "colorscale": [
             [
              0,
              "#440154"
             ],
             [
              0.1111111111111111,
              "#482878"
             ],
             [
              0.2222222222222222,
              "#3e4989"
             ],
             [
              0.3333333333333333,
              "#31688e"
             ],
             [
              0.4444444444444444,
              "#26828e"
             ],
             [
              0.5555555555555556,
              "#1f9e89"
             ],
             [
              0.6666666666666666,
              "#35b779"
             ],
             [
              0.7777777777777778,
              "#6ece58"
             ],
             [
              0.8888888888888888,
              "#b5de2b"
             ],
             [
              1,
              "#fde725"
             ]
            ],
            "type": "histogram2d"
           }
          ],
          "histogram2dcontour": [
           {
            "colorbar": {
             "outlinewidth": 1,
             "tickcolor": "rgb(36,36,36)",
             "ticks": "outside"
            },
            "colorscale": [
             [
              0,
              "#440154"
             ],
             [
              0.1111111111111111,
              "#482878"
             ],
             [
              0.2222222222222222,
              "#3e4989"
             ],
             [
              0.3333333333333333,
              "#31688e"
             ],
             [
              0.4444444444444444,
              "#26828e"
             ],
             [
              0.5555555555555556,
              "#1f9e89"
             ],
             [
              0.6666666666666666,
              "#35b779"
             ],
             [
              0.7777777777777778,
              "#6ece58"
             ],
             [
              0.8888888888888888,
              "#b5de2b"
             ],
             [
              1,
              "#fde725"
             ]
            ],
            "type": "histogram2dcontour"
           }
          ],
          "mesh3d": [
           {
            "colorbar": {
             "outlinewidth": 1,
             "tickcolor": "rgb(36,36,36)",
             "ticks": "outside"
            },
            "type": "mesh3d"
           }
          ],
          "parcoords": [
           {
            "line": {
             "colorbar": {
              "outlinewidth": 1,
              "tickcolor": "rgb(36,36,36)",
              "ticks": "outside"
             }
            },
            "type": "parcoords"
           }
          ],
          "pie": [
           {
            "automargin": true,
            "type": "pie"
           }
          ],
          "scatter": [
           {
            "marker": {
             "colorbar": {
              "outlinewidth": 1,
              "tickcolor": "rgb(36,36,36)",
              "ticks": "outside"
             }
            },
            "type": "scatter"
           }
          ],
          "scatter3d": [
           {
            "line": {
             "colorbar": {
              "outlinewidth": 1,
              "tickcolor": "rgb(36,36,36)",
              "ticks": "outside"
             }
            },
            "marker": {
             "colorbar": {
              "outlinewidth": 1,
              "tickcolor": "rgb(36,36,36)",
              "ticks": "outside"
             }
            },
            "type": "scatter3d"
           }
          ],
          "scattercarpet": [
           {
            "marker": {
             "colorbar": {
              "outlinewidth": 1,
              "tickcolor": "rgb(36,36,36)",
              "ticks": "outside"
             }
            },
            "type": "scattercarpet"
           }
          ],
          "scattergeo": [
           {
            "marker": {
             "colorbar": {
              "outlinewidth": 1,
              "tickcolor": "rgb(36,36,36)",
              "ticks": "outside"
             }
            },
            "type": "scattergeo"
           }
          ],
          "scattergl": [
           {
            "marker": {
             "colorbar": {
              "outlinewidth": 1,
              "tickcolor": "rgb(36,36,36)",
              "ticks": "outside"
             }
            },
            "type": "scattergl"
           }
          ],
          "scattermapbox": [
           {
            "marker": {
             "colorbar": {
              "outlinewidth": 1,
              "tickcolor": "rgb(36,36,36)",
              "ticks": "outside"
             }
            },
            "type": "scattermapbox"
           }
          ],
          "scatterpolar": [
           {
            "marker": {
             "colorbar": {
              "outlinewidth": 1,
              "tickcolor": "rgb(36,36,36)",
              "ticks": "outside"
             }
            },
            "type": "scatterpolar"
           }
          ],
          "scatterpolargl": [
           {
            "marker": {
             "colorbar": {
              "outlinewidth": 1,
              "tickcolor": "rgb(36,36,36)",
              "ticks": "outside"
             }
            },
            "type": "scatterpolargl"
           }
          ],
          "scatterternary": [
           {
            "marker": {
             "colorbar": {
              "outlinewidth": 1,
              "tickcolor": "rgb(36,36,36)",
              "ticks": "outside"
             }
            },
            "type": "scatterternary"
           }
          ],
          "surface": [
           {
            "colorbar": {
             "outlinewidth": 1,
             "tickcolor": "rgb(36,36,36)",
             "ticks": "outside"
            },
            "colorscale": [
             [
              0,
              "#440154"
             ],
             [
              0.1111111111111111,
              "#482878"
             ],
             [
              0.2222222222222222,
              "#3e4989"
             ],
             [
              0.3333333333333333,
              "#31688e"
             ],
             [
              0.4444444444444444,
              "#26828e"
             ],
             [
              0.5555555555555556,
              "#1f9e89"
             ],
             [
              0.6666666666666666,
              "#35b779"
             ],
             [
              0.7777777777777778,
              "#6ece58"
             ],
             [
              0.8888888888888888,
              "#b5de2b"
             ],
             [
              1,
              "#fde725"
             ]
            ],
            "type": "surface"
           }
          ],
          "table": [
           {
            "cells": {
             "fill": {
              "color": "rgb(237,237,237)"
             },
             "line": {
              "color": "white"
             }
            },
            "header": {
             "fill": {
              "color": "rgb(217,217,217)"
             },
             "line": {
              "color": "white"
             }
            },
            "type": "table"
           }
          ]
         },
         "layout": {
          "annotationdefaults": {
           "arrowhead": 0,
           "arrowwidth": 1
          },
          "coloraxis": {
           "colorbar": {
            "outlinewidth": 1,
            "tickcolor": "rgb(36,36,36)",
            "ticks": "outside"
           }
          },
          "colorscale": {
           "diverging": [
            [
             0,
             "rgb(103,0,31)"
            ],
            [
             0.1,
             "rgb(178,24,43)"
            ],
            [
             0.2,
             "rgb(214,96,77)"
            ],
            [
             0.3,
             "rgb(244,165,130)"
            ],
            [
             0.4,
             "rgb(253,219,199)"
            ],
            [
             0.5,
             "rgb(247,247,247)"
            ],
            [
             0.6,
             "rgb(209,229,240)"
            ],
            [
             0.7,
             "rgb(146,197,222)"
            ],
            [
             0.8,
             "rgb(67,147,195)"
            ],
            [
             0.9,
             "rgb(33,102,172)"
            ],
            [
             1,
             "rgb(5,48,97)"
            ]
           ],
           "sequential": [
            [
             0,
             "#440154"
            ],
            [
             0.1111111111111111,
             "#482878"
            ],
            [
             0.2222222222222222,
             "#3e4989"
            ],
            [
             0.3333333333333333,
             "#31688e"
            ],
            [
             0.4444444444444444,
             "#26828e"
            ],
            [
             0.5555555555555556,
             "#1f9e89"
            ],
            [
             0.6666666666666666,
             "#35b779"
            ],
            [
             0.7777777777777778,
             "#6ece58"
            ],
            [
             0.8888888888888888,
             "#b5de2b"
            ],
            [
             1,
             "#fde725"
            ]
           ],
           "sequentialminus": [
            [
             0,
             "#440154"
            ],
            [
             0.1111111111111111,
             "#482878"
            ],
            [
             0.2222222222222222,
             "#3e4989"
            ],
            [
             0.3333333333333333,
             "#31688e"
            ],
            [
             0.4444444444444444,
             "#26828e"
            ],
            [
             0.5555555555555556,
             "#1f9e89"
            ],
            [
             0.6666666666666666,
             "#35b779"
            ],
            [
             0.7777777777777778,
             "#6ece58"
            ],
            [
             0.8888888888888888,
             "#b5de2b"
            ],
            [
             1,
             "#fde725"
            ]
           ]
          },
          "colorway": [
           "#1F77B4",
           "#FF7F0E",
           "#2CA02C",
           "#D62728",
           "#9467BD",
           "#8C564B",
           "#E377C2",
           "#7F7F7F",
           "#BCBD22",
           "#17BECF"
          ],
          "font": {
           "color": "rgb(36,36,36)"
          },
          "geo": {
           "bgcolor": "white",
           "lakecolor": "white",
           "landcolor": "white",
           "showlakes": true,
           "showland": true,
           "subunitcolor": "white"
          },
          "hoverlabel": {
           "align": "left"
          },
          "hovermode": "closest",
          "mapbox": {
           "style": "light"
          },
          "paper_bgcolor": "white",
          "plot_bgcolor": "white",
          "polar": {
           "angularaxis": {
            "gridcolor": "rgb(232,232,232)",
            "linecolor": "rgb(36,36,36)",
            "showgrid": false,
            "showline": true,
            "ticks": "outside"
           },
           "bgcolor": "white",
           "radialaxis": {
            "gridcolor": "rgb(232,232,232)",
            "linecolor": "rgb(36,36,36)",
            "showgrid": false,
            "showline": true,
            "ticks": "outside"
           }
          },
          "scene": {
           "xaxis": {
            "backgroundcolor": "white",
            "gridcolor": "rgb(232,232,232)",
            "gridwidth": 2,
            "linecolor": "rgb(36,36,36)",
            "showbackground": true,
            "showgrid": false,
            "showline": true,
            "ticks": "outside",
            "zeroline": false,
            "zerolinecolor": "rgb(36,36,36)"
           },
           "yaxis": {
            "backgroundcolor": "white",
            "gridcolor": "rgb(232,232,232)",
            "gridwidth": 2,
            "linecolor": "rgb(36,36,36)",
            "showbackground": true,
            "showgrid": false,
            "showline": true,
            "ticks": "outside",
            "zeroline": false,
            "zerolinecolor": "rgb(36,36,36)"
           },
           "zaxis": {
            "backgroundcolor": "white",
            "gridcolor": "rgb(232,232,232)",
            "gridwidth": 2,
            "linecolor": "rgb(36,36,36)",
            "showbackground": true,
            "showgrid": false,
            "showline": true,
            "ticks": "outside",
            "zeroline": false,
            "zerolinecolor": "rgb(36,36,36)"
           }
          },
          "shapedefaults": {
           "fillcolor": "black",
           "line": {
            "width": 0
           },
           "opacity": 0.3
          },
          "ternary": {
           "aaxis": {
            "gridcolor": "rgb(232,232,232)",
            "linecolor": "rgb(36,36,36)",
            "showgrid": false,
            "showline": true,
            "ticks": "outside"
           },
           "baxis": {
            "gridcolor": "rgb(232,232,232)",
            "linecolor": "rgb(36,36,36)",
            "showgrid": false,
            "showline": true,
            "ticks": "outside"
           },
           "bgcolor": "white",
           "caxis": {
            "gridcolor": "rgb(232,232,232)",
            "linecolor": "rgb(36,36,36)",
            "showgrid": false,
            "showline": true,
            "ticks": "outside"
           }
          },
          "title": {
           "x": 0.05
          },
          "xaxis": {
           "automargin": true,
           "gridcolor": "rgb(232,232,232)",
           "linecolor": "rgb(36,36,36)",
           "showgrid": true,
           "showline": true,
           "ticks": "outside",
           "title": {
            "standoff": 15
           },
           "zeroline": false,
           "zerolinecolor": "rgb(36,36,36)"
          },
          "yaxis": {
           "automargin": true,
           "gridcolor": "rgb(232,232,232)",
           "linecolor": "rgb(36,36,36)",
           "showgrid": true,
           "showline": true,
           "ticks": "outside",
           "title": {
            "standoff": 15
           },
           "zeroline": false,
           "zerolinecolor": "rgb(36,36,36)"
          }
         }
        },
        "width": 800,
        "xaxis": {
         "anchor": "y",
         "domain": [
          0,
          1
         ],
         "title": {
          "text": "Days"
         }
        },
        "yaxis": {
         "anchor": "x",
         "domain": [
          0,
          1
         ],
         "title": {
          "text": "New cases per day"
         }
        }
       }
      },
      "text/html": "<div>\n        \n        \n            <div id=\"27cac722-012f-4c00-b842-64b8ad84888c\" class=\"plotly-graph-div\" style=\"height:525px; width:800px;\"></div>\n            <script type=\"text/javascript\">\n                require([\"plotly\"], function(Plotly) {\n                    window.PLOTLYENV=window.PLOTLYENV || {};\n                    \n                if (document.getElementById(\"27cac722-012f-4c00-b842-64b8ad84888c\")) {\n                    Plotly.newPlot(\n                        '27cac722-012f-4c00-b842-64b8ad84888c',\n                        [{\"hovertemplate\": \"scenario=simulated<br>time=%{x}<br>infection_rate=%{y}<extra></extra>\", \"legendgroup\": \"simulated\", \"line\": {\"color\": \"#1F77B4\", \"dash\": \"solid\"}, \"mode\": \"lines\", \"name\": \"simulated\", \"orientation\": \"v\", \"showlegend\": true, \"type\": \"scatter\", \"x\": [1.0, 1.5, 2.0, 2.5, 3.0, 3.5, 4.0, 4.5, 5.0, 5.5, 6.0, 6.5, 7.0, 7.5, 8.0, 8.5, 9.0, 9.5, 10.0, 10.5, 11.0, 11.5, 12.0, 12.5, 13.0, 13.5, 14.0, 14.5, 15.0, 15.5, 16.0, 16.5, 17.0, 17.5, 18.0, 18.5, 19.0, 19.5, 20.0, 20.5, 21.0, 21.5, 22.0, 22.5, 23.0, 23.5, 24.0, 24.5, 25.0, 25.5, 26.0, 26.5, 27.0, 27.5, 28.0, 28.5, 29.0, 29.5, 30.0, 30.5, 31.0, 31.5, 32.0, 32.5, 33.0, 33.5, 34.0, 34.5, 35.0, 35.5, 36.0, 36.5, 37.0, 37.5, 38.0, 38.5, 39.0, 39.5, 40.0, 40.5, 41.0, 41.5, 42.0, 42.5, 43.0, 43.5, 44.0, 44.5, 45.0, 45.5, 46.0, 46.5, 47.0, 47.5, 48.0, 48.5, 49.0, 49.5, 50.0, 50.5, 51.0, 51.5, 52.0, 52.5, 53.0, 53.5, 54.0, 54.5, 55.0, 55.5, 56.0, 56.5, 57.0, 57.5, 58.0, 58.5, 59.0, 59.5, 60.0, 60.5, 61.0, 61.5, 62.0, 62.5, 63.0, 63.5, 64.0, 64.5, 65.0, 65.5, 66.0, 66.5, 67.0, 67.5, 68.0, 68.5, 69.0, 69.5, 70.0, 70.5, 71.0, 71.5, 72.0, 72.5, 73.0, 73.5, 74.0, 74.5, 75.0, 75.5, 76.0, 76.5, 77.0, 77.5, 78.0, 78.5, 79.0, 79.5, 80.0, 80.5, 81.0, 81.5, 82.0, 82.5, 83.0, 83.5, 84.0, 84.5, 85.0, 85.5, 86.0, 86.5, 87.0, 87.5, 88.0, 88.5, 89.0, 89.5, 90.0, 90.5, 91.0, 91.5, 92.0, 92.5, 93.0, 93.5, 94.0, 94.5, 95.0, 95.5, 96.0, 96.5, 97.0, 97.5, 98.0, 98.5, 99.0, 99.5, 100.0, 100.5, 101.0, 101.5, 102.0, 102.5, 103.0, 103.5, 104.0, 104.5, 105.0, 105.5, 106.0, 106.5, 107.0, 107.5, 108.0, 108.5, 109.0, 109.5, 110.0, 110.5, 111.0, 111.5, 112.0, 112.5, 113.0, 113.5, 114.0, 114.5, 115.0, 115.5, 116.0, 116.5, 117.0, 117.5, 118.0, 118.5, 119.0, 119.5, 120.0, 120.5, 121.0, 121.5, 122.0, 122.5, 123.0, 123.5, 124.0, 124.5, 125.0, 125.5, 126.0, 126.5, 127.0, 127.5, 128.0, 128.5, 129.0, 129.5, 130.0, 130.5, 131.0, 131.5, 132.0, 132.5, 133.0, 133.5, 134.0, 134.5, 135.0, 135.5, 136.0, 136.5, 137.0, 137.5, 138.0, 138.5, 139.0, 139.5, 140.0, 140.5, 141.0, 141.5, 142.0, 142.5, 143.0, 143.5, 144.0, 144.5, 145.0, 145.5, 146.0, 146.5], \"xaxis\": \"x\", \"y\": [0.7843137254901962, 0.7843137254901962, 0.7309436180173753, 0.689766539309947, 0.6589543547051128, 0.6369849227702915, 0.6225924971436346, 0.6147262413063888, 0.6125155326847571, 0.6152409485817705, 0.6223100072672004, 0.6332368888642198, 0.6476254872837963, 0.6651552504035951, 0.6855693543411783, 0.7086648318545248, 0.7342843369785238, 0.7623092799506794, 0.7926541099467286, 0.8252615595211453, 0.8600986950866009, 0.8971536432393716, 0.9364328840552402, 0.9779590203210861, 1.0217689465988353, 1.0679123545157607, 1.1164505211358275, 1.1674553360234683, 1.2210085299421884, 1.2772010742686521, 1.3361327253432749, 1.3979116922839399, 1.46265441039673, 1.530485405340747, 1.6015372357387132, 1.6759505040511475, 1.753873927316372, 1.8354644608574635, 1.9208874693174387, 2.0103169404446417, 2.1039357379443926, 2.2019358904679263, 2.3045189144485367, 2.4118961690369374, 2.524289241849291, 2.6419303646356798, 2.7650628583153583, 2.8939416071173683, 3.0288335618191153, 3.170018272297844, 3.3177884498063364, 3.4724505595592747, 3.6343254443745305, 3.8037489802575117, 3.9810727649494693, 4.16666484058471, 4.360910451718993, 4.564212840103764, 4.776994077689753, 4.999695939450117, 5.232780817718759, 5.47673267984479, 5.732058071069988, 5.9992871646433885, 6.278974861296408, 6.571701940313769, 6.878076264550447, 7.19873404186344, 7.534341145549807, 7.885594496509535, 8.253223509983775, 8.637991609856341, 9.04069781364936, 9.462178391492925, 9.903308602504236, 10.365004512173906, 10.848224894526716, 11.353973223001256, 11.883299754177974, 12.437303708678817, 13.017135553764012, 13.623999392363302, 14.259155463500404, 14.923922759301139, 15.619681764018116, 16.347877320758492, 17.110021631866708, 17.90769739919185, 18.742561110759937, 19.616346480675517, 20.530868049395316, 21.488024951849795, 22.48980486123698, 23.538288116677975, 24.635652043305218, 25.78417547375426, 26.986243480448167, 28.24435232850125, 29.56111465952707, 30.939264917115104, 32.38166502524236, 33.891310331411354, 35.47133582685568, 37.12502265672968, 38.855804933800805, 40.667276869793675, 42.56320023919408, 44.54751219101198, 46.624333424724526, 48.797976747376794, 51.072956029609, 53.4539955792076, 55.946039951644195, 58.554264217974016, 61.28408471141497, 64.14117027492229, 67.13145403311412, 70.26114571299193, 73.53674453903913, 76.96505272947398, 80.55318962168074, 84.3086064561495, 88.23910184962241, 92.35283798957457, 96.65835758365594, 101.16460159928765, 105.88092783024659, 110.81713032878928, 115.98345974366259, 121.39064460622984, 127.0499136089087, 132.97301892217797, 139.17226059856552, 145.66051211428646, 152.45124710156296, 159.5585673271269, 166.99723197499597, 174.78268829431843, 182.93110367591746, 191.45939922413015, 200.38528489364055, 209.72729626425397, 219.50483302995983, 229.73819928218765, 240.4486456708851, 251.6584135309438, 263.39078106557736, 275.6701116825245, 288.5219045834184, 301.97284771133775, 316.050873166449, 330.7852152047706, 346.20647094045, 362.3466638775502, 379.2393104032196, 396.9194893802548, 415.42391498350213, 434.79101293126854, 455.0610002699573, 476.2759688775127, 498.47997285897196, 521.7191200154928, 546.0416675766764, 571.4981223948423, 598.1413458091663, 626.0266633972753, 655.2119798420241, 685.757899151786, 717.7278504836838, 751.1882198308056, 786.208487846598, 770.541810856031, 769.8233787089929, 796.9494837189305, 813.8859782372043, 811.4836424497188, 813.5524478981754, 856.9034059377005, 843.9618199427072, 833.1332093955793, 894.9828472623303, 940.5550574194936, 918.8390133208786, 941.2835302998471, 909.607484803988, 921.213014390791, 1015.1472977824652, 1066.3064229783106, 1146.7976847079342, 1186.2488581578723, 1214.0972218117413, 1300.8300875269326, 1374.6274516420428, 1396.7410133487845, 1460.9827801208287, 1420.5904178874, 1392.7787171986274, 1504.6082348567634, 1403.8639748697615, 1461.55957199145, 1437.422423898449, 1529.0624261150417, 1593.246698943604, 1515.5697662507403, 1676.2436266320055, 1809.25509037398, 1747.4322165410701, 1827.768468226623, 1720.3685121014223, 1916.1784142156428, 1871.7668340853495, 1850.9644605641236, 1784.5430484460796, 1970.4130463861334, 1934.735158654489, 2139.46452185278, 1973.1299015345492, 2179.7097735218795, 2266.0438078482025, 2132.3971927916377, 2371.5019231032697, 2597.607625451854, 2583.426358548875, 2510.359417454821, 2607.4712014696534, 2589.8615813260476, 2535.387416942562, 2654.959983730773, 2973.4474952168707, 2764.942137293305, 2633.5872657357577, 2474.574341209071, 2686.075699090169, 2826.8394193612194, 2941.8955782122994, 2940.222248507034, 3094.1792748885755, 3033.797098070631, 2955.9135246613596, 2788.717131533956, 2969.6218568662753, 3147.233553115282, 3020.311427751572, 3039.731242019783, 2913.63744745692, 2992.587193096898, 2803.5987152453504, 3049.0859001250583, 2964.100287476414, 3098.501807423341, 3233.483794086591, 3335.562606259207, 3294.880237588887, 3693.5801959404835, 3966.258532510496, 4360.876244662933, 4361.513124350652, 4143.365666908261, 4621.584550284505, 4317.330318915492, 4573.04033266126, 4951.600164218228, 5004.9543683034535, 5260.149260345153, 5651.719763877791, 6152.701052192125, 6132.625750566229, 6515.1736690309435, 6666.307424352138, 6724.204593339391, 6404.741820631145, 6729.110441749809, 6646.7791704069405, 6685.385870280522, 6390.329362894749, 7089.079218158679, 7311.898892334529, 7735.098491648052, 7181.967836844692, 7657.301202278133, 7600.066009012162, 8407.889800338999, 8620.117506695371, 8997.20292785444, 9423.312501803255, 9525.446303926868, 9434.35614946479, 8862.946525580839, 8516.266413971083, 9257.993305317113, 9373.19666760335, 10499.739350110956], \"yaxis\": \"y\"}, {\"line\": {\"color\": \"red\"}, \"mode\": \"lines\", \"name\": \"historical data\", \"showlegend\": true, \"type\": \"scatter\", \"x\": [0, 1, 2, 3, 4, 5, 6, 7, 8, 9, 10, 11, 12, 13, 14, 15, 16, 17, 18, 19, 20, 21, 22, 23, 24, 25, 26, 27, 28, 29, 30, 31, 32, 33, 34, 35, 36, 37, 38, 39, 40, 41, 42, 43, 44, 45, 46, 47, 48, 49, 50, 51, 52, 53, 54, 55, 56, 57, 58, 59, 60, 61, 62, 63, 64, 65, 66, 67, 68, 69, 70, 71, 72, 73, 74, 75, 76, 77, 78, 79, 80, 81, 82, 83, 84, 85, 86, 87, 88, 89, 90, 91, 92, 93, 94, 95, 96, 97, 98, 99, 100, 101, 102, 103, 104, 105, 106, 107, 108, 109, 110, 111, 112, 113, 114, 115, 116, 117, 118, 119, 120, 121, 122, 123, 124, 125, 126, 127, 128, 129, 130, 131, 132, 133, 134, 135, 136, 137, 138, 139, 140, 141, 142, 143, 144, 145, 146], \"y\": [0.0, 0.0, 0.0, 0.0, 0.0, 0.0, 0.0, 0.0, 0.0, 0.0, 0.0, 0.0, 0.0, 0.0, 0.0, 0.0, 0.0, 0.0, 0.0, 0.0, 0.0, 0.0, 0.0, 0.0, 0.0, 0.0, 0.0, 0.0, 0.0, 0.0, 1.0, 0.0, 0.0, 1.0, 0.0, 1.0, 0.0, 0.0, 0.0, 0.0, 0.0, 0.0, 0.0, 0.0, 0.0, 0.0, 0.0, 0.0, 0.0, 0.0, 0.0, 0.0, 0.0, 0.0, 0.0, 0.0, 0.0, 0.0, 0.0, 0.0, 0.0, 0.0, 0.0, 2.0, 1.0, 22.0, 1.0, 2.0, 3.0, null, 10.0, 6.0, 23.0, 2.0, 8.0, 7.0, 3.0, 32.0, 12.0, 28.0, 26.0, 40.0, 89.0, 119.0, 53.0, 70.0, 87.0, 75.0, 149.0, 106.0, 92.0, 180.0, 146.0, 568.0, 336.0, 601.0, 472.0, 693.0, 354.0, 773.0, 540.0, 678.0, 1035.0, 909.0, 796.0, 1211.0, 1075.0, 942.0, 1007.0, 991.0, 1334.0, 1553.0, 1335.0, 1384.0, 1409.0, 1684.0, 1429.0, 1990.0, 1396.0, 1543.0, 1897.0, 1718.0, 1993.0, 2293.0, 2644.0, 2553.0, 3900.0, 2958.0, 3561.0, 3390.0, 3320.0, 3277.0, 4213.0, 3604.0, 3525.0, 3722.0, 3967.0, 3970.0, 4987.0, 5242.0, 4970.0, 5611.0, 5609.0, 6088.0, 6654.0, 6767.0, 6977.0]}],\n                        {\"legend\": {\"orientation\": \"h\", \"title\": {\"text\": \"scenario\"}, \"tracegroupgap\": 0}, \"margin\": {\"t\": 60}, \"template\": {\"data\": {\"bar\": [{\"error_x\": {\"color\": \"rgb(36,36,36)\"}, \"error_y\": {\"color\": \"rgb(36,36,36)\"}, \"marker\": {\"line\": {\"color\": \"white\", \"width\": 0.5}}, \"type\": \"bar\"}], \"barpolar\": [{\"marker\": {\"line\": {\"color\": \"white\", \"width\": 0.5}}, \"type\": \"barpolar\"}], \"carpet\": [{\"aaxis\": {\"endlinecolor\": \"rgb(36,36,36)\", \"gridcolor\": \"white\", \"linecolor\": \"white\", \"minorgridcolor\": \"white\", \"startlinecolor\": \"rgb(36,36,36)\"}, \"baxis\": {\"endlinecolor\": \"rgb(36,36,36)\", \"gridcolor\": \"white\", \"linecolor\": \"white\", \"minorgridcolor\": \"white\", \"startlinecolor\": \"rgb(36,36,36)\"}, \"type\": \"carpet\"}], \"choropleth\": [{\"colorbar\": {\"outlinewidth\": 1, \"tickcolor\": \"rgb(36,36,36)\", \"ticks\": \"outside\"}, \"type\": \"choropleth\"}], \"contour\": [{\"colorbar\": {\"outlinewidth\": 1, \"tickcolor\": \"rgb(36,36,36)\", \"ticks\": \"outside\"}, \"colorscale\": [[0.0, \"#440154\"], [0.1111111111111111, \"#482878\"], [0.2222222222222222, \"#3e4989\"], [0.3333333333333333, \"#31688e\"], [0.4444444444444444, \"#26828e\"], [0.5555555555555556, \"#1f9e89\"], [0.6666666666666666, \"#35b779\"], [0.7777777777777778, \"#6ece58\"], [0.8888888888888888, \"#b5de2b\"], [1.0, \"#fde725\"]], \"type\": \"contour\"}], \"contourcarpet\": [{\"colorbar\": {\"outlinewidth\": 1, \"tickcolor\": \"rgb(36,36,36)\", \"ticks\": \"outside\"}, \"type\": \"contourcarpet\"}], \"heatmap\": [{\"colorbar\": {\"outlinewidth\": 1, \"tickcolor\": \"rgb(36,36,36)\", \"ticks\": \"outside\"}, \"colorscale\": [[0.0, \"#440154\"], [0.1111111111111111, \"#482878\"], [0.2222222222222222, \"#3e4989\"], [0.3333333333333333, \"#31688e\"], [0.4444444444444444, \"#26828e\"], [0.5555555555555556, \"#1f9e89\"], [0.6666666666666666, \"#35b779\"], [0.7777777777777778, \"#6ece58\"], [0.8888888888888888, \"#b5de2b\"], [1.0, \"#fde725\"]], \"type\": \"heatmap\"}], \"heatmapgl\": [{\"colorbar\": {\"outlinewidth\": 1, \"tickcolor\": \"rgb(36,36,36)\", \"ticks\": \"outside\"}, \"colorscale\": [[0.0, \"#440154\"], [0.1111111111111111, \"#482878\"], [0.2222222222222222, \"#3e4989\"], [0.3333333333333333, \"#31688e\"], [0.4444444444444444, \"#26828e\"], [0.5555555555555556, \"#1f9e89\"], [0.6666666666666666, \"#35b779\"], [0.7777777777777778, \"#6ece58\"], [0.8888888888888888, \"#b5de2b\"], [1.0, \"#fde725\"]], \"type\": \"heatmapgl\"}], \"histogram\": [{\"marker\": {\"line\": {\"color\": \"white\", \"width\": 0.6}}, \"type\": \"histogram\"}], \"histogram2d\": [{\"colorbar\": {\"outlinewidth\": 1, \"tickcolor\": \"rgb(36,36,36)\", \"ticks\": \"outside\"}, \"colorscale\": [[0.0, \"#440154\"], [0.1111111111111111, \"#482878\"], [0.2222222222222222, \"#3e4989\"], [0.3333333333333333, \"#31688e\"], [0.4444444444444444, \"#26828e\"], [0.5555555555555556, \"#1f9e89\"], [0.6666666666666666, \"#35b779\"], [0.7777777777777778, \"#6ece58\"], [0.8888888888888888, \"#b5de2b\"], [1.0, \"#fde725\"]], \"type\": \"histogram2d\"}], \"histogram2dcontour\": [{\"colorbar\": {\"outlinewidth\": 1, \"tickcolor\": \"rgb(36,36,36)\", \"ticks\": \"outside\"}, \"colorscale\": [[0.0, \"#440154\"], [0.1111111111111111, \"#482878\"], [0.2222222222222222, \"#3e4989\"], [0.3333333333333333, \"#31688e\"], [0.4444444444444444, \"#26828e\"], [0.5555555555555556, \"#1f9e89\"], [0.6666666666666666, \"#35b779\"], [0.7777777777777778, \"#6ece58\"], [0.8888888888888888, \"#b5de2b\"], [1.0, \"#fde725\"]], \"type\": \"histogram2dcontour\"}], \"mesh3d\": [{\"colorbar\": {\"outlinewidth\": 1, \"tickcolor\": \"rgb(36,36,36)\", \"ticks\": \"outside\"}, \"type\": \"mesh3d\"}], \"parcoords\": [{\"line\": {\"colorbar\": {\"outlinewidth\": 1, \"tickcolor\": \"rgb(36,36,36)\", \"ticks\": \"outside\"}}, \"type\": \"parcoords\"}], \"pie\": [{\"automargin\": true, \"type\": \"pie\"}], \"scatter\": [{\"marker\": {\"colorbar\": {\"outlinewidth\": 1, \"tickcolor\": \"rgb(36,36,36)\", \"ticks\": \"outside\"}}, \"type\": \"scatter\"}], \"scatter3d\": [{\"line\": {\"colorbar\": {\"outlinewidth\": 1, \"tickcolor\": \"rgb(36,36,36)\", \"ticks\": \"outside\"}}, \"marker\": {\"colorbar\": {\"outlinewidth\": 1, \"tickcolor\": \"rgb(36,36,36)\", \"ticks\": \"outside\"}}, \"type\": \"scatter3d\"}], \"scattercarpet\": [{\"marker\": {\"colorbar\": {\"outlinewidth\": 1, \"tickcolor\": \"rgb(36,36,36)\", \"ticks\": \"outside\"}}, \"type\": \"scattercarpet\"}], \"scattergeo\": [{\"marker\": {\"colorbar\": {\"outlinewidth\": 1, \"tickcolor\": \"rgb(36,36,36)\", \"ticks\": \"outside\"}}, \"type\": \"scattergeo\"}], \"scattergl\": [{\"marker\": {\"colorbar\": {\"outlinewidth\": 1, \"tickcolor\": \"rgb(36,36,36)\", \"ticks\": \"outside\"}}, \"type\": \"scattergl\"}], \"scattermapbox\": [{\"marker\": {\"colorbar\": {\"outlinewidth\": 1, \"tickcolor\": \"rgb(36,36,36)\", \"ticks\": \"outside\"}}, \"type\": \"scattermapbox\"}], \"scatterpolar\": [{\"marker\": {\"colorbar\": {\"outlinewidth\": 1, \"tickcolor\": \"rgb(36,36,36)\", \"ticks\": \"outside\"}}, \"type\": \"scatterpolar\"}], \"scatterpolargl\": [{\"marker\": {\"colorbar\": {\"outlinewidth\": 1, \"tickcolor\": \"rgb(36,36,36)\", \"ticks\": \"outside\"}}, \"type\": \"scatterpolargl\"}], \"scatterternary\": [{\"marker\": {\"colorbar\": {\"outlinewidth\": 1, \"tickcolor\": \"rgb(36,36,36)\", \"ticks\": \"outside\"}}, \"type\": \"scatterternary\"}], \"surface\": [{\"colorbar\": {\"outlinewidth\": 1, \"tickcolor\": \"rgb(36,36,36)\", \"ticks\": \"outside\"}, \"colorscale\": [[0.0, \"#440154\"], [0.1111111111111111, \"#482878\"], [0.2222222222222222, \"#3e4989\"], [0.3333333333333333, \"#31688e\"], [0.4444444444444444, \"#26828e\"], [0.5555555555555556, \"#1f9e89\"], [0.6666666666666666, \"#35b779\"], [0.7777777777777778, \"#6ece58\"], [0.8888888888888888, \"#b5de2b\"], [1.0, \"#fde725\"]], \"type\": \"surface\"}], \"table\": [{\"cells\": {\"fill\": {\"color\": \"rgb(237,237,237)\"}, \"line\": {\"color\": \"white\"}}, \"header\": {\"fill\": {\"color\": \"rgb(217,217,217)\"}, \"line\": {\"color\": \"white\"}}, \"type\": \"table\"}]}, \"layout\": {\"annotationdefaults\": {\"arrowhead\": 0, \"arrowwidth\": 1}, \"coloraxis\": {\"colorbar\": {\"outlinewidth\": 1, \"tickcolor\": \"rgb(36,36,36)\", \"ticks\": \"outside\"}}, \"colorscale\": {\"diverging\": [[0.0, \"rgb(103,0,31)\"], [0.1, \"rgb(178,24,43)\"], [0.2, \"rgb(214,96,77)\"], [0.3, \"rgb(244,165,130)\"], [0.4, \"rgb(253,219,199)\"], [0.5, \"rgb(247,247,247)\"], [0.6, \"rgb(209,229,240)\"], [0.7, \"rgb(146,197,222)\"], [0.8, \"rgb(67,147,195)\"], [0.9, \"rgb(33,102,172)\"], [1.0, \"rgb(5,48,97)\"]], \"sequential\": [[0.0, \"#440154\"], [0.1111111111111111, \"#482878\"], [0.2222222222222222, \"#3e4989\"], [0.3333333333333333, \"#31688e\"], [0.4444444444444444, \"#26828e\"], [0.5555555555555556, \"#1f9e89\"], [0.6666666666666666, \"#35b779\"], [0.7777777777777778, \"#6ece58\"], [0.8888888888888888, \"#b5de2b\"], [1.0, \"#fde725\"]], \"sequentialminus\": [[0.0, \"#440154\"], [0.1111111111111111, \"#482878\"], [0.2222222222222222, \"#3e4989\"], [0.3333333333333333, \"#31688e\"], [0.4444444444444444, \"#26828e\"], [0.5555555555555556, \"#1f9e89\"], [0.6666666666666666, \"#35b779\"], [0.7777777777777778, \"#6ece58\"], [0.8888888888888888, \"#b5de2b\"], [1.0, \"#fde725\"]]}, \"colorway\": [\"#1F77B4\", \"#FF7F0E\", \"#2CA02C\", \"#D62728\", \"#9467BD\", \"#8C564B\", \"#E377C2\", \"#7F7F7F\", \"#BCBD22\", \"#17BECF\"], \"font\": {\"color\": \"rgb(36,36,36)\"}, \"geo\": {\"bgcolor\": \"white\", \"lakecolor\": \"white\", \"landcolor\": \"white\", \"showlakes\": true, \"showland\": true, \"subunitcolor\": \"white\"}, \"hoverlabel\": {\"align\": \"left\"}, \"hovermode\": \"closest\", \"mapbox\": {\"style\": \"light\"}, \"paper_bgcolor\": \"white\", \"plot_bgcolor\": \"white\", \"polar\": {\"angularaxis\": {\"gridcolor\": \"rgb(232,232,232)\", \"linecolor\": \"rgb(36,36,36)\", \"showgrid\": false, \"showline\": true, \"ticks\": \"outside\"}, \"bgcolor\": \"white\", \"radialaxis\": {\"gridcolor\": \"rgb(232,232,232)\", \"linecolor\": \"rgb(36,36,36)\", \"showgrid\": false, \"showline\": true, \"ticks\": \"outside\"}}, \"scene\": {\"xaxis\": {\"backgroundcolor\": \"white\", \"gridcolor\": \"rgb(232,232,232)\", \"gridwidth\": 2, \"linecolor\": \"rgb(36,36,36)\", \"showbackground\": true, \"showgrid\": false, \"showline\": true, \"ticks\": \"outside\", \"zeroline\": false, \"zerolinecolor\": \"rgb(36,36,36)\"}, \"yaxis\": {\"backgroundcolor\": \"white\", \"gridcolor\": \"rgb(232,232,232)\", \"gridwidth\": 2, \"linecolor\": \"rgb(36,36,36)\", \"showbackground\": true, \"showgrid\": false, \"showline\": true, \"ticks\": \"outside\", \"zeroline\": false, \"zerolinecolor\": \"rgb(36,36,36)\"}, \"zaxis\": {\"backgroundcolor\": \"white\", \"gridcolor\": \"rgb(232,232,232)\", \"gridwidth\": 2, \"linecolor\": \"rgb(36,36,36)\", \"showbackground\": true, \"showgrid\": false, \"showline\": true, \"ticks\": \"outside\", \"zeroline\": false, \"zerolinecolor\": \"rgb(36,36,36)\"}}, \"shapedefaults\": {\"fillcolor\": \"black\", \"line\": {\"width\": 0}, \"opacity\": 0.3}, \"ternary\": {\"aaxis\": {\"gridcolor\": \"rgb(232,232,232)\", \"linecolor\": \"rgb(36,36,36)\", \"showgrid\": false, \"showline\": true, \"ticks\": \"outside\"}, \"baxis\": {\"gridcolor\": \"rgb(232,232,232)\", \"linecolor\": \"rgb(36,36,36)\", \"showgrid\": false, \"showline\": true, \"ticks\": \"outside\"}, \"bgcolor\": \"white\", \"caxis\": {\"gridcolor\": \"rgb(232,232,232)\", \"linecolor\": \"rgb(36,36,36)\", \"showgrid\": false, \"showline\": true, \"ticks\": \"outside\"}}, \"title\": {\"x\": 0.05}, \"xaxis\": {\"automargin\": true, \"gridcolor\": \"rgb(232,232,232)\", \"linecolor\": \"rgb(36,36,36)\", \"showgrid\": true, \"showline\": true, \"ticks\": \"outside\", \"title\": {\"standoff\": 15}, \"zeroline\": false, \"zerolinecolor\": \"rgb(36,36,36)\"}, \"yaxis\": {\"automargin\": true, \"gridcolor\": \"rgb(232,232,232)\", \"linecolor\": \"rgb(36,36,36)\", \"showgrid\": true, \"showline\": true, \"ticks\": \"outside\", \"title\": {\"standoff\": 15}, \"zeroline\": false, \"zerolinecolor\": \"rgb(36,36,36)\"}}}, \"width\": 800, \"xaxis\": {\"anchor\": \"y\", \"domain\": [0.0, 1.0], \"title\": {\"text\": \"Days\"}}, \"yaxis\": {\"anchor\": \"x\", \"domain\": [0.0, 1.0], \"title\": {\"text\": \"New cases per day\"}}},\n                        {\"responsive\": true}\n                    ).then(function(){\n                            \nvar gd = document.getElementById('27cac722-012f-4c00-b842-64b8ad84888c');\nvar x = new MutationObserver(function (mutations, observer) {{\n        var display = window.getComputedStyle(gd).display;\n        if (!display || display === 'none') {{\n            console.log([gd, 'removed!']);\n            Plotly.purge(gd);\n            observer.disconnect();\n        }}\n}});\n\n// Listen for the removal of the full notebook cells\nvar notebookContainer = gd.closest('#notebook-container');\nif (notebookContainer) {{\n    x.observe(notebookContainer, {childList: true});\n}}\n\n// Listen for the clearing of the current output cell\nvar outputEl = gd.closest('.output');\nif (outputEl) {{\n    x.observe(outputEl, {childList: true});\n}}\n\n                        })\n                };\n                });\n            </script>\n        </div>"
     },
     "metadata": {}
    },
    {
     "output_type": "stream",
     "name": "stdout",
     "text": "writing file  6.0.00.2020/2020-08-26 - Reference plot-infection_rate\n"
    }
   ],
   "source": [
    "sim.reference_plot(sim.get_run_data(),reference,'infection_rate','new_cases','Days','New cases per day','','Reference plot')"
   ]
  },
  {
   "cell_type": "markdown",
   "metadata": {},
   "source": [
    "## Total cases \n",
    "Comparison of historical and simulated total cases over the first 146 days of the pandemic"
   ]
  },
  {
   "cell_type": "code",
   "execution_count": 5,
   "metadata": {
    "tags": []
   },
   "outputs": [
    {
     "output_type": "display_data",
     "data": {
      "application/vnd.plotly.v1+json": {
       "config": {
        "plotlyServerURL": "https://plot.ly"
       },
       "data": [
        {
         "hovertemplate": "scenario=simulated<br>time=%{x}<br>total_infected=%{y}<extra></extra>",
         "legendgroup": "simulated",
         "line": {
          "color": "#1F77B4",
          "dash": "solid"
         },
         "mode": "lines",
         "name": "simulated",
         "orientation": "v",
         "showlegend": true,
         "type": "scatter",
         "x": [
          1,
          1.5,
          2,
          2.5,
          3,
          3.5,
          4,
          4.5,
          5,
          5.5,
          6,
          6.5,
          7,
          7.5,
          8,
          8.5,
          9,
          9.5,
          10,
          10.5,
          11,
          11.5,
          12,
          12.5,
          13,
          13.5,
          14,
          14.5,
          15,
          15.5,
          16,
          16.5,
          17,
          17.5,
          18,
          18.5,
          19,
          19.5,
          20,
          20.5,
          21,
          21.5,
          22,
          22.5,
          23,
          23.5,
          24,
          24.5,
          25,
          25.5,
          26,
          26.5,
          27,
          27.5,
          28,
          28.5,
          29,
          29.5,
          30,
          30.5,
          31,
          31.5,
          32,
          32.5,
          33,
          33.5,
          34,
          34.5,
          35,
          35.5,
          36,
          36.5,
          37,
          37.5,
          38,
          38.5,
          39,
          39.5,
          40,
          40.5,
          41,
          41.5,
          42,
          42.5,
          43,
          43.5,
          44,
          44.5,
          45,
          45.5,
          46,
          46.5,
          47,
          47.5,
          48,
          48.5,
          49,
          49.5,
          50,
          50.5,
          51,
          51.5,
          52,
          52.5,
          53,
          53.5,
          54,
          54.5,
          55,
          55.5,
          56,
          56.5,
          57,
          57.5,
          58,
          58.5,
          59,
          59.5,
          60,
          60.5,
          61,
          61.5,
          62,
          62.5,
          63,
          63.5,
          64,
          64.5,
          65,
          65.5,
          66,
          66.5,
          67,
          67.5,
          68,
          68.5,
          69,
          69.5,
          70,
          70.5,
          71,
          71.5,
          72,
          72.5,
          73,
          73.5,
          74,
          74.5,
          75,
          75.5,
          76,
          76.5,
          77,
          77.5,
          78,
          78.5,
          79,
          79.5,
          80,
          80.5,
          81,
          81.5,
          82,
          82.5,
          83,
          83.5,
          84,
          84.5,
          85,
          85.5,
          86,
          86.5,
          87,
          87.5,
          88,
          88.5,
          89,
          89.5,
          90,
          90.5,
          91,
          91.5,
          92,
          92.5,
          93,
          93.5,
          94,
          94.5,
          95,
          95.5,
          96,
          96.5,
          97,
          97.5,
          98,
          98.5,
          99,
          99.5,
          100,
          100.5,
          101,
          101.5,
          102,
          102.5,
          103,
          103.5,
          104,
          104.5,
          105,
          105.5,
          106,
          106.5,
          107,
          107.5,
          108,
          108.5,
          109,
          109.5,
          110,
          110.5,
          111,
          111.5,
          112,
          112.5,
          113,
          113.5,
          114,
          114.5,
          115,
          115.5,
          116,
          116.5,
          117,
          117.5,
          118,
          118.5,
          119,
          119.5,
          120,
          120.5,
          121,
          121.5,
          122,
          122.5,
          123,
          123.5,
          124,
          124.5,
          125,
          125.5,
          126,
          126.5,
          127,
          127.5,
          128,
          128.5,
          129,
          129.5,
          130,
          130.5,
          131,
          131.5,
          132,
          132.5,
          133,
          133.5,
          134,
          134.5,
          135,
          135.5,
          136,
          136.5,
          137,
          137.5,
          138,
          138.5,
          139,
          139.5,
          140,
          140.5,
          141,
          141.5,
          142,
          142.5,
          143,
          143.5,
          144,
          144.5,
          145,
          145.5,
          146,
          146.5
         ],
         "xaxis": "x",
         "y": [
          0,
          0,
          0.3921568627450981,
          0.7576286717537857,
          1.1025119414087592,
          1.4319891187613156,
          1.7504815801464613,
          2.0617778287182786,
          2.369140949371473,
          2.6753987157138512,
          2.9830191900047365,
          3.294174193638337,
          3.6107926380704467,
          3.9346053817123448,
          4.267183006914142,
          4.609967684084731,
          4.964300100011994,
          5.331442268501256,
          5.712596908476596,
          6.10892396344996,
          6.521554743210532,
          6.951604090753833,
          7.400180912373519,
          7.8683973544011385,
          8.357376864561681,
          8.8682613378611,
          9.40221751511898,
          9.960442775686895,
          10.54417044369863,
          11.154674708669724,
          11.79327524580405,
          12.461341608475689,
          13.160297454617659,
          13.891624659816024,
          14.656867362486398,
          15.457635980355755,
          16.29561123238133,
          17.172548196039514,
          18.090280426468247,
          19.050724161126965,
          20.055882631349284,
          21.10785050032148,
          22.208818445555444,
          23.361077902779712,
          24.56702598729818,
          25.829170608222825,
          27.150135790540663,
          28.532667219698343,
          29.979638023257028,
          31.494054804166584,
          33.07906394031551,
          34.73795816521867,
          36.47418344499831,
          38.29134616718557,
          40.19322065731433,
          42.183757039789064,
          44.26708946008142,
          46.44754468594092,
          48.7296511059928,
          51.118148144837676,
          53.617996114562736,
          56.23438652342212,
          58.97275286334451,
          61.8387818988795,
          64.8384254812012,
          67.9779129118494,
          71.26376388200629,
          74.70280201428152,
          78.30216903521324,
          82.06933960798814,
          86.0121368562429,
          90.13874861123479,
          94.45774441616295,
          98.97809332298763,
          103.7091825187341,
          108.66083681998622,
          113.84333907607316,
          119.26745152333652,
          124.94443813483714,
          130.88608801192612,
          137.10473986626553,
          143.61330764314755,
          150.4253073393292,
          157.5548850710794,
          165.01684645073,
          172.82668733273906,
          181.0006259931183,
          189.55563680905163,
          198.50948550864757,
          207.88076606402754,
          217.6889393043653,
          227.95437332906297,
          238.69838580498788,
          249.94328823560636,
          261.71243229394537,
          274.03025831559796,
          286.92234605247506,
          300.41546779269913,
          314.53764395694975,
          329.3182012867133,
          344.78783374527086,
          360.97866625789203,
          377.9243214235977,
          395.65998933702554,
          414.2225006653904,
          433.65040313229076,
          453.9840415671876,
          475.26564168678465,
          497.5393977822906,
          520.8515644946528,
          545.2505528683413,
          570.7870308831458,
          597.5140286727496,
          625.4870486485718,
          654.7641807575587,
          685.4062231132663,
          717.4768082507275,
          751.0425352672845,
          786.1731081237805,
          822.9414803933,
          861.424006758037,
          901.7006015688773,
          943.854904796952,
          987.9744557217632,
          1034.1508747165506,
          1082.4800535083784,
          1133.0623543080223,
          1186.0028182231456,
          1241.4113833875401,
          1299.4031132593714,
          1360.0984355624862,
          1423.6233923669406,
          1490.1099018280297,
          1559.6960321273125,
          1632.5262881844558,
          1708.7519117352372,
          1788.5311953988007,
          1872.0298113862987,
          1959.421155533458,
          2050.886707371417,
          2146.6164069834817,
          2246.809049430302,
          2351.6726975624288,
          2461.4251140774086,
          2576.2942137185023,
          2696.518536553945,
          2822.347743319417,
          2954.0431338522058,
          3091.878189693468,
          3236.139141985177,
          3387.125565840846,
          3545.15100242407,
          3710.5436100264556,
          3883.6468454966807,
          4064.8201774354557,
          4254.439832637066,
          4452.899577327193,
          4660.611534818944,
          4878.007041284578,
          5105.537541419557,
          5343.675525858313,
          5592.915512287799,
          5853.775072295545,
          6126.795906083884,
          6412.544967281305,
          6711.615640185888,
          7024.6289718845255,
          7352.234961805538,
          7695.113911381431,
          8053.977836623272,
          8429.571946538676,
          8822.676190461974,
          9207.94709588999,
          9592.858785244485,
          9991.33352710395,
          10398.276516222553,
          10804.018337447413,
          11210.7945613965,
          11639.24626436535,
          12061.227174336704,
          12477.793779034493,
          12925.285202665658,
          13395.562731375405,
          13854.982238035844,
          14325.624003185767,
          14780.42774558776,
          15241.034252783156,
          15748.60790167439,
          16281.761113163546,
          16855.159955517513,
          17448.28438459645,
          18055.33299550232,
          18705.748039265785,
          19393.061765086808,
          20091.4322717612,
          20821.923661821616,
          21532.218870765315,
          22228.60822936463,
          22980.91234679301,
          23682.84433422789,
          24413.624120223616,
          25132.33533217284,
          25896.86654523036,
          26693.489894702165,
          27451.274777827533,
          28289.396591143537,
          29194.02413633053,
          30067.740244601064,
          30981.624478714377,
          31841.808734765087,
          32799.89794187291,
          33735.781358915585,
          34661.263589197646,
          35553.53511342069,
          36538.741636613755,
          37506.109215941,
          38575.84147686738,
          39562.406427634654,
          40652.2613143956,
          41785.283218319695,
          42851.48181471552,
          44037.23277626715,
          45336.036588993076,
          46627.74976826752,
          47882.92947699493,
          49186.665077729755,
          50481.595868392775,
          51749.28957686406,
          53076.76956872945,
          54563.49331633788,
          55945.96438498453,
          57262.75801785241,
          58500.04518845694,
          59843.08303800203,
          61256.502747682636,
          62727.45053678878,
          64197.5616610423,
          65744.65129848658,
          67261.5498475219,
          68739.50660985259,
          70133.86517561956,
          71618.6761040527,
          73192.29288061034,
          74702.44859448614,
          76222.31421549602,
          77679.13293922448,
          79175.42653577293,
          80577.2258933956,
          82101.76884345814,
          83583.81898719634,
          85133.06989090801,
          86749.8117879513,
          88417.59309108091,
          90065.03320987536,
          91911.8233078456,
          93894.95257410084,
          96075.39069643231,
          98256.14725860764,
          100327.83009206178,
          102638.62236720404,
          104797.28752666178,
          107083.80769299241,
          109559.60777510153,
          112062.08495925325,
          114692.15958942582,
          117518.01947136472,
          120594.36999746079,
          123660.6828727439,
          126918.26970725937,
          130251.42341943544,
          133613.52571610513,
          136815.8966264207,
          140180.4518472956,
          143503.84143249906,
          146846.5343676393,
          150041.6990490867,
          153586.23865816602,
          157242.1881043333,
          161109.73735015732,
          164700.72126857965,
          168529.3718697187,
          172329.4048742248,
          176533.3497743943,
          180843.408527742,
          185342.0099916692,
          190053.66624257085,
          194816.3893945343,
          199533.56746926668,
          203965.0407320571,
          208223.17393904264,
          212852.1705917012,
          217538.76892550287
         ],
         "yaxis": "y"
        },
        {
         "line": {
          "color": "red"
         },
         "mode": "lines",
         "name": "historical data",
         "showlegend": true,
         "type": "scatter",
         "x": [
          0,
          1,
          2,
          3,
          4,
          5,
          6,
          7,
          8,
          9,
          10,
          11,
          12,
          13,
          14,
          15,
          16,
          17,
          18,
          19,
          20,
          21,
          22,
          23,
          24,
          25,
          26,
          27,
          28,
          29,
          30,
          31,
          32,
          33,
          34,
          35,
          36,
          37,
          38,
          39,
          40,
          41,
          42,
          43,
          44,
          45,
          46,
          47,
          48,
          49,
          50,
          51,
          52,
          53,
          54,
          55,
          56,
          57,
          58,
          59,
          60,
          61,
          62,
          63,
          64,
          65,
          66,
          67,
          68,
          69,
          70,
          71,
          72,
          73,
          74,
          75,
          76,
          77,
          78,
          79,
          80,
          81,
          82,
          83,
          84,
          85,
          86,
          87,
          88,
          89,
          90,
          91,
          92,
          93,
          94,
          95,
          96,
          97,
          98,
          99,
          100,
          101,
          102,
          103,
          104,
          105,
          106,
          107,
          108,
          109,
          110,
          111,
          112,
          113,
          114,
          115,
          116,
          117,
          118,
          119,
          120,
          121,
          122,
          123,
          124,
          125,
          126,
          127,
          128,
          129,
          130,
          131,
          132,
          133,
          134,
          135,
          136,
          137,
          138,
          139,
          140,
          141,
          142,
          143,
          144,
          145,
          146
         ],
         "y": [
          0,
          0,
          0,
          0,
          0,
          0,
          0,
          0,
          0,
          0,
          0,
          0,
          0,
          0,
          0,
          0,
          0,
          0,
          0,
          0,
          0,
          0,
          0,
          0,
          0,
          0,
          0,
          0,
          0,
          0,
          1,
          1,
          1,
          2,
          2,
          3,
          3,
          3,
          3,
          3,
          3,
          3,
          3,
          3,
          3,
          3,
          3,
          3,
          3,
          3,
          3,
          3,
          3,
          3,
          3,
          3,
          3,
          3,
          3,
          3,
          3,
          3,
          3,
          5,
          6,
          28,
          29,
          31,
          34,
          null,
          44,
          50,
          73,
          75,
          83,
          90,
          93,
          125,
          137,
          165,
          191,
          231,
          320,
          439,
          492,
          562,
          649,
          724,
          873,
          979,
          1071,
          1251,
          1397,
          1965,
          2301,
          2902,
          3374,
          4067,
          4421,
          5194,
          5734,
          6412,
          7447,
          8356,
          9152,
          10363,
          11438,
          12380,
          13387,
          14378,
          15712,
          17265,
          18600,
          19984,
          21393,
          23077,
          24506,
          26496,
          27892,
          29435,
          31332,
          33050,
          35043,
          37336,
          39980,
          42533,
          46433,
          49391,
          52952,
          56342,
          59662,
          62939,
          67152,
          70756,
          74281,
          78003,
          81970,
          85940,
          90927,
          96169,
          101139,
          106750,
          112359,
          118447,
          125101,
          131868,
          138845
         ]
        }
       ],
       "layout": {
        "legend": {
         "orientation": "h",
         "title": {
          "text": "scenario"
         },
         "tracegroupgap": 0
        },
        "margin": {
         "t": 60
        },
        "template": {
         "data": {
          "bar": [
           {
            "error_x": {
             "color": "rgb(36,36,36)"
            },
            "error_y": {
             "color": "rgb(36,36,36)"
            },
            "marker": {
             "line": {
              "color": "white",
              "width": 0.5
             }
            },
            "type": "bar"
           }
          ],
          "barpolar": [
           {
            "marker": {
             "line": {
              "color": "white",
              "width": 0.5
             }
            },
            "type": "barpolar"
           }
          ],
          "carpet": [
           {
            "aaxis": {
             "endlinecolor": "rgb(36,36,36)",
             "gridcolor": "white",
             "linecolor": "white",
             "minorgridcolor": "white",
             "startlinecolor": "rgb(36,36,36)"
            },
            "baxis": {
             "endlinecolor": "rgb(36,36,36)",
             "gridcolor": "white",
             "linecolor": "white",
             "minorgridcolor": "white",
             "startlinecolor": "rgb(36,36,36)"
            },
            "type": "carpet"
           }
          ],
          "choropleth": [
           {
            "colorbar": {
             "outlinewidth": 1,
             "tickcolor": "rgb(36,36,36)",
             "ticks": "outside"
            },
            "type": "choropleth"
           }
          ],
          "contour": [
           {
            "colorbar": {
             "outlinewidth": 1,
             "tickcolor": "rgb(36,36,36)",
             "ticks": "outside"
            },
            "colorscale": [
             [
              0,
              "#440154"
             ],
             [
              0.1111111111111111,
              "#482878"
             ],
             [
              0.2222222222222222,
              "#3e4989"
             ],
             [
              0.3333333333333333,
              "#31688e"
             ],
             [
              0.4444444444444444,
              "#26828e"
             ],
             [
              0.5555555555555556,
              "#1f9e89"
             ],
             [
              0.6666666666666666,
              "#35b779"
             ],
             [
              0.7777777777777778,
              "#6ece58"
             ],
             [
              0.8888888888888888,
              "#b5de2b"
             ],
             [
              1,
              "#fde725"
             ]
            ],
            "type": "contour"
           }
          ],
          "contourcarpet": [
           {
            "colorbar": {
             "outlinewidth": 1,
             "tickcolor": "rgb(36,36,36)",
             "ticks": "outside"
            },
            "type": "contourcarpet"
           }
          ],
          "heatmap": [
           {
            "colorbar": {
             "outlinewidth": 1,
             "tickcolor": "rgb(36,36,36)",
             "ticks": "outside"
            },
            "colorscale": [
             [
              0,
              "#440154"
             ],
             [
              0.1111111111111111,
              "#482878"
             ],
             [
              0.2222222222222222,
              "#3e4989"
             ],
             [
              0.3333333333333333,
              "#31688e"
             ],
             [
              0.4444444444444444,
              "#26828e"
             ],
             [
              0.5555555555555556,
              "#1f9e89"
             ],
             [
              0.6666666666666666,
              "#35b779"
             ],
             [
              0.7777777777777778,
              "#6ece58"
             ],
             [
              0.8888888888888888,
              "#b5de2b"
             ],
             [
              1,
              "#fde725"
             ]
            ],
            "type": "heatmap"
           }
          ],
          "heatmapgl": [
           {
            "colorbar": {
             "outlinewidth": 1,
             "tickcolor": "rgb(36,36,36)",
             "ticks": "outside"
            },
            "colorscale": [
             [
              0,
              "#440154"
             ],
             [
              0.1111111111111111,
              "#482878"
             ],
             [
              0.2222222222222222,
              "#3e4989"
             ],
             [
              0.3333333333333333,
              "#31688e"
             ],
             [
              0.4444444444444444,
              "#26828e"
             ],
             [
              0.5555555555555556,
              "#1f9e89"
             ],
             [
              0.6666666666666666,
              "#35b779"
             ],
             [
              0.7777777777777778,
              "#6ece58"
             ],
             [
              0.8888888888888888,
              "#b5de2b"
             ],
             [
              1,
              "#fde725"
             ]
            ],
            "type": "heatmapgl"
           }
          ],
          "histogram": [
           {
            "marker": {
             "line": {
              "color": "white",
              "width": 0.6
             }
            },
            "type": "histogram"
           }
          ],
          "histogram2d": [
           {
            "colorbar": {
             "outlinewidth": 1,
             "tickcolor": "rgb(36,36,36)",
             "ticks": "outside"
            },
            "colorscale": [
             [
              0,
              "#440154"
             ],
             [
              0.1111111111111111,
              "#482878"
             ],
             [
              0.2222222222222222,
              "#3e4989"
             ],
             [
              0.3333333333333333,
              "#31688e"
             ],
             [
              0.4444444444444444,
              "#26828e"
             ],
             [
              0.5555555555555556,
              "#1f9e89"
             ],
             [
              0.6666666666666666,
              "#35b779"
             ],
             [
              0.7777777777777778,
              "#6ece58"
             ],
             [
              0.8888888888888888,
              "#b5de2b"
             ],
             [
              1,
              "#fde725"
             ]
            ],
            "type": "histogram2d"
           }
          ],
          "histogram2dcontour": [
           {
            "colorbar": {
             "outlinewidth": 1,
             "tickcolor": "rgb(36,36,36)",
             "ticks": "outside"
            },
            "colorscale": [
             [
              0,
              "#440154"
             ],
             [
              0.1111111111111111,
              "#482878"
             ],
             [
              0.2222222222222222,
              "#3e4989"
             ],
             [
              0.3333333333333333,
              "#31688e"
             ],
             [
              0.4444444444444444,
              "#26828e"
             ],
             [
              0.5555555555555556,
              "#1f9e89"
             ],
             [
              0.6666666666666666,
              "#35b779"
             ],
             [
              0.7777777777777778,
              "#6ece58"
             ],
             [
              0.8888888888888888,
              "#b5de2b"
             ],
             [
              1,
              "#fde725"
             ]
            ],
            "type": "histogram2dcontour"
           }
          ],
          "mesh3d": [
           {
            "colorbar": {
             "outlinewidth": 1,
             "tickcolor": "rgb(36,36,36)",
             "ticks": "outside"
            },
            "type": "mesh3d"
           }
          ],
          "parcoords": [
           {
            "line": {
             "colorbar": {
              "outlinewidth": 1,
              "tickcolor": "rgb(36,36,36)",
              "ticks": "outside"
             }
            },
            "type": "parcoords"
           }
          ],
          "pie": [
           {
            "automargin": true,
            "type": "pie"
           }
          ],
          "scatter": [
           {
            "marker": {
             "colorbar": {
              "outlinewidth": 1,
              "tickcolor": "rgb(36,36,36)",
              "ticks": "outside"
             }
            },
            "type": "scatter"
           }
          ],
          "scatter3d": [
           {
            "line": {
             "colorbar": {
              "outlinewidth": 1,
              "tickcolor": "rgb(36,36,36)",
              "ticks": "outside"
             }
            },
            "marker": {
             "colorbar": {
              "outlinewidth": 1,
              "tickcolor": "rgb(36,36,36)",
              "ticks": "outside"
             }
            },
            "type": "scatter3d"
           }
          ],
          "scattercarpet": [
           {
            "marker": {
             "colorbar": {
              "outlinewidth": 1,
              "tickcolor": "rgb(36,36,36)",
              "ticks": "outside"
             }
            },
            "type": "scattercarpet"
           }
          ],
          "scattergeo": [
           {
            "marker": {
             "colorbar": {
              "outlinewidth": 1,
              "tickcolor": "rgb(36,36,36)",
              "ticks": "outside"
             }
            },
            "type": "scattergeo"
           }
          ],
          "scattergl": [
           {
            "marker": {
             "colorbar": {
              "outlinewidth": 1,
              "tickcolor": "rgb(36,36,36)",
              "ticks": "outside"
             }
            },
            "type": "scattergl"
           }
          ],
          "scattermapbox": [
           {
            "marker": {
             "colorbar": {
              "outlinewidth": 1,
              "tickcolor": "rgb(36,36,36)",
              "ticks": "outside"
             }
            },
            "type": "scattermapbox"
           }
          ],
          "scatterpolar": [
           {
            "marker": {
             "colorbar": {
              "outlinewidth": 1,
              "tickcolor": "rgb(36,36,36)",
              "ticks": "outside"
             }
            },
            "type": "scatterpolar"
           }
          ],
          "scatterpolargl": [
           {
            "marker": {
             "colorbar": {
              "outlinewidth": 1,
              "tickcolor": "rgb(36,36,36)",
              "ticks": "outside"
             }
            },
            "type": "scatterpolargl"
           }
          ],
          "scatterternary": [
           {
            "marker": {
             "colorbar": {
              "outlinewidth": 1,
              "tickcolor": "rgb(36,36,36)",
              "ticks": "outside"
             }
            },
            "type": "scatterternary"
           }
          ],
          "surface": [
           {
            "colorbar": {
             "outlinewidth": 1,
             "tickcolor": "rgb(36,36,36)",
             "ticks": "outside"
            },
            "colorscale": [
             [
              0,
              "#440154"
             ],
             [
              0.1111111111111111,
              "#482878"
             ],
             [
              0.2222222222222222,
              "#3e4989"
             ],
             [
              0.3333333333333333,
              "#31688e"
             ],
             [
              0.4444444444444444,
              "#26828e"
             ],
             [
              0.5555555555555556,
              "#1f9e89"
             ],
             [
              0.6666666666666666,
              "#35b779"
             ],
             [
              0.7777777777777778,
              "#6ece58"
             ],
             [
              0.8888888888888888,
              "#b5de2b"
             ],
             [
              1,
              "#fde725"
             ]
            ],
            "type": "surface"
           }
          ],
          "table": [
           {
            "cells": {
             "fill": {
              "color": "rgb(237,237,237)"
             },
             "line": {
              "color": "white"
             }
            },
            "header": {
             "fill": {
              "color": "rgb(217,217,217)"
             },
             "line": {
              "color": "white"
             }
            },
            "type": "table"
           }
          ]
         },
         "layout": {
          "annotationdefaults": {
           "arrowhead": 0,
           "arrowwidth": 1
          },
          "coloraxis": {
           "colorbar": {
            "outlinewidth": 1,
            "tickcolor": "rgb(36,36,36)",
            "ticks": "outside"
           }
          },
          "colorscale": {
           "diverging": [
            [
             0,
             "rgb(103,0,31)"
            ],
            [
             0.1,
             "rgb(178,24,43)"
            ],
            [
             0.2,
             "rgb(214,96,77)"
            ],
            [
             0.3,
             "rgb(244,165,130)"
            ],
            [
             0.4,
             "rgb(253,219,199)"
            ],
            [
             0.5,
             "rgb(247,247,247)"
            ],
            [
             0.6,
             "rgb(209,229,240)"
            ],
            [
             0.7,
             "rgb(146,197,222)"
            ],
            [
             0.8,
             "rgb(67,147,195)"
            ],
            [
             0.9,
             "rgb(33,102,172)"
            ],
            [
             1,
             "rgb(5,48,97)"
            ]
           ],
           "sequential": [
            [
             0,
             "#440154"
            ],
            [
             0.1111111111111111,
             "#482878"
            ],
            [
             0.2222222222222222,
             "#3e4989"
            ],
            [
             0.3333333333333333,
             "#31688e"
            ],
            [
             0.4444444444444444,
             "#26828e"
            ],
            [
             0.5555555555555556,
             "#1f9e89"
            ],
            [
             0.6666666666666666,
             "#35b779"
            ],
            [
             0.7777777777777778,
             "#6ece58"
            ],
            [
             0.8888888888888888,
             "#b5de2b"
            ],
            [
             1,
             "#fde725"
            ]
           ],
           "sequentialminus": [
            [
             0,
             "#440154"
            ],
            [
             0.1111111111111111,
             "#482878"
            ],
            [
             0.2222222222222222,
             "#3e4989"
            ],
            [
             0.3333333333333333,
             "#31688e"
            ],
            [
             0.4444444444444444,
             "#26828e"
            ],
            [
             0.5555555555555556,
             "#1f9e89"
            ],
            [
             0.6666666666666666,
             "#35b779"
            ],
            [
             0.7777777777777778,
             "#6ece58"
            ],
            [
             0.8888888888888888,
             "#b5de2b"
            ],
            [
             1,
             "#fde725"
            ]
           ]
          },
          "colorway": [
           "#1F77B4",
           "#FF7F0E",
           "#2CA02C",
           "#D62728",
           "#9467BD",
           "#8C564B",
           "#E377C2",
           "#7F7F7F",
           "#BCBD22",
           "#17BECF"
          ],
          "font": {
           "color": "rgb(36,36,36)"
          },
          "geo": {
           "bgcolor": "white",
           "lakecolor": "white",
           "landcolor": "white",
           "showlakes": true,
           "showland": true,
           "subunitcolor": "white"
          },
          "hoverlabel": {
           "align": "left"
          },
          "hovermode": "closest",
          "mapbox": {
           "style": "light"
          },
          "paper_bgcolor": "white",
          "plot_bgcolor": "white",
          "polar": {
           "angularaxis": {
            "gridcolor": "rgb(232,232,232)",
            "linecolor": "rgb(36,36,36)",
            "showgrid": false,
            "showline": true,
            "ticks": "outside"
           },
           "bgcolor": "white",
           "radialaxis": {
            "gridcolor": "rgb(232,232,232)",
            "linecolor": "rgb(36,36,36)",
            "showgrid": false,
            "showline": true,
            "ticks": "outside"
           }
          },
          "scene": {
           "xaxis": {
            "backgroundcolor": "white",
            "gridcolor": "rgb(232,232,232)",
            "gridwidth": 2,
            "linecolor": "rgb(36,36,36)",
            "showbackground": true,
            "showgrid": false,
            "showline": true,
            "ticks": "outside",
            "zeroline": false,
            "zerolinecolor": "rgb(36,36,36)"
           },
           "yaxis": {
            "backgroundcolor": "white",
            "gridcolor": "rgb(232,232,232)",
            "gridwidth": 2,
            "linecolor": "rgb(36,36,36)",
            "showbackground": true,
            "showgrid": false,
            "showline": true,
            "ticks": "outside",
            "zeroline": false,
            "zerolinecolor": "rgb(36,36,36)"
           },
           "zaxis": {
            "backgroundcolor": "white",
            "gridcolor": "rgb(232,232,232)",
            "gridwidth": 2,
            "linecolor": "rgb(36,36,36)",
            "showbackground": true,
            "showgrid": false,
            "showline": true,
            "ticks": "outside",
            "zeroline": false,
            "zerolinecolor": "rgb(36,36,36)"
           }
          },
          "shapedefaults": {
           "fillcolor": "black",
           "line": {
            "width": 0
           },
           "opacity": 0.3
          },
          "ternary": {
           "aaxis": {
            "gridcolor": "rgb(232,232,232)",
            "linecolor": "rgb(36,36,36)",
            "showgrid": false,
            "showline": true,
            "ticks": "outside"
           },
           "baxis": {
            "gridcolor": "rgb(232,232,232)",
            "linecolor": "rgb(36,36,36)",
            "showgrid": false,
            "showline": true,
            "ticks": "outside"
           },
           "bgcolor": "white",
           "caxis": {
            "gridcolor": "rgb(232,232,232)",
            "linecolor": "rgb(36,36,36)",
            "showgrid": false,
            "showline": true,
            "ticks": "outside"
           }
          },
          "title": {
           "x": 0.05
          },
          "xaxis": {
           "automargin": true,
           "gridcolor": "rgb(232,232,232)",
           "linecolor": "rgb(36,36,36)",
           "showgrid": true,
           "showline": true,
           "ticks": "outside",
           "title": {
            "standoff": 15
           },
           "zeroline": false,
           "zerolinecolor": "rgb(36,36,36)"
          },
          "yaxis": {
           "automargin": true,
           "gridcolor": "rgb(232,232,232)",
           "linecolor": "rgb(36,36,36)",
           "showgrid": true,
           "showline": true,
           "ticks": "outside",
           "title": {
            "standoff": 15
           },
           "zeroline": false,
           "zerolinecolor": "rgb(36,36,36)"
          }
         }
        },
        "width": 800,
        "xaxis": {
         "anchor": "y",
         "domain": [
          0,
          1
         ],
         "title": {
          "text": "Days"
         }
        },
        "yaxis": {
         "anchor": "x",
         "domain": [
          0,
          1
         ],
         "title": {
          "text": "Total cases"
         }
        }
       }
      },
      "text/html": "<div>\n        \n        \n            <div id=\"6202814a-72f0-4d8b-8cb2-3612216b354b\" class=\"plotly-graph-div\" style=\"height:525px; width:800px;\"></div>\n            <script type=\"text/javascript\">\n                require([\"plotly\"], function(Plotly) {\n                    window.PLOTLYENV=window.PLOTLYENV || {};\n                    \n                if (document.getElementById(\"6202814a-72f0-4d8b-8cb2-3612216b354b\")) {\n                    Plotly.newPlot(\n                        '6202814a-72f0-4d8b-8cb2-3612216b354b',\n                        [{\"hovertemplate\": \"scenario=simulated<br>time=%{x}<br>total_infected=%{y}<extra></extra>\", \"legendgroup\": \"simulated\", \"line\": {\"color\": \"#1F77B4\", \"dash\": \"solid\"}, \"mode\": \"lines\", \"name\": \"simulated\", \"orientation\": \"v\", \"showlegend\": true, \"type\": \"scatter\", \"x\": [1.0, 1.5, 2.0, 2.5, 3.0, 3.5, 4.0, 4.5, 5.0, 5.5, 6.0, 6.5, 7.0, 7.5, 8.0, 8.5, 9.0, 9.5, 10.0, 10.5, 11.0, 11.5, 12.0, 12.5, 13.0, 13.5, 14.0, 14.5, 15.0, 15.5, 16.0, 16.5, 17.0, 17.5, 18.0, 18.5, 19.0, 19.5, 20.0, 20.5, 21.0, 21.5, 22.0, 22.5, 23.0, 23.5, 24.0, 24.5, 25.0, 25.5, 26.0, 26.5, 27.0, 27.5, 28.0, 28.5, 29.0, 29.5, 30.0, 30.5, 31.0, 31.5, 32.0, 32.5, 33.0, 33.5, 34.0, 34.5, 35.0, 35.5, 36.0, 36.5, 37.0, 37.5, 38.0, 38.5, 39.0, 39.5, 40.0, 40.5, 41.0, 41.5, 42.0, 42.5, 43.0, 43.5, 44.0, 44.5, 45.0, 45.5, 46.0, 46.5, 47.0, 47.5, 48.0, 48.5, 49.0, 49.5, 50.0, 50.5, 51.0, 51.5, 52.0, 52.5, 53.0, 53.5, 54.0, 54.5, 55.0, 55.5, 56.0, 56.5, 57.0, 57.5, 58.0, 58.5, 59.0, 59.5, 60.0, 60.5, 61.0, 61.5, 62.0, 62.5, 63.0, 63.5, 64.0, 64.5, 65.0, 65.5, 66.0, 66.5, 67.0, 67.5, 68.0, 68.5, 69.0, 69.5, 70.0, 70.5, 71.0, 71.5, 72.0, 72.5, 73.0, 73.5, 74.0, 74.5, 75.0, 75.5, 76.0, 76.5, 77.0, 77.5, 78.0, 78.5, 79.0, 79.5, 80.0, 80.5, 81.0, 81.5, 82.0, 82.5, 83.0, 83.5, 84.0, 84.5, 85.0, 85.5, 86.0, 86.5, 87.0, 87.5, 88.0, 88.5, 89.0, 89.5, 90.0, 90.5, 91.0, 91.5, 92.0, 92.5, 93.0, 93.5, 94.0, 94.5, 95.0, 95.5, 96.0, 96.5, 97.0, 97.5, 98.0, 98.5, 99.0, 99.5, 100.0, 100.5, 101.0, 101.5, 102.0, 102.5, 103.0, 103.5, 104.0, 104.5, 105.0, 105.5, 106.0, 106.5, 107.0, 107.5, 108.0, 108.5, 109.0, 109.5, 110.0, 110.5, 111.0, 111.5, 112.0, 112.5, 113.0, 113.5, 114.0, 114.5, 115.0, 115.5, 116.0, 116.5, 117.0, 117.5, 118.0, 118.5, 119.0, 119.5, 120.0, 120.5, 121.0, 121.5, 122.0, 122.5, 123.0, 123.5, 124.0, 124.5, 125.0, 125.5, 126.0, 126.5, 127.0, 127.5, 128.0, 128.5, 129.0, 129.5, 130.0, 130.5, 131.0, 131.5, 132.0, 132.5, 133.0, 133.5, 134.0, 134.5, 135.0, 135.5, 136.0, 136.5, 137.0, 137.5, 138.0, 138.5, 139.0, 139.5, 140.0, 140.5, 141.0, 141.5, 142.0, 142.5, 143.0, 143.5, 144.0, 144.5, 145.0, 145.5, 146.0, 146.5], \"xaxis\": \"x\", \"y\": [0.0, 0.0, 0.3921568627450981, 0.7576286717537857, 1.1025119414087592, 1.4319891187613156, 1.7504815801464613, 2.0617778287182786, 2.369140949371473, 2.6753987157138512, 2.9830191900047365, 3.294174193638337, 3.6107926380704467, 3.9346053817123448, 4.267183006914142, 4.609967684084731, 4.964300100011994, 5.331442268501256, 5.712596908476596, 6.10892396344996, 6.521554743210532, 6.951604090753833, 7.400180912373519, 7.8683973544011385, 8.357376864561681, 8.8682613378611, 9.40221751511898, 9.960442775686895, 10.54417044369863, 11.154674708669724, 11.79327524580405, 12.461341608475689, 13.160297454617659, 13.891624659816024, 14.656867362486398, 15.457635980355755, 16.29561123238133, 17.172548196039514, 18.090280426468247, 19.050724161126965, 20.055882631349284, 21.10785050032148, 22.208818445555444, 23.361077902779712, 24.56702598729818, 25.829170608222825, 27.150135790540663, 28.532667219698343, 29.979638023257028, 31.494054804166584, 33.07906394031551, 34.73795816521867, 36.47418344499831, 38.29134616718557, 40.19322065731433, 42.183757039789064, 44.26708946008142, 46.44754468594092, 48.7296511059928, 51.118148144837676, 53.617996114562736, 56.23438652342212, 58.97275286334451, 61.8387818988795, 64.8384254812012, 67.9779129118494, 71.26376388200629, 74.70280201428152, 78.30216903521324, 82.06933960798814, 86.0121368562429, 90.13874861123479, 94.45774441616295, 98.97809332298763, 103.7091825187341, 108.66083681998622, 113.84333907607316, 119.26745152333652, 124.94443813483714, 130.88608801192612, 137.10473986626553, 143.61330764314755, 150.4253073393292, 157.5548850710794, 165.01684645073, 172.82668733273906, 181.0006259931183, 189.55563680905163, 198.50948550864757, 207.88076606402754, 217.6889393043653, 227.95437332906297, 238.69838580498788, 249.94328823560636, 261.71243229394537, 274.03025831559796, 286.92234605247506, 300.41546779269913, 314.53764395694975, 329.3182012867133, 344.78783374527086, 360.97866625789203, 377.9243214235977, 395.65998933702554, 414.2225006653904, 433.65040313229076, 453.9840415671876, 475.26564168678465, 497.5393977822906, 520.8515644946528, 545.2505528683413, 570.7870308831458, 597.5140286727496, 625.4870486485718, 654.7641807575587, 685.4062231132663, 717.4768082507275, 751.0425352672845, 786.1731081237805, 822.9414803933, 861.424006758037, 901.7006015688773, 943.854904796952, 987.9744557217632, 1034.1508747165506, 1082.4800535083784, 1133.0623543080223, 1186.0028182231456, 1241.4113833875401, 1299.4031132593714, 1360.0984355624862, 1423.6233923669406, 1490.1099018280297, 1559.6960321273125, 1632.5262881844558, 1708.7519117352372, 1788.5311953988007, 1872.0298113862987, 1959.421155533458, 2050.886707371417, 2146.6164069834817, 2246.809049430302, 2351.6726975624288, 2461.4251140774086, 2576.2942137185023, 2696.518536553945, 2822.347743319417, 2954.0431338522058, 3091.878189693468, 3236.139141985177, 3387.125565840846, 3545.15100242407, 3710.5436100264556, 3883.6468454966807, 4064.8201774354557, 4254.439832637066, 4452.899577327193, 4660.611534818944, 4878.007041284578, 5105.537541419557, 5343.675525858313, 5592.915512287799, 5853.775072295545, 6126.795906083884, 6412.544967281305, 6711.615640185888, 7024.6289718845255, 7352.234961805538, 7695.113911381431, 8053.977836623272, 8429.571946538676, 8822.676190461974, 9207.94709588999, 9592.858785244485, 9991.33352710395, 10398.276516222553, 10804.018337447413, 11210.7945613965, 11639.24626436535, 12061.227174336704, 12477.793779034493, 12925.285202665658, 13395.562731375405, 13854.982238035844, 14325.624003185767, 14780.42774558776, 15241.034252783156, 15748.60790167439, 16281.761113163546, 16855.159955517513, 17448.28438459645, 18055.33299550232, 18705.748039265785, 19393.061765086808, 20091.4322717612, 20821.923661821616, 21532.218870765315, 22228.60822936463, 22980.91234679301, 23682.84433422789, 24413.624120223616, 25132.33533217284, 25896.86654523036, 26693.489894702165, 27451.274777827533, 28289.396591143537, 29194.02413633053, 30067.740244601064, 30981.624478714377, 31841.808734765087, 32799.89794187291, 33735.781358915585, 34661.263589197646, 35553.53511342069, 36538.741636613755, 37506.109215941, 38575.84147686738, 39562.406427634654, 40652.2613143956, 41785.283218319695, 42851.48181471552, 44037.23277626715, 45336.036588993076, 46627.74976826752, 47882.92947699493, 49186.665077729755, 50481.595868392775, 51749.28957686406, 53076.76956872945, 54563.49331633788, 55945.96438498453, 57262.75801785241, 58500.04518845694, 59843.08303800203, 61256.502747682636, 62727.45053678878, 64197.5616610423, 65744.65129848658, 67261.5498475219, 68739.50660985259, 70133.86517561956, 71618.6761040527, 73192.29288061034, 74702.44859448614, 76222.31421549602, 77679.13293922448, 79175.42653577293, 80577.2258933956, 82101.76884345814, 83583.81898719634, 85133.06989090801, 86749.8117879513, 88417.59309108091, 90065.03320987536, 91911.8233078456, 93894.95257410084, 96075.39069643231, 98256.14725860764, 100327.83009206178, 102638.62236720404, 104797.28752666178, 107083.80769299241, 109559.60777510153, 112062.08495925325, 114692.15958942582, 117518.01947136472, 120594.36999746079, 123660.6828727439, 126918.26970725937, 130251.42341943544, 133613.52571610513, 136815.8966264207, 140180.4518472956, 143503.84143249906, 146846.5343676393, 150041.6990490867, 153586.23865816602, 157242.1881043333, 161109.73735015732, 164700.72126857965, 168529.3718697187, 172329.4048742248, 176533.3497743943, 180843.408527742, 185342.0099916692, 190053.66624257085, 194816.3893945343, 199533.56746926668, 203965.0407320571, 208223.17393904264, 212852.1705917012, 217538.76892550287], \"yaxis\": \"y\"}, {\"line\": {\"color\": \"red\"}, \"mode\": \"lines\", \"name\": \"historical data\", \"showlegend\": true, \"type\": \"scatter\", \"x\": [0, 1, 2, 3, 4, 5, 6, 7, 8, 9, 10, 11, 12, 13, 14, 15, 16, 17, 18, 19, 20, 21, 22, 23, 24, 25, 26, 27, 28, 29, 30, 31, 32, 33, 34, 35, 36, 37, 38, 39, 40, 41, 42, 43, 44, 45, 46, 47, 48, 49, 50, 51, 52, 53, 54, 55, 56, 57, 58, 59, 60, 61, 62, 63, 64, 65, 66, 67, 68, 69, 70, 71, 72, 73, 74, 75, 76, 77, 78, 79, 80, 81, 82, 83, 84, 85, 86, 87, 88, 89, 90, 91, 92, 93, 94, 95, 96, 97, 98, 99, 100, 101, 102, 103, 104, 105, 106, 107, 108, 109, 110, 111, 112, 113, 114, 115, 116, 117, 118, 119, 120, 121, 122, 123, 124, 125, 126, 127, 128, 129, 130, 131, 132, 133, 134, 135, 136, 137, 138, 139, 140, 141, 142, 143, 144, 145, 146], \"y\": [0.0, 0.0, 0.0, 0.0, 0.0, 0.0, 0.0, 0.0, 0.0, 0.0, 0.0, 0.0, 0.0, 0.0, 0.0, 0.0, 0.0, 0.0, 0.0, 0.0, 0.0, 0.0, 0.0, 0.0, 0.0, 0.0, 0.0, 0.0, 0.0, 0.0, 1.0, 1.0, 1.0, 2.0, 2.0, 3.0, 3.0, 3.0, 3.0, 3.0, 3.0, 3.0, 3.0, 3.0, 3.0, 3.0, 3.0, 3.0, 3.0, 3.0, 3.0, 3.0, 3.0, 3.0, 3.0, 3.0, 3.0, 3.0, 3.0, 3.0, 3.0, 3.0, 3.0, 5.0, 6.0, 28.0, 29.0, 31.0, 34.0, null, 44.0, 50.0, 73.0, 75.0, 83.0, 90.0, 93.0, 125.0, 137.0, 165.0, 191.0, 231.0, 320.0, 439.0, 492.0, 562.0, 649.0, 724.0, 873.0, 979.0, 1071.0, 1251.0, 1397.0, 1965.0, 2301.0, 2902.0, 3374.0, 4067.0, 4421.0, 5194.0, 5734.0, 6412.0, 7447.0, 8356.0, 9152.0, 10363.0, 11438.0, 12380.0, 13387.0, 14378.0, 15712.0, 17265.0, 18600.0, 19984.0, 21393.0, 23077.0, 24506.0, 26496.0, 27892.0, 29435.0, 31332.0, 33050.0, 35043.0, 37336.0, 39980.0, 42533.0, 46433.0, 49391.0, 52952.0, 56342.0, 59662.0, 62939.0, 67152.0, 70756.0, 74281.0, 78003.0, 81970.0, 85940.0, 90927.0, 96169.0, 101139.0, 106750.0, 112359.0, 118447.0, 125101.0, 131868.0, 138845.0]}],\n                        {\"legend\": {\"orientation\": \"h\", \"title\": {\"text\": \"scenario\"}, \"tracegroupgap\": 0}, \"margin\": {\"t\": 60}, \"template\": {\"data\": {\"bar\": [{\"error_x\": {\"color\": \"rgb(36,36,36)\"}, \"error_y\": {\"color\": \"rgb(36,36,36)\"}, \"marker\": {\"line\": {\"color\": \"white\", \"width\": 0.5}}, \"type\": \"bar\"}], \"barpolar\": [{\"marker\": {\"line\": {\"color\": \"white\", \"width\": 0.5}}, \"type\": \"barpolar\"}], \"carpet\": [{\"aaxis\": {\"endlinecolor\": \"rgb(36,36,36)\", \"gridcolor\": \"white\", \"linecolor\": \"white\", \"minorgridcolor\": \"white\", \"startlinecolor\": \"rgb(36,36,36)\"}, \"baxis\": {\"endlinecolor\": \"rgb(36,36,36)\", \"gridcolor\": \"white\", \"linecolor\": \"white\", \"minorgridcolor\": \"white\", \"startlinecolor\": \"rgb(36,36,36)\"}, \"type\": \"carpet\"}], \"choropleth\": [{\"colorbar\": {\"outlinewidth\": 1, \"tickcolor\": \"rgb(36,36,36)\", \"ticks\": \"outside\"}, \"type\": \"choropleth\"}], \"contour\": [{\"colorbar\": {\"outlinewidth\": 1, \"tickcolor\": \"rgb(36,36,36)\", \"ticks\": \"outside\"}, \"colorscale\": [[0.0, \"#440154\"], [0.1111111111111111, \"#482878\"], [0.2222222222222222, \"#3e4989\"], [0.3333333333333333, \"#31688e\"], [0.4444444444444444, \"#26828e\"], [0.5555555555555556, \"#1f9e89\"], [0.6666666666666666, \"#35b779\"], [0.7777777777777778, \"#6ece58\"], [0.8888888888888888, \"#b5de2b\"], [1.0, \"#fde725\"]], \"type\": \"contour\"}], \"contourcarpet\": [{\"colorbar\": {\"outlinewidth\": 1, \"tickcolor\": \"rgb(36,36,36)\", \"ticks\": \"outside\"}, \"type\": \"contourcarpet\"}], \"heatmap\": [{\"colorbar\": {\"outlinewidth\": 1, \"tickcolor\": \"rgb(36,36,36)\", \"ticks\": \"outside\"}, \"colorscale\": [[0.0, \"#440154\"], [0.1111111111111111, \"#482878\"], [0.2222222222222222, \"#3e4989\"], [0.3333333333333333, \"#31688e\"], [0.4444444444444444, \"#26828e\"], [0.5555555555555556, \"#1f9e89\"], [0.6666666666666666, \"#35b779\"], [0.7777777777777778, \"#6ece58\"], [0.8888888888888888, \"#b5de2b\"], [1.0, \"#fde725\"]], \"type\": \"heatmap\"}], \"heatmapgl\": [{\"colorbar\": {\"outlinewidth\": 1, \"tickcolor\": \"rgb(36,36,36)\", \"ticks\": \"outside\"}, \"colorscale\": [[0.0, \"#440154\"], [0.1111111111111111, \"#482878\"], [0.2222222222222222, \"#3e4989\"], [0.3333333333333333, \"#31688e\"], [0.4444444444444444, \"#26828e\"], [0.5555555555555556, \"#1f9e89\"], [0.6666666666666666, \"#35b779\"], [0.7777777777777778, \"#6ece58\"], [0.8888888888888888, \"#b5de2b\"], [1.0, \"#fde725\"]], \"type\": \"heatmapgl\"}], \"histogram\": [{\"marker\": {\"line\": {\"color\": \"white\", \"width\": 0.6}}, \"type\": \"histogram\"}], \"histogram2d\": [{\"colorbar\": {\"outlinewidth\": 1, \"tickcolor\": \"rgb(36,36,36)\", \"ticks\": \"outside\"}, \"colorscale\": [[0.0, \"#440154\"], [0.1111111111111111, \"#482878\"], [0.2222222222222222, \"#3e4989\"], [0.3333333333333333, \"#31688e\"], [0.4444444444444444, \"#26828e\"], [0.5555555555555556, \"#1f9e89\"], [0.6666666666666666, \"#35b779\"], [0.7777777777777778, \"#6ece58\"], [0.8888888888888888, \"#b5de2b\"], [1.0, \"#fde725\"]], \"type\": \"histogram2d\"}], \"histogram2dcontour\": [{\"colorbar\": {\"outlinewidth\": 1, \"tickcolor\": \"rgb(36,36,36)\", \"ticks\": \"outside\"}, \"colorscale\": [[0.0, \"#440154\"], [0.1111111111111111, \"#482878\"], [0.2222222222222222, \"#3e4989\"], [0.3333333333333333, \"#31688e\"], [0.4444444444444444, \"#26828e\"], [0.5555555555555556, \"#1f9e89\"], [0.6666666666666666, \"#35b779\"], [0.7777777777777778, \"#6ece58\"], [0.8888888888888888, \"#b5de2b\"], [1.0, \"#fde725\"]], \"type\": \"histogram2dcontour\"}], \"mesh3d\": [{\"colorbar\": {\"outlinewidth\": 1, \"tickcolor\": \"rgb(36,36,36)\", \"ticks\": \"outside\"}, \"type\": \"mesh3d\"}], \"parcoords\": [{\"line\": {\"colorbar\": {\"outlinewidth\": 1, \"tickcolor\": \"rgb(36,36,36)\", \"ticks\": \"outside\"}}, \"type\": \"parcoords\"}], \"pie\": [{\"automargin\": true, \"type\": \"pie\"}], \"scatter\": [{\"marker\": {\"colorbar\": {\"outlinewidth\": 1, \"tickcolor\": \"rgb(36,36,36)\", \"ticks\": \"outside\"}}, \"type\": \"scatter\"}], \"scatter3d\": [{\"line\": {\"colorbar\": {\"outlinewidth\": 1, \"tickcolor\": \"rgb(36,36,36)\", \"ticks\": \"outside\"}}, \"marker\": {\"colorbar\": {\"outlinewidth\": 1, \"tickcolor\": \"rgb(36,36,36)\", \"ticks\": \"outside\"}}, \"type\": \"scatter3d\"}], \"scattercarpet\": [{\"marker\": {\"colorbar\": {\"outlinewidth\": 1, \"tickcolor\": \"rgb(36,36,36)\", \"ticks\": \"outside\"}}, \"type\": \"scattercarpet\"}], \"scattergeo\": [{\"marker\": {\"colorbar\": {\"outlinewidth\": 1, \"tickcolor\": \"rgb(36,36,36)\", \"ticks\": \"outside\"}}, \"type\": \"scattergeo\"}], \"scattergl\": [{\"marker\": {\"colorbar\": {\"outlinewidth\": 1, \"tickcolor\": \"rgb(36,36,36)\", \"ticks\": \"outside\"}}, \"type\": \"scattergl\"}], \"scattermapbox\": [{\"marker\": {\"colorbar\": {\"outlinewidth\": 1, \"tickcolor\": \"rgb(36,36,36)\", \"ticks\": \"outside\"}}, \"type\": \"scattermapbox\"}], \"scatterpolar\": [{\"marker\": {\"colorbar\": {\"outlinewidth\": 1, \"tickcolor\": \"rgb(36,36,36)\", \"ticks\": \"outside\"}}, \"type\": \"scatterpolar\"}], \"scatterpolargl\": [{\"marker\": {\"colorbar\": {\"outlinewidth\": 1, \"tickcolor\": \"rgb(36,36,36)\", \"ticks\": \"outside\"}}, \"type\": \"scatterpolargl\"}], \"scatterternary\": [{\"marker\": {\"colorbar\": {\"outlinewidth\": 1, \"tickcolor\": \"rgb(36,36,36)\", \"ticks\": \"outside\"}}, \"type\": \"scatterternary\"}], \"surface\": [{\"colorbar\": {\"outlinewidth\": 1, \"tickcolor\": \"rgb(36,36,36)\", \"ticks\": \"outside\"}, \"colorscale\": [[0.0, \"#440154\"], [0.1111111111111111, \"#482878\"], [0.2222222222222222, \"#3e4989\"], [0.3333333333333333, \"#31688e\"], [0.4444444444444444, \"#26828e\"], [0.5555555555555556, \"#1f9e89\"], [0.6666666666666666, \"#35b779\"], [0.7777777777777778, \"#6ece58\"], [0.8888888888888888, \"#b5de2b\"], [1.0, \"#fde725\"]], \"type\": \"surface\"}], \"table\": [{\"cells\": {\"fill\": {\"color\": \"rgb(237,237,237)\"}, \"line\": {\"color\": \"white\"}}, \"header\": {\"fill\": {\"color\": \"rgb(217,217,217)\"}, \"line\": {\"color\": \"white\"}}, \"type\": \"table\"}]}, \"layout\": {\"annotationdefaults\": {\"arrowhead\": 0, \"arrowwidth\": 1}, \"coloraxis\": {\"colorbar\": {\"outlinewidth\": 1, \"tickcolor\": \"rgb(36,36,36)\", \"ticks\": \"outside\"}}, \"colorscale\": {\"diverging\": [[0.0, \"rgb(103,0,31)\"], [0.1, \"rgb(178,24,43)\"], [0.2, \"rgb(214,96,77)\"], [0.3, \"rgb(244,165,130)\"], [0.4, \"rgb(253,219,199)\"], [0.5, \"rgb(247,247,247)\"], [0.6, \"rgb(209,229,240)\"], [0.7, \"rgb(146,197,222)\"], [0.8, \"rgb(67,147,195)\"], [0.9, \"rgb(33,102,172)\"], [1.0, \"rgb(5,48,97)\"]], \"sequential\": [[0.0, \"#440154\"], [0.1111111111111111, \"#482878\"], [0.2222222222222222, \"#3e4989\"], [0.3333333333333333, \"#31688e\"], [0.4444444444444444, \"#26828e\"], [0.5555555555555556, \"#1f9e89\"], [0.6666666666666666, \"#35b779\"], [0.7777777777777778, \"#6ece58\"], [0.8888888888888888, \"#b5de2b\"], [1.0, \"#fde725\"]], \"sequentialminus\": [[0.0, \"#440154\"], [0.1111111111111111, \"#482878\"], [0.2222222222222222, \"#3e4989\"], [0.3333333333333333, \"#31688e\"], [0.4444444444444444, \"#26828e\"], [0.5555555555555556, \"#1f9e89\"], [0.6666666666666666, \"#35b779\"], [0.7777777777777778, \"#6ece58\"], [0.8888888888888888, \"#b5de2b\"], [1.0, \"#fde725\"]]}, \"colorway\": [\"#1F77B4\", \"#FF7F0E\", \"#2CA02C\", \"#D62728\", \"#9467BD\", \"#8C564B\", \"#E377C2\", \"#7F7F7F\", \"#BCBD22\", \"#17BECF\"], \"font\": {\"color\": \"rgb(36,36,36)\"}, \"geo\": {\"bgcolor\": \"white\", \"lakecolor\": \"white\", \"landcolor\": \"white\", \"showlakes\": true, \"showland\": true, \"subunitcolor\": \"white\"}, \"hoverlabel\": {\"align\": \"left\"}, \"hovermode\": \"closest\", \"mapbox\": {\"style\": \"light\"}, \"paper_bgcolor\": \"white\", \"plot_bgcolor\": \"white\", \"polar\": {\"angularaxis\": {\"gridcolor\": \"rgb(232,232,232)\", \"linecolor\": \"rgb(36,36,36)\", \"showgrid\": false, \"showline\": true, \"ticks\": \"outside\"}, \"bgcolor\": \"white\", \"radialaxis\": {\"gridcolor\": \"rgb(232,232,232)\", \"linecolor\": \"rgb(36,36,36)\", \"showgrid\": false, \"showline\": true, \"ticks\": \"outside\"}}, \"scene\": {\"xaxis\": {\"backgroundcolor\": \"white\", \"gridcolor\": \"rgb(232,232,232)\", \"gridwidth\": 2, \"linecolor\": \"rgb(36,36,36)\", \"showbackground\": true, \"showgrid\": false, \"showline\": true, \"ticks\": \"outside\", \"zeroline\": false, \"zerolinecolor\": \"rgb(36,36,36)\"}, \"yaxis\": {\"backgroundcolor\": \"white\", \"gridcolor\": \"rgb(232,232,232)\", \"gridwidth\": 2, \"linecolor\": \"rgb(36,36,36)\", \"showbackground\": true, \"showgrid\": false, \"showline\": true, \"ticks\": \"outside\", \"zeroline\": false, \"zerolinecolor\": \"rgb(36,36,36)\"}, \"zaxis\": {\"backgroundcolor\": \"white\", \"gridcolor\": \"rgb(232,232,232)\", \"gridwidth\": 2, \"linecolor\": \"rgb(36,36,36)\", \"showbackground\": true, \"showgrid\": false, \"showline\": true, \"ticks\": \"outside\", \"zeroline\": false, \"zerolinecolor\": \"rgb(36,36,36)\"}}, \"shapedefaults\": {\"fillcolor\": \"black\", \"line\": {\"width\": 0}, \"opacity\": 0.3}, \"ternary\": {\"aaxis\": {\"gridcolor\": \"rgb(232,232,232)\", \"linecolor\": \"rgb(36,36,36)\", \"showgrid\": false, \"showline\": true, \"ticks\": \"outside\"}, \"baxis\": {\"gridcolor\": \"rgb(232,232,232)\", \"linecolor\": \"rgb(36,36,36)\", \"showgrid\": false, \"showline\": true, \"ticks\": \"outside\"}, \"bgcolor\": \"white\", \"caxis\": {\"gridcolor\": \"rgb(232,232,232)\", \"linecolor\": \"rgb(36,36,36)\", \"showgrid\": false, \"showline\": true, \"ticks\": \"outside\"}}, \"title\": {\"x\": 0.05}, \"xaxis\": {\"automargin\": true, \"gridcolor\": \"rgb(232,232,232)\", \"linecolor\": \"rgb(36,36,36)\", \"showgrid\": true, \"showline\": true, \"ticks\": \"outside\", \"title\": {\"standoff\": 15}, \"zeroline\": false, \"zerolinecolor\": \"rgb(36,36,36)\"}, \"yaxis\": {\"automargin\": true, \"gridcolor\": \"rgb(232,232,232)\", \"linecolor\": \"rgb(36,36,36)\", \"showgrid\": true, \"showline\": true, \"ticks\": \"outside\", \"title\": {\"standoff\": 15}, \"zeroline\": false, \"zerolinecolor\": \"rgb(36,36,36)\"}}}, \"width\": 800, \"xaxis\": {\"anchor\": \"y\", \"domain\": [0.0, 1.0], \"title\": {\"text\": \"Days\"}}, \"yaxis\": {\"anchor\": \"x\", \"domain\": [0.0, 1.0], \"title\": {\"text\": \"Total cases\"}}},\n                        {\"responsive\": true}\n                    ).then(function(){\n                            \nvar gd = document.getElementById('6202814a-72f0-4d8b-8cb2-3612216b354b');\nvar x = new MutationObserver(function (mutations, observer) {{\n        var display = window.getComputedStyle(gd).display;\n        if (!display || display === 'none') {{\n            console.log([gd, 'removed!']);\n            Plotly.purge(gd);\n            observer.disconnect();\n        }}\n}});\n\n// Listen for the removal of the full notebook cells\nvar notebookContainer = gd.closest('#notebook-container');\nif (notebookContainer) {{\n    x.observe(notebookContainer, {childList: true});\n}}\n\n// Listen for the clearing of the current output cell\nvar outputEl = gd.closest('.output');\nif (outputEl) {{\n    x.observe(outputEl, {childList: true});\n}}\n\n                        })\n                };\n                });\n            </script>\n        </div>"
     },
     "metadata": {}
    },
    {
     "output_type": "stream",
     "name": "stdout",
     "text": "writing file  6.0.00.2020/2020-08-26 - Reference plot-total_infected\n"
    }
   ],
   "source": [
    "sim.reference_plot(sim.get_run_data(),reference,'total_infected','total_cases','Days','Total cases','','Reference plot')"
   ]
  },
  {
   "cell_type": "markdown",
   "metadata": {},
   "source": [
    "## Total deaths\n",
    "Comparison of the historical and simulated total deaths over the first 146 days of the pandemic "
   ]
  },
  {
   "cell_type": "code",
   "execution_count": 6,
   "metadata": {
    "tags": []
   },
   "outputs": [
    {
     "output_type": "display_data",
     "data": {
      "application/vnd.plotly.v1+json": {
       "config": {
        "plotlyServerURL": "https://plot.ly"
       },
       "data": [
        {
         "hovertemplate": "scenario=simulated<br>time=%{x}<br>covid_deaths=%{y}<extra></extra>",
         "legendgroup": "simulated",
         "line": {
          "color": "#1F77B4",
          "dash": "solid"
         },
         "mode": "lines",
         "name": "simulated",
         "orientation": "v",
         "showlegend": true,
         "type": "scatter",
         "x": [
          1,
          1.5,
          2,
          2.5,
          3,
          3.5,
          4,
          4.5,
          5,
          5.5,
          6,
          6.5,
          7,
          7.5,
          8,
          8.5,
          9,
          9.5,
          10,
          10.5,
          11,
          11.5,
          12,
          12.5,
          13,
          13.5,
          14,
          14.5,
          15,
          15.5,
          16,
          16.5,
          17,
          17.5,
          18,
          18.5,
          19,
          19.5,
          20,
          20.5,
          21,
          21.5,
          22,
          22.5,
          23,
          23.5,
          24,
          24.5,
          25,
          25.5,
          26,
          26.5,
          27,
          27.5,
          28,
          28.5,
          29,
          29.5,
          30,
          30.5,
          31,
          31.5,
          32,
          32.5,
          33,
          33.5,
          34,
          34.5,
          35,
          35.5,
          36,
          36.5,
          37,
          37.5,
          38,
          38.5,
          39,
          39.5,
          40,
          40.5,
          41,
          41.5,
          42,
          42.5,
          43,
          43.5,
          44,
          44.5,
          45,
          45.5,
          46,
          46.5,
          47,
          47.5,
          48,
          48.5,
          49,
          49.5,
          50,
          50.5,
          51,
          51.5,
          52,
          52.5,
          53,
          53.5,
          54,
          54.5,
          55,
          55.5,
          56,
          56.5,
          57,
          57.5,
          58,
          58.5,
          59,
          59.5,
          60,
          60.5,
          61,
          61.5,
          62,
          62.5,
          63,
          63.5,
          64,
          64.5,
          65,
          65.5,
          66,
          66.5,
          67,
          67.5,
          68,
          68.5,
          69,
          69.5,
          70,
          70.5,
          71,
          71.5,
          72,
          72.5,
          73,
          73.5,
          74,
          74.5,
          75,
          75.5,
          76,
          76.5,
          77,
          77.5,
          78,
          78.5,
          79,
          79.5,
          80,
          80.5,
          81,
          81.5,
          82,
          82.5,
          83,
          83.5,
          84,
          84.5,
          85,
          85.5,
          86,
          86.5,
          87,
          87.5,
          88,
          88.5,
          89,
          89.5,
          90,
          90.5,
          91,
          91.5,
          92,
          92.5,
          93,
          93.5,
          94,
          94.5,
          95,
          95.5,
          96,
          96.5,
          97,
          97.5,
          98,
          98.5,
          99,
          99.5,
          100,
          100.5,
          101,
          101.5,
          102,
          102.5,
          103,
          103.5,
          104,
          104.5,
          105,
          105.5,
          106,
          106.5,
          107,
          107.5,
          108,
          108.5,
          109,
          109.5,
          110,
          110.5,
          111,
          111.5,
          112,
          112.5,
          113,
          113.5,
          114,
          114.5,
          115,
          115.5,
          116,
          116.5,
          117,
          117.5,
          118,
          118.5,
          119,
          119.5,
          120,
          120.5,
          121,
          121.5,
          122,
          122.5,
          123,
          123.5,
          124,
          124.5,
          125,
          125.5,
          126,
          126.5,
          127,
          127.5,
          128,
          128.5,
          129,
          129.5,
          130,
          130.5,
          131,
          131.5,
          132,
          132.5,
          133,
          133.5,
          134,
          134.5,
          135,
          135.5,
          136,
          136.5,
          137,
          137.5,
          138,
          138.5,
          139,
          139.5,
          140,
          140.5,
          141,
          141.5,
          142,
          142.5,
          143,
          143.5,
          144,
          144.5,
          145,
          145.5,
          146,
          146.5
         ],
         "xaxis": "x",
         "y": [
          0,
          0,
          0.00095,
          0.0022501533069381597,
          0.0038668544536043354,
          0.0057730818913338065,
          0.007947374413886673,
          0.010372977058339708,
          0.013037128928540186,
          0.015930469889894452,
          0.019046546852615122,
          0.02238140351400296,
          0.025933240069281643,
          0.029702131608937463,
          0.033689795768731684,
          0.03789940174536662,
          0.0423354140854133,
          0.047003465738731036,
          0.05191025577468731,
          0.05706346791885622,
          0.062471706703663796,
          0.06814444855885067,
          0.07409200561353205,
          0.08032550035519087,
          0.08685684960397363,
          0.09369875652307093,
          0.10086470960604181,
          0.10836898776661752,
          0.1162266708115984,
          0.12445365470779587,
          0.13306667116363446,
          0.1420833111384199,
          0.15152205197024732,
          0.1614022878794536,
          0.17174436366040752,
          0.18256961142195266,
          0.19390039027737296,
          0.2057601289195126,
          0.21817337104663603,
          0.23116582363058438,
          0.2447644080414642,
          0.25899731406307575,
          0.2738940568510376,
          0.289485536901505,
          0.30580410311285616,
          0.3228836190360255,
          0.3407595324215443,
          0.3594689481830121,
          0.37905070490785187,
          0.3995454550569385,
          0.4209957490051778,
          0.44344612308544795,
          0.46694319180860916,
          0.4915357444426098,
          0.5172748461441565,
          0.5442139438470271,
          0.5724089771219497,
          0.6019184942341108,
          0.6328037736358225,
          0.6651289511437376,
          0.6989611530622777,
          0.7343706355276878,
          0.77143093036038,
          0.8102189977270231,
          0.8508153859282079,
          0.8933043986425134,
          0.937774269973442,
          0.9843173476620352,
          1.0330302848450514,
          1.0840142407564295,
          1.1373750907884121,
          1.193223646348209,
          1.2516758849664755,
          1.312853191135219,
          1.3768826083750667,
          1.4438971030551777,
          1.5140358405135206,
          1.5874444740507974,
          1.6642754473980532,
          1.744688311286006,
          1.828850054773424,
          1.9169354520225448,
          2.0091274252416125,
          2.1056174245481944,
          2.206605825542078,
          2.312302345413335,
          2.4229264784496354,
          2.5387079518471762,
          2.6598872027717655,
          2.7867158776607237,
          2.9194573548024616,
          3.058387291278925,
          3.2037941954066995,
          3.3559800258655144,
          3.5152608187583088,
          3.681967343905024,
          3.856445791732996,
          4.039058492190362,
          4.230184667175385,
          4.430221218044213,
          4.63958354983243,
          4.858706433901978,
          5.08804491080486,
          5.32807523523851,
          5.57929586505515,
          5.842228496378927,
          6.117419146980352,
          6.405439290157822,
          6.706887041480821,
          7.022388400859232,
          7.352598552518037,
          7.698203225576937,
          8.059920118060294,
          8.438500387294482,
          8.834730209787617,
          9.249432413830904,
          9.683468188211863,
          10.137738870587727,
          10.61318781923274,
          11.110802372046207,
          11.631615896889334,
          12.176709937508571,
          12.747216459501617,
          13.344320200990031,
          13.969261132879788,
          14.62333703381867,
          15.307906185197586,
          16.02439019179215,
          16.774276933901753,
          17.55912365711638,
          18.380560206127292,
          19.240292409296664,
          20.14010562101442,
          21.08186842919809,
          22.067536535634417,
          23.099156817220383,
          24.178871576536835,
          25.30892299058118,
          26.491657766896903,
          27.72953201676842,
          29.025116355600396,
          30.38110124107244,
          31.800302560153735,
          33.28566747657889,
          34.840280550927076,
          36.467370146012584,
          38.17031513088717,
          39.95265189737471,
          41.818081703707485,
          43.77047836051252,
          45.813896275107254,
          47.95257887080766,
          50.1909673987306,
          52.53371016038688,
          54.98567216021458,
          57.55194520809451,
          60.2378584928241,
          63.048989648503536,
          65.99117633681131,
          69.07052836921731,
          72.29344039430254,
          75.66660517652723,
          79.19702749401762,
          82.89203868422572,
          86.75931186766206,
          90.80687788130814,
          95.04314195478916,
          99.47690116392855,
          104.11736269791979,
          108.97416297803971,
          114.05738766759455,
          119.37759261463985,
          124.94582577095139,
          130.74879834021263,
          136.78063521826462,
          143.04882595835548,
          149.5558434867681,
          156.2949164875518,
          163.26155706678654,
          170.4709921525938,
          177.9113507484607,
          185.57204537324057,
          193.47726030766293,
          201.64287792355594,
          210.0524442540437,
          218.71086949172468,
          227.59724080700857,
          236.71169712659838,
          246.093480260136,
          255.76058871365362,
          265.74452945343734,
          276.05657264493095,
          286.7022114311493,
          297.7147795958467,
          309.1206807344195,
          320.92114618629273,
          333.13738916016683,
          345.740421564068,
          358.7079144981286,
          372.0843950323805,
          385.8123679919832,
          399.9109525504498,
          414.35994660361484,
          429.1946184468891,
          444.43636347410785,
          460.0386886221755,
          476.0694135023723,
          492.5816192785981,
          509.53458944598935,
          526.956092952876,
          544.7840694116276,
          563.1019461558136,
          581.877078562736,
          601.0888059613519,
          620.695285700919,
          640.7754999672972,
          661.3013337402934,
          682.359528239606,
          703.8585244175696,
          725.8860560631264,
          748.4706719178781,
          771.5357568945341,
          795.183558952202,
          819.5077410739037,
          844.4856218804185,
          870.0670839979715,
          896.284026435954,
          923.1131035356783,
          950.5140093406417,
          978.530060281775,
          1007.2980362283819,
          1036.7011709287412,
          1066.6620973104966,
          1097.0921346111018,
          1128.0806869509724,
          1159.681450421089,
          1191.9346441657833,
          1224.824092678744,
          1258.4079262012128,
          1292.641093465354,
          1327.4712920981085,
          1362.805029135913,
          1398.716363690208,
          1435.2760447819562,
          1472.408499998701,
          1510.1094509261904,
          1548.3056010471737,
          1587.022777449933,
          1626.1589277075943,
          1665.8207811613222,
          1705.9555764896047,
          1746.6160050772253,
          1787.8537918610637,
          1829.7038133839862,
          1872.1323124331873,
          1915.315034208395,
          1959.363720545311,
          2004.4454002324646,
          2050.536023553748,
          2097.50818519137,
          2145.568257347735,
          2194.5460723877977,
          2244.541457298689,
          2295.710239366242,
          2348.050099663116,
          2401.654648256148,
          2456.6800668232563,
          2513.3308252704105,
          2571.5590713609763,
          2631.509326977275,
          2693.2127852525023,
          2756.6556165808734,
          2821.645071409432,
          2888.2987640589804,
          2956.538353710311,
          3026.344791921048,
          3097.5409892816215,
          3170.426089187387,
          3245.0661160613367,
          3321.6207183024762,
          3399.7820238183963,
          3479.737938836744,
          3561.4189697367487,
          3645.168164188125,
          3731.037574565444,
          3819.1563335525198,
          3909.6738160757586,
          4002.581987140549,
          4097.781219793353,
          4194.9460839817375,
          4293.86556800102,
          4394.850627954507
         ],
         "yaxis": "y"
        },
        {
         "line": {
          "color": "red"
         },
         "mode": "lines",
         "name": "historical data",
         "showlegend": true,
         "type": "scatter",
         "x": [
          0,
          1,
          2,
          3,
          4,
          5,
          6,
          7,
          8,
          9,
          10,
          11,
          12,
          13,
          14,
          15,
          16,
          17,
          18,
          19,
          20,
          21,
          22,
          23,
          24,
          25,
          26,
          27,
          28,
          29,
          30,
          31,
          32,
          33,
          34,
          35,
          36,
          37,
          38,
          39,
          40,
          41,
          42,
          43,
          44,
          45,
          46,
          47,
          48,
          49,
          50,
          51,
          52,
          53,
          54,
          55,
          56,
          57,
          58,
          59,
          60,
          61,
          62,
          63,
          64,
          65,
          66,
          67,
          68,
          69,
          70,
          71,
          72,
          73,
          74,
          75,
          76,
          77,
          78,
          79,
          80,
          81,
          82,
          83,
          84,
          85,
          86,
          87,
          88,
          89,
          90,
          91,
          92,
          93,
          94,
          95,
          96,
          97,
          98,
          99,
          100,
          101,
          102,
          103,
          104,
          105,
          106,
          107,
          108,
          109,
          110,
          111,
          112,
          113,
          114,
          115,
          116,
          117,
          118,
          119,
          120,
          121,
          122,
          123,
          124,
          125,
          126,
          127,
          128,
          129,
          130,
          131,
          132,
          133,
          134,
          135,
          136,
          137,
          138,
          139,
          140,
          141,
          142,
          143,
          144,
          145,
          146
         ],
         "y": [
          0,
          0,
          0,
          0,
          0,
          0,
          0,
          0,
          0,
          0,
          0,
          0,
          0,
          0,
          0,
          0,
          0,
          0,
          0,
          0,
          0,
          0,
          0,
          0,
          0,
          0,
          0,
          0,
          0,
          0,
          0,
          0,
          0,
          0,
          0,
          0,
          0,
          0,
          0,
          0,
          0,
          0,
          0,
          0,
          0,
          0,
          0,
          0,
          0,
          0,
          0,
          0,
          0,
          0,
          0,
          0,
          0,
          0,
          0,
          0,
          0,
          0,
          0,
          0,
          0,
          0,
          0,
          0,
          0,
          null,
          0,
          0,
          0,
          1,
          2,
          2,
          2,
          3,
          3,
          3,
          4,
          4,
          4,
          7,
          9,
          9,
          13,
          17,
          19,
          25,
          29,
          32,
          35,
          50,
          56,
          68,
          77,
          109,
          114,
          149,
          166,
          199,
          239,
          273,
          308,
          339,
          377,
          414,
          437,
          480,
          507,
          543,
          590,
          640,
          681,
          718,
          775,
          824,
          872,
          934,
          1007,
          1074,
          1147,
          1218,
          1301,
          1373,
          1568,
          1694,
          1783,
          1886,
          1981,
          2109,
          2206,
          2293,
          2415,
          2549,
          2649,
          2752,
          2872,
          3029,
          3163,
          3303,
          3435,
          3583,
          3720,
          3867,
          4021
         ]
        }
       ],
       "layout": {
        "legend": {
         "orientation": "h",
         "title": {
          "text": "scenario"
         },
         "tracegroupgap": 0
        },
        "margin": {
         "t": 60
        },
        "template": {
         "data": {
          "bar": [
           {
            "error_x": {
             "color": "rgb(36,36,36)"
            },
            "error_y": {
             "color": "rgb(36,36,36)"
            },
            "marker": {
             "line": {
              "color": "white",
              "width": 0.5
             }
            },
            "type": "bar"
           }
          ],
          "barpolar": [
           {
            "marker": {
             "line": {
              "color": "white",
              "width": 0.5
             }
            },
            "type": "barpolar"
           }
          ],
          "carpet": [
           {
            "aaxis": {
             "endlinecolor": "rgb(36,36,36)",
             "gridcolor": "white",
             "linecolor": "white",
             "minorgridcolor": "white",
             "startlinecolor": "rgb(36,36,36)"
            },
            "baxis": {
             "endlinecolor": "rgb(36,36,36)",
             "gridcolor": "white",
             "linecolor": "white",
             "minorgridcolor": "white",
             "startlinecolor": "rgb(36,36,36)"
            },
            "type": "carpet"
           }
          ],
          "choropleth": [
           {
            "colorbar": {
             "outlinewidth": 1,
             "tickcolor": "rgb(36,36,36)",
             "ticks": "outside"
            },
            "type": "choropleth"
           }
          ],
          "contour": [
           {
            "colorbar": {
             "outlinewidth": 1,
             "tickcolor": "rgb(36,36,36)",
             "ticks": "outside"
            },
            "colorscale": [
             [
              0,
              "#440154"
             ],
             [
              0.1111111111111111,
              "#482878"
             ],
             [
              0.2222222222222222,
              "#3e4989"
             ],
             [
              0.3333333333333333,
              "#31688e"
             ],
             [
              0.4444444444444444,
              "#26828e"
             ],
             [
              0.5555555555555556,
              "#1f9e89"
             ],
             [
              0.6666666666666666,
              "#35b779"
             ],
             [
              0.7777777777777778,
              "#6ece58"
             ],
             [
              0.8888888888888888,
              "#b5de2b"
             ],
             [
              1,
              "#fde725"
             ]
            ],
            "type": "contour"
           }
          ],
          "contourcarpet": [
           {
            "colorbar": {
             "outlinewidth": 1,
             "tickcolor": "rgb(36,36,36)",
             "ticks": "outside"
            },
            "type": "contourcarpet"
           }
          ],
          "heatmap": [
           {
            "colorbar": {
             "outlinewidth": 1,
             "tickcolor": "rgb(36,36,36)",
             "ticks": "outside"
            },
            "colorscale": [
             [
              0,
              "#440154"
             ],
             [
              0.1111111111111111,
              "#482878"
             ],
             [
              0.2222222222222222,
              "#3e4989"
             ],
             [
              0.3333333333333333,
              "#31688e"
             ],
             [
              0.4444444444444444,
              "#26828e"
             ],
             [
              0.5555555555555556,
              "#1f9e89"
             ],
             [
              0.6666666666666666,
              "#35b779"
             ],
             [
              0.7777777777777778,
              "#6ece58"
             ],
             [
              0.8888888888888888,
              "#b5de2b"
             ],
             [
              1,
              "#fde725"
             ]
            ],
            "type": "heatmap"
           }
          ],
          "heatmapgl": [
           {
            "colorbar": {
             "outlinewidth": 1,
             "tickcolor": "rgb(36,36,36)",
             "ticks": "outside"
            },
            "colorscale": [
             [
              0,
              "#440154"
             ],
             [
              0.1111111111111111,
              "#482878"
             ],
             [
              0.2222222222222222,
              "#3e4989"
             ],
             [
              0.3333333333333333,
              "#31688e"
             ],
             [
              0.4444444444444444,
              "#26828e"
             ],
             [
              0.5555555555555556,
              "#1f9e89"
             ],
             [
              0.6666666666666666,
              "#35b779"
             ],
             [
              0.7777777777777778,
              "#6ece58"
             ],
             [
              0.8888888888888888,
              "#b5de2b"
             ],
             [
              1,
              "#fde725"
             ]
            ],
            "type": "heatmapgl"
           }
          ],
          "histogram": [
           {
            "marker": {
             "line": {
              "color": "white",
              "width": 0.6
             }
            },
            "type": "histogram"
           }
          ],
          "histogram2d": [
           {
            "colorbar": {
             "outlinewidth": 1,
             "tickcolor": "rgb(36,36,36)",
             "ticks": "outside"
            },
            "colorscale": [
             [
              0,
              "#440154"
             ],
             [
              0.1111111111111111,
              "#482878"
             ],
             [
              0.2222222222222222,
              "#3e4989"
             ],
             [
              0.3333333333333333,
              "#31688e"
             ],
             [
              0.4444444444444444,
              "#26828e"
             ],
             [
              0.5555555555555556,
              "#1f9e89"
             ],
             [
              0.6666666666666666,
              "#35b779"
             ],
             [
              0.7777777777777778,
              "#6ece58"
             ],
             [
              0.8888888888888888,
              "#b5de2b"
             ],
             [
              1,
              "#fde725"
             ]
            ],
            "type": "histogram2d"
           }
          ],
          "histogram2dcontour": [
           {
            "colorbar": {
             "outlinewidth": 1,
             "tickcolor": "rgb(36,36,36)",
             "ticks": "outside"
            },
            "colorscale": [
             [
              0,
              "#440154"
             ],
             [
              0.1111111111111111,
              "#482878"
             ],
             [
              0.2222222222222222,
              "#3e4989"
             ],
             [
              0.3333333333333333,
              "#31688e"
             ],
             [
              0.4444444444444444,
              "#26828e"
             ],
             [
              0.5555555555555556,
              "#1f9e89"
             ],
             [
              0.6666666666666666,
              "#35b779"
             ],
             [
              0.7777777777777778,
              "#6ece58"
             ],
             [
              0.8888888888888888,
              "#b5de2b"
             ],
             [
              1,
              "#fde725"
             ]
            ],
            "type": "histogram2dcontour"
           }
          ],
          "mesh3d": [
           {
            "colorbar": {
             "outlinewidth": 1,
             "tickcolor": "rgb(36,36,36)",
             "ticks": "outside"
            },
            "type": "mesh3d"
           }
          ],
          "parcoords": [
           {
            "line": {
             "colorbar": {
              "outlinewidth": 1,
              "tickcolor": "rgb(36,36,36)",
              "ticks": "outside"
             }
            },
            "type": "parcoords"
           }
          ],
          "pie": [
           {
            "automargin": true,
            "type": "pie"
           }
          ],
          "scatter": [
           {
            "marker": {
             "colorbar": {
              "outlinewidth": 1,
              "tickcolor": "rgb(36,36,36)",
              "ticks": "outside"
             }
            },
            "type": "scatter"
           }
          ],
          "scatter3d": [
           {
            "line": {
             "colorbar": {
              "outlinewidth": 1,
              "tickcolor": "rgb(36,36,36)",
              "ticks": "outside"
             }
            },
            "marker": {
             "colorbar": {
              "outlinewidth": 1,
              "tickcolor": "rgb(36,36,36)",
              "ticks": "outside"
             }
            },
            "type": "scatter3d"
           }
          ],
          "scattercarpet": [
           {
            "marker": {
             "colorbar": {
              "outlinewidth": 1,
              "tickcolor": "rgb(36,36,36)",
              "ticks": "outside"
             }
            },
            "type": "scattercarpet"
           }
          ],
          "scattergeo": [
           {
            "marker": {
             "colorbar": {
              "outlinewidth": 1,
              "tickcolor": "rgb(36,36,36)",
              "ticks": "outside"
             }
            },
            "type": "scattergeo"
           }
          ],
          "scattergl": [
           {
            "marker": {
             "colorbar": {
              "outlinewidth": 1,
              "tickcolor": "rgb(36,36,36)",
              "ticks": "outside"
             }
            },
            "type": "scattergl"
           }
          ],
          "scattermapbox": [
           {
            "marker": {
             "colorbar": {
              "outlinewidth": 1,
              "tickcolor": "rgb(36,36,36)",
              "ticks": "outside"
             }
            },
            "type": "scattermapbox"
           }
          ],
          "scatterpolar": [
           {
            "marker": {
             "colorbar": {
              "outlinewidth": 1,
              "tickcolor": "rgb(36,36,36)",
              "ticks": "outside"
             }
            },
            "type": "scatterpolar"
           }
          ],
          "scatterpolargl": [
           {
            "marker": {
             "colorbar": {
              "outlinewidth": 1,
              "tickcolor": "rgb(36,36,36)",
              "ticks": "outside"
             }
            },
            "type": "scatterpolargl"
           }
          ],
          "scatterternary": [
           {
            "marker": {
             "colorbar": {
              "outlinewidth": 1,
              "tickcolor": "rgb(36,36,36)",
              "ticks": "outside"
             }
            },
            "type": "scatterternary"
           }
          ],
          "surface": [
           {
            "colorbar": {
             "outlinewidth": 1,
             "tickcolor": "rgb(36,36,36)",
             "ticks": "outside"
            },
            "colorscale": [
             [
              0,
              "#440154"
             ],
             [
              0.1111111111111111,
              "#482878"
             ],
             [
              0.2222222222222222,
              "#3e4989"
             ],
             [
              0.3333333333333333,
              "#31688e"
             ],
             [
              0.4444444444444444,
              "#26828e"
             ],
             [
              0.5555555555555556,
              "#1f9e89"
             ],
             [
              0.6666666666666666,
              "#35b779"
             ],
             [
              0.7777777777777778,
              "#6ece58"
             ],
             [
              0.8888888888888888,
              "#b5de2b"
             ],
             [
              1,
              "#fde725"
             ]
            ],
            "type": "surface"
           }
          ],
          "table": [
           {
            "cells": {
             "fill": {
              "color": "rgb(237,237,237)"
             },
             "line": {
              "color": "white"
             }
            },
            "header": {
             "fill": {
              "color": "rgb(217,217,217)"
             },
             "line": {
              "color": "white"
             }
            },
            "type": "table"
           }
          ]
         },
         "layout": {
          "annotationdefaults": {
           "arrowhead": 0,
           "arrowwidth": 1
          },
          "coloraxis": {
           "colorbar": {
            "outlinewidth": 1,
            "tickcolor": "rgb(36,36,36)",
            "ticks": "outside"
           }
          },
          "colorscale": {
           "diverging": [
            [
             0,
             "rgb(103,0,31)"
            ],
            [
             0.1,
             "rgb(178,24,43)"
            ],
            [
             0.2,
             "rgb(214,96,77)"
            ],
            [
             0.3,
             "rgb(244,165,130)"
            ],
            [
             0.4,
             "rgb(253,219,199)"
            ],
            [
             0.5,
             "rgb(247,247,247)"
            ],
            [
             0.6,
             "rgb(209,229,240)"
            ],
            [
             0.7,
             "rgb(146,197,222)"
            ],
            [
             0.8,
             "rgb(67,147,195)"
            ],
            [
             0.9,
             "rgb(33,102,172)"
            ],
            [
             1,
             "rgb(5,48,97)"
            ]
           ],
           "sequential": [
            [
             0,
             "#440154"
            ],
            [
             0.1111111111111111,
             "#482878"
            ],
            [
             0.2222222222222222,
             "#3e4989"
            ],
            [
             0.3333333333333333,
             "#31688e"
            ],
            [
             0.4444444444444444,
             "#26828e"
            ],
            [
             0.5555555555555556,
             "#1f9e89"
            ],
            [
             0.6666666666666666,
             "#35b779"
            ],
            [
             0.7777777777777778,
             "#6ece58"
            ],
            [
             0.8888888888888888,
             "#b5de2b"
            ],
            [
             1,
             "#fde725"
            ]
           ],
           "sequentialminus": [
            [
             0,
             "#440154"
            ],
            [
             0.1111111111111111,
             "#482878"
            ],
            [
             0.2222222222222222,
             "#3e4989"
            ],
            [
             0.3333333333333333,
             "#31688e"
            ],
            [
             0.4444444444444444,
             "#26828e"
            ],
            [
             0.5555555555555556,
             "#1f9e89"
            ],
            [
             0.6666666666666666,
             "#35b779"
            ],
            [
             0.7777777777777778,
             "#6ece58"
            ],
            [
             0.8888888888888888,
             "#b5de2b"
            ],
            [
             1,
             "#fde725"
            ]
           ]
          },
          "colorway": [
           "#1F77B4",
           "#FF7F0E",
           "#2CA02C",
           "#D62728",
           "#9467BD",
           "#8C564B",
           "#E377C2",
           "#7F7F7F",
           "#BCBD22",
           "#17BECF"
          ],
          "font": {
           "color": "rgb(36,36,36)"
          },
          "geo": {
           "bgcolor": "white",
           "lakecolor": "white",
           "landcolor": "white",
           "showlakes": true,
           "showland": true,
           "subunitcolor": "white"
          },
          "hoverlabel": {
           "align": "left"
          },
          "hovermode": "closest",
          "mapbox": {
           "style": "light"
          },
          "paper_bgcolor": "white",
          "plot_bgcolor": "white",
          "polar": {
           "angularaxis": {
            "gridcolor": "rgb(232,232,232)",
            "linecolor": "rgb(36,36,36)",
            "showgrid": false,
            "showline": true,
            "ticks": "outside"
           },
           "bgcolor": "white",
           "radialaxis": {
            "gridcolor": "rgb(232,232,232)",
            "linecolor": "rgb(36,36,36)",
            "showgrid": false,
            "showline": true,
            "ticks": "outside"
           }
          },
          "scene": {
           "xaxis": {
            "backgroundcolor": "white",
            "gridcolor": "rgb(232,232,232)",
            "gridwidth": 2,
            "linecolor": "rgb(36,36,36)",
            "showbackground": true,
            "showgrid": false,
            "showline": true,
            "ticks": "outside",
            "zeroline": false,
            "zerolinecolor": "rgb(36,36,36)"
           },
           "yaxis": {
            "backgroundcolor": "white",
            "gridcolor": "rgb(232,232,232)",
            "gridwidth": 2,
            "linecolor": "rgb(36,36,36)",
            "showbackground": true,
            "showgrid": false,
            "showline": true,
            "ticks": "outside",
            "zeroline": false,
            "zerolinecolor": "rgb(36,36,36)"
           },
           "zaxis": {
            "backgroundcolor": "white",
            "gridcolor": "rgb(232,232,232)",
            "gridwidth": 2,
            "linecolor": "rgb(36,36,36)",
            "showbackground": true,
            "showgrid": false,
            "showline": true,
            "ticks": "outside",
            "zeroline": false,
            "zerolinecolor": "rgb(36,36,36)"
           }
          },
          "shapedefaults": {
           "fillcolor": "black",
           "line": {
            "width": 0
           },
           "opacity": 0.3
          },
          "ternary": {
           "aaxis": {
            "gridcolor": "rgb(232,232,232)",
            "linecolor": "rgb(36,36,36)",
            "showgrid": false,
            "showline": true,
            "ticks": "outside"
           },
           "baxis": {
            "gridcolor": "rgb(232,232,232)",
            "linecolor": "rgb(36,36,36)",
            "showgrid": false,
            "showline": true,
            "ticks": "outside"
           },
           "bgcolor": "white",
           "caxis": {
            "gridcolor": "rgb(232,232,232)",
            "linecolor": "rgb(36,36,36)",
            "showgrid": false,
            "showline": true,
            "ticks": "outside"
           }
          },
          "title": {
           "x": 0.05
          },
          "xaxis": {
           "automargin": true,
           "gridcolor": "rgb(232,232,232)",
           "linecolor": "rgb(36,36,36)",
           "showgrid": true,
           "showline": true,
           "ticks": "outside",
           "title": {
            "standoff": 15
           },
           "zeroline": false,
           "zerolinecolor": "rgb(36,36,36)"
          },
          "yaxis": {
           "automargin": true,
           "gridcolor": "rgb(232,232,232)",
           "linecolor": "rgb(36,36,36)",
           "showgrid": true,
           "showline": true,
           "ticks": "outside",
           "title": {
            "standoff": 15
           },
           "zeroline": false,
           "zerolinecolor": "rgb(36,36,36)"
          }
         }
        },
        "width": 800,
        "xaxis": {
         "anchor": "y",
         "domain": [
          0,
          1
         ],
         "title": {
          "text": "Days"
         }
        },
        "yaxis": {
         "anchor": "x",
         "domain": [
          0,
          1
         ],
         "title": {
          "text": "Total deaths"
         }
        }
       }
      },
      "text/html": "<div>\n        \n        \n            <div id=\"7f5f7df8-3b4b-402d-b84e-5bf39c40c76a\" class=\"plotly-graph-div\" style=\"height:525px; width:800px;\"></div>\n            <script type=\"text/javascript\">\n                require([\"plotly\"], function(Plotly) {\n                    window.PLOTLYENV=window.PLOTLYENV || {};\n                    \n                if (document.getElementById(\"7f5f7df8-3b4b-402d-b84e-5bf39c40c76a\")) {\n                    Plotly.newPlot(\n                        '7f5f7df8-3b4b-402d-b84e-5bf39c40c76a',\n                        [{\"hovertemplate\": \"scenario=simulated<br>time=%{x}<br>covid_deaths=%{y}<extra></extra>\", \"legendgroup\": \"simulated\", \"line\": {\"color\": \"#1F77B4\", \"dash\": \"solid\"}, \"mode\": \"lines\", \"name\": \"simulated\", \"orientation\": \"v\", \"showlegend\": true, \"type\": \"scatter\", \"x\": [1.0, 1.5, 2.0, 2.5, 3.0, 3.5, 4.0, 4.5, 5.0, 5.5, 6.0, 6.5, 7.0, 7.5, 8.0, 8.5, 9.0, 9.5, 10.0, 10.5, 11.0, 11.5, 12.0, 12.5, 13.0, 13.5, 14.0, 14.5, 15.0, 15.5, 16.0, 16.5, 17.0, 17.5, 18.0, 18.5, 19.0, 19.5, 20.0, 20.5, 21.0, 21.5, 22.0, 22.5, 23.0, 23.5, 24.0, 24.5, 25.0, 25.5, 26.0, 26.5, 27.0, 27.5, 28.0, 28.5, 29.0, 29.5, 30.0, 30.5, 31.0, 31.5, 32.0, 32.5, 33.0, 33.5, 34.0, 34.5, 35.0, 35.5, 36.0, 36.5, 37.0, 37.5, 38.0, 38.5, 39.0, 39.5, 40.0, 40.5, 41.0, 41.5, 42.0, 42.5, 43.0, 43.5, 44.0, 44.5, 45.0, 45.5, 46.0, 46.5, 47.0, 47.5, 48.0, 48.5, 49.0, 49.5, 50.0, 50.5, 51.0, 51.5, 52.0, 52.5, 53.0, 53.5, 54.0, 54.5, 55.0, 55.5, 56.0, 56.5, 57.0, 57.5, 58.0, 58.5, 59.0, 59.5, 60.0, 60.5, 61.0, 61.5, 62.0, 62.5, 63.0, 63.5, 64.0, 64.5, 65.0, 65.5, 66.0, 66.5, 67.0, 67.5, 68.0, 68.5, 69.0, 69.5, 70.0, 70.5, 71.0, 71.5, 72.0, 72.5, 73.0, 73.5, 74.0, 74.5, 75.0, 75.5, 76.0, 76.5, 77.0, 77.5, 78.0, 78.5, 79.0, 79.5, 80.0, 80.5, 81.0, 81.5, 82.0, 82.5, 83.0, 83.5, 84.0, 84.5, 85.0, 85.5, 86.0, 86.5, 87.0, 87.5, 88.0, 88.5, 89.0, 89.5, 90.0, 90.5, 91.0, 91.5, 92.0, 92.5, 93.0, 93.5, 94.0, 94.5, 95.0, 95.5, 96.0, 96.5, 97.0, 97.5, 98.0, 98.5, 99.0, 99.5, 100.0, 100.5, 101.0, 101.5, 102.0, 102.5, 103.0, 103.5, 104.0, 104.5, 105.0, 105.5, 106.0, 106.5, 107.0, 107.5, 108.0, 108.5, 109.0, 109.5, 110.0, 110.5, 111.0, 111.5, 112.0, 112.5, 113.0, 113.5, 114.0, 114.5, 115.0, 115.5, 116.0, 116.5, 117.0, 117.5, 118.0, 118.5, 119.0, 119.5, 120.0, 120.5, 121.0, 121.5, 122.0, 122.5, 123.0, 123.5, 124.0, 124.5, 125.0, 125.5, 126.0, 126.5, 127.0, 127.5, 128.0, 128.5, 129.0, 129.5, 130.0, 130.5, 131.0, 131.5, 132.0, 132.5, 133.0, 133.5, 134.0, 134.5, 135.0, 135.5, 136.0, 136.5, 137.0, 137.5, 138.0, 138.5, 139.0, 139.5, 140.0, 140.5, 141.0, 141.5, 142.0, 142.5, 143.0, 143.5, 144.0, 144.5, 145.0, 145.5, 146.0, 146.5], \"xaxis\": \"x\", \"y\": [0.0, 0.0, 0.00095, 0.0022501533069381597, 0.0038668544536043354, 0.0057730818913338065, 0.007947374413886673, 0.010372977058339708, 0.013037128928540186, 0.015930469889894452, 0.019046546852615122, 0.02238140351400296, 0.025933240069281643, 0.029702131608937463, 0.033689795768731684, 0.03789940174536662, 0.0423354140854133, 0.047003465738731036, 0.05191025577468731, 0.05706346791885622, 0.062471706703663796, 0.06814444855885067, 0.07409200561353205, 0.08032550035519087, 0.08685684960397363, 0.09369875652307093, 0.10086470960604181, 0.10836898776661752, 0.1162266708115984, 0.12445365470779587, 0.13306667116363446, 0.1420833111384199, 0.15152205197024732, 0.1614022878794536, 0.17174436366040752, 0.18256961142195266, 0.19390039027737296, 0.2057601289195126, 0.21817337104663603, 0.23116582363058438, 0.2447644080414642, 0.25899731406307575, 0.2738940568510376, 0.289485536901505, 0.30580410311285616, 0.3228836190360255, 0.3407595324215443, 0.3594689481830121, 0.37905070490785187, 0.3995454550569385, 0.4209957490051778, 0.44344612308544795, 0.46694319180860916, 0.4915357444426098, 0.5172748461441565, 0.5442139438470271, 0.5724089771219497, 0.6019184942341108, 0.6328037736358225, 0.6651289511437376, 0.6989611530622777, 0.7343706355276878, 0.77143093036038, 0.8102189977270231, 0.8508153859282079, 0.8933043986425134, 0.937774269973442, 0.9843173476620352, 1.0330302848450514, 1.0840142407564295, 1.1373750907884121, 1.193223646348209, 1.2516758849664755, 1.312853191135219, 1.3768826083750667, 1.4438971030551777, 1.5140358405135206, 1.5874444740507974, 1.6642754473980532, 1.744688311286006, 1.828850054773424, 1.9169354520225448, 2.0091274252416125, 2.1056174245481944, 2.206605825542078, 2.312302345413335, 2.4229264784496354, 2.5387079518471762, 2.6598872027717655, 2.7867158776607237, 2.9194573548024616, 3.058387291278925, 3.2037941954066995, 3.3559800258655144, 3.5152608187583088, 3.681967343905024, 3.856445791732996, 4.039058492190362, 4.230184667175385, 4.430221218044213, 4.63958354983243, 4.858706433901978, 5.08804491080486, 5.32807523523851, 5.57929586505515, 5.842228496378927, 6.117419146980352, 6.405439290157822, 6.706887041480821, 7.022388400859232, 7.352598552518037, 7.698203225576937, 8.059920118060294, 8.438500387294482, 8.834730209787617, 9.249432413830904, 9.683468188211863, 10.137738870587727, 10.61318781923274, 11.110802372046207, 11.631615896889334, 12.176709937508571, 12.747216459501617, 13.344320200990031, 13.969261132879788, 14.62333703381867, 15.307906185197586, 16.02439019179215, 16.774276933901753, 17.55912365711638, 18.380560206127292, 19.240292409296664, 20.14010562101442, 21.08186842919809, 22.067536535634417, 23.099156817220383, 24.178871576536835, 25.30892299058118, 26.491657766896903, 27.72953201676842, 29.025116355600396, 30.38110124107244, 31.800302560153735, 33.28566747657889, 34.840280550927076, 36.467370146012584, 38.17031513088717, 39.95265189737471, 41.818081703707485, 43.77047836051252, 45.813896275107254, 47.95257887080766, 50.1909673987306, 52.53371016038688, 54.98567216021458, 57.55194520809451, 60.2378584928241, 63.048989648503536, 65.99117633681131, 69.07052836921731, 72.29344039430254, 75.66660517652723, 79.19702749401762, 82.89203868422572, 86.75931186766206, 90.80687788130814, 95.04314195478916, 99.47690116392855, 104.11736269791979, 108.97416297803971, 114.05738766759455, 119.37759261463985, 124.94582577095139, 130.74879834021263, 136.78063521826462, 143.04882595835548, 149.5558434867681, 156.2949164875518, 163.26155706678654, 170.4709921525938, 177.9113507484607, 185.57204537324057, 193.47726030766293, 201.64287792355594, 210.0524442540437, 218.71086949172468, 227.59724080700857, 236.71169712659838, 246.093480260136, 255.76058871365362, 265.74452945343734, 276.05657264493095, 286.7022114311493, 297.7147795958467, 309.1206807344195, 320.92114618629273, 333.13738916016683, 345.740421564068, 358.7079144981286, 372.0843950323805, 385.8123679919832, 399.9109525504498, 414.35994660361484, 429.1946184468891, 444.43636347410785, 460.0386886221755, 476.0694135023723, 492.5816192785981, 509.53458944598935, 526.956092952876, 544.7840694116276, 563.1019461558136, 581.877078562736, 601.0888059613519, 620.695285700919, 640.7754999672972, 661.3013337402934, 682.359528239606, 703.8585244175696, 725.8860560631264, 748.4706719178781, 771.5357568945341, 795.183558952202, 819.5077410739037, 844.4856218804185, 870.0670839979715, 896.284026435954, 923.1131035356783, 950.5140093406417, 978.530060281775, 1007.2980362283819, 1036.7011709287412, 1066.6620973104966, 1097.0921346111018, 1128.0806869509724, 1159.681450421089, 1191.9346441657833, 1224.824092678744, 1258.4079262012128, 1292.641093465354, 1327.4712920981085, 1362.805029135913, 1398.716363690208, 1435.2760447819562, 1472.408499998701, 1510.1094509261904, 1548.3056010471737, 1587.022777449933, 1626.1589277075943, 1665.8207811613222, 1705.9555764896047, 1746.6160050772253, 1787.8537918610637, 1829.7038133839862, 1872.1323124331873, 1915.315034208395, 1959.363720545311, 2004.4454002324646, 2050.536023553748, 2097.50818519137, 2145.568257347735, 2194.5460723877977, 2244.541457298689, 2295.710239366242, 2348.050099663116, 2401.654648256148, 2456.6800668232563, 2513.3308252704105, 2571.5590713609763, 2631.509326977275, 2693.2127852525023, 2756.6556165808734, 2821.645071409432, 2888.2987640589804, 2956.538353710311, 3026.344791921048, 3097.5409892816215, 3170.426089187387, 3245.0661160613367, 3321.6207183024762, 3399.7820238183963, 3479.737938836744, 3561.4189697367487, 3645.168164188125, 3731.037574565444, 3819.1563335525198, 3909.6738160757586, 4002.581987140549, 4097.781219793353, 4194.9460839817375, 4293.86556800102, 4394.850627954507], \"yaxis\": \"y\"}, {\"line\": {\"color\": \"red\"}, \"mode\": \"lines\", \"name\": \"historical data\", \"showlegend\": true, \"type\": \"scatter\", \"x\": [0, 1, 2, 3, 4, 5, 6, 7, 8, 9, 10, 11, 12, 13, 14, 15, 16, 17, 18, 19, 20, 21, 22, 23, 24, 25, 26, 27, 28, 29, 30, 31, 32, 33, 34, 35, 36, 37, 38, 39, 40, 41, 42, 43, 44, 45, 46, 47, 48, 49, 50, 51, 52, 53, 54, 55, 56, 57, 58, 59, 60, 61, 62, 63, 64, 65, 66, 67, 68, 69, 70, 71, 72, 73, 74, 75, 76, 77, 78, 79, 80, 81, 82, 83, 84, 85, 86, 87, 88, 89, 90, 91, 92, 93, 94, 95, 96, 97, 98, 99, 100, 101, 102, 103, 104, 105, 106, 107, 108, 109, 110, 111, 112, 113, 114, 115, 116, 117, 118, 119, 120, 121, 122, 123, 124, 125, 126, 127, 128, 129, 130, 131, 132, 133, 134, 135, 136, 137, 138, 139, 140, 141, 142, 143, 144, 145, 146], \"y\": [0.0, 0.0, 0.0, 0.0, 0.0, 0.0, 0.0, 0.0, 0.0, 0.0, 0.0, 0.0, 0.0, 0.0, 0.0, 0.0, 0.0, 0.0, 0.0, 0.0, 0.0, 0.0, 0.0, 0.0, 0.0, 0.0, 0.0, 0.0, 0.0, 0.0, 0.0, 0.0, 0.0, 0.0, 0.0, 0.0, 0.0, 0.0, 0.0, 0.0, 0.0, 0.0, 0.0, 0.0, 0.0, 0.0, 0.0, 0.0, 0.0, 0.0, 0.0, 0.0, 0.0, 0.0, 0.0, 0.0, 0.0, 0.0, 0.0, 0.0, 0.0, 0.0, 0.0, 0.0, 0.0, 0.0, 0.0, 0.0, 0.0, null, 0.0, 0.0, 0.0, 1.0, 2.0, 2.0, 2.0, 3.0, 3.0, 3.0, 4.0, 4.0, 4.0, 7.0, 9.0, 9.0, 13.0, 17.0, 19.0, 25.0, 29.0, 32.0, 35.0, 50.0, 56.0, 68.0, 77.0, 109.0, 114.0, 149.0, 166.0, 199.0, 239.0, 273.0, 308.0, 339.0, 377.0, 414.0, 437.0, 480.0, 507.0, 543.0, 590.0, 640.0, 681.0, 718.0, 775.0, 824.0, 872.0, 934.0, 1007.0, 1074.0, 1147.0, 1218.0, 1301.0, 1373.0, 1568.0, 1694.0, 1783.0, 1886.0, 1981.0, 2109.0, 2206.0, 2293.0, 2415.0, 2549.0, 2649.0, 2752.0, 2872.0, 3029.0, 3163.0, 3303.0, 3435.0, 3583.0, 3720.0, 3867.0, 4021.0]}],\n                        {\"legend\": {\"orientation\": \"h\", \"title\": {\"text\": \"scenario\"}, \"tracegroupgap\": 0}, \"margin\": {\"t\": 60}, \"template\": {\"data\": {\"bar\": [{\"error_x\": {\"color\": \"rgb(36,36,36)\"}, \"error_y\": {\"color\": \"rgb(36,36,36)\"}, \"marker\": {\"line\": {\"color\": \"white\", \"width\": 0.5}}, \"type\": \"bar\"}], \"barpolar\": [{\"marker\": {\"line\": {\"color\": \"white\", \"width\": 0.5}}, \"type\": \"barpolar\"}], \"carpet\": [{\"aaxis\": {\"endlinecolor\": \"rgb(36,36,36)\", \"gridcolor\": \"white\", \"linecolor\": \"white\", \"minorgridcolor\": \"white\", \"startlinecolor\": \"rgb(36,36,36)\"}, \"baxis\": {\"endlinecolor\": \"rgb(36,36,36)\", \"gridcolor\": \"white\", \"linecolor\": \"white\", \"minorgridcolor\": \"white\", \"startlinecolor\": \"rgb(36,36,36)\"}, \"type\": \"carpet\"}], \"choropleth\": [{\"colorbar\": {\"outlinewidth\": 1, \"tickcolor\": \"rgb(36,36,36)\", \"ticks\": \"outside\"}, \"type\": \"choropleth\"}], \"contour\": [{\"colorbar\": {\"outlinewidth\": 1, \"tickcolor\": \"rgb(36,36,36)\", \"ticks\": \"outside\"}, \"colorscale\": [[0.0, \"#440154\"], [0.1111111111111111, \"#482878\"], [0.2222222222222222, \"#3e4989\"], [0.3333333333333333, \"#31688e\"], [0.4444444444444444, \"#26828e\"], [0.5555555555555556, \"#1f9e89\"], [0.6666666666666666, \"#35b779\"], [0.7777777777777778, \"#6ece58\"], [0.8888888888888888, \"#b5de2b\"], [1.0, \"#fde725\"]], \"type\": \"contour\"}], \"contourcarpet\": [{\"colorbar\": {\"outlinewidth\": 1, \"tickcolor\": \"rgb(36,36,36)\", \"ticks\": \"outside\"}, \"type\": \"contourcarpet\"}], \"heatmap\": [{\"colorbar\": {\"outlinewidth\": 1, \"tickcolor\": \"rgb(36,36,36)\", \"ticks\": \"outside\"}, \"colorscale\": [[0.0, \"#440154\"], [0.1111111111111111, \"#482878\"], [0.2222222222222222, \"#3e4989\"], [0.3333333333333333, \"#31688e\"], [0.4444444444444444, \"#26828e\"], [0.5555555555555556, \"#1f9e89\"], [0.6666666666666666, \"#35b779\"], [0.7777777777777778, \"#6ece58\"], [0.8888888888888888, \"#b5de2b\"], [1.0, \"#fde725\"]], \"type\": \"heatmap\"}], \"heatmapgl\": [{\"colorbar\": {\"outlinewidth\": 1, \"tickcolor\": \"rgb(36,36,36)\", \"ticks\": \"outside\"}, \"colorscale\": [[0.0, \"#440154\"], [0.1111111111111111, \"#482878\"], [0.2222222222222222, \"#3e4989\"], [0.3333333333333333, \"#31688e\"], [0.4444444444444444, \"#26828e\"], [0.5555555555555556, \"#1f9e89\"], [0.6666666666666666, \"#35b779\"], [0.7777777777777778, \"#6ece58\"], [0.8888888888888888, \"#b5de2b\"], [1.0, \"#fde725\"]], \"type\": \"heatmapgl\"}], \"histogram\": [{\"marker\": {\"line\": {\"color\": \"white\", \"width\": 0.6}}, \"type\": \"histogram\"}], \"histogram2d\": [{\"colorbar\": {\"outlinewidth\": 1, \"tickcolor\": \"rgb(36,36,36)\", \"ticks\": \"outside\"}, \"colorscale\": [[0.0, \"#440154\"], [0.1111111111111111, \"#482878\"], [0.2222222222222222, \"#3e4989\"], [0.3333333333333333, \"#31688e\"], [0.4444444444444444, \"#26828e\"], [0.5555555555555556, \"#1f9e89\"], [0.6666666666666666, \"#35b779\"], [0.7777777777777778, \"#6ece58\"], [0.8888888888888888, \"#b5de2b\"], [1.0, \"#fde725\"]], \"type\": \"histogram2d\"}], \"histogram2dcontour\": [{\"colorbar\": {\"outlinewidth\": 1, \"tickcolor\": \"rgb(36,36,36)\", \"ticks\": \"outside\"}, \"colorscale\": [[0.0, \"#440154\"], [0.1111111111111111, \"#482878\"], [0.2222222222222222, \"#3e4989\"], [0.3333333333333333, \"#31688e\"], [0.4444444444444444, \"#26828e\"], [0.5555555555555556, \"#1f9e89\"], [0.6666666666666666, \"#35b779\"], [0.7777777777777778, \"#6ece58\"], [0.8888888888888888, \"#b5de2b\"], [1.0, \"#fde725\"]], \"type\": \"histogram2dcontour\"}], \"mesh3d\": [{\"colorbar\": {\"outlinewidth\": 1, \"tickcolor\": \"rgb(36,36,36)\", \"ticks\": \"outside\"}, \"type\": \"mesh3d\"}], \"parcoords\": [{\"line\": {\"colorbar\": {\"outlinewidth\": 1, \"tickcolor\": \"rgb(36,36,36)\", \"ticks\": \"outside\"}}, \"type\": \"parcoords\"}], \"pie\": [{\"automargin\": true, \"type\": \"pie\"}], \"scatter\": [{\"marker\": {\"colorbar\": {\"outlinewidth\": 1, \"tickcolor\": \"rgb(36,36,36)\", \"ticks\": \"outside\"}}, \"type\": \"scatter\"}], \"scatter3d\": [{\"line\": {\"colorbar\": {\"outlinewidth\": 1, \"tickcolor\": \"rgb(36,36,36)\", \"ticks\": \"outside\"}}, \"marker\": {\"colorbar\": {\"outlinewidth\": 1, \"tickcolor\": \"rgb(36,36,36)\", \"ticks\": \"outside\"}}, \"type\": \"scatter3d\"}], \"scattercarpet\": [{\"marker\": {\"colorbar\": {\"outlinewidth\": 1, \"tickcolor\": \"rgb(36,36,36)\", \"ticks\": \"outside\"}}, \"type\": \"scattercarpet\"}], \"scattergeo\": [{\"marker\": {\"colorbar\": {\"outlinewidth\": 1, \"tickcolor\": \"rgb(36,36,36)\", \"ticks\": \"outside\"}}, \"type\": \"scattergeo\"}], \"scattergl\": [{\"marker\": {\"colorbar\": {\"outlinewidth\": 1, \"tickcolor\": \"rgb(36,36,36)\", \"ticks\": \"outside\"}}, \"type\": \"scattergl\"}], \"scattermapbox\": [{\"marker\": {\"colorbar\": {\"outlinewidth\": 1, \"tickcolor\": \"rgb(36,36,36)\", \"ticks\": \"outside\"}}, \"type\": \"scattermapbox\"}], \"scatterpolar\": [{\"marker\": {\"colorbar\": {\"outlinewidth\": 1, \"tickcolor\": \"rgb(36,36,36)\", \"ticks\": \"outside\"}}, \"type\": \"scatterpolar\"}], \"scatterpolargl\": [{\"marker\": {\"colorbar\": {\"outlinewidth\": 1, \"tickcolor\": \"rgb(36,36,36)\", \"ticks\": \"outside\"}}, \"type\": \"scatterpolargl\"}], \"scatterternary\": [{\"marker\": {\"colorbar\": {\"outlinewidth\": 1, \"tickcolor\": \"rgb(36,36,36)\", \"ticks\": \"outside\"}}, \"type\": \"scatterternary\"}], \"surface\": [{\"colorbar\": {\"outlinewidth\": 1, \"tickcolor\": \"rgb(36,36,36)\", \"ticks\": \"outside\"}, \"colorscale\": [[0.0, \"#440154\"], [0.1111111111111111, \"#482878\"], [0.2222222222222222, \"#3e4989\"], [0.3333333333333333, \"#31688e\"], [0.4444444444444444, \"#26828e\"], [0.5555555555555556, \"#1f9e89\"], [0.6666666666666666, \"#35b779\"], [0.7777777777777778, \"#6ece58\"], [0.8888888888888888, \"#b5de2b\"], [1.0, \"#fde725\"]], \"type\": \"surface\"}], \"table\": [{\"cells\": {\"fill\": {\"color\": \"rgb(237,237,237)\"}, \"line\": {\"color\": \"white\"}}, \"header\": {\"fill\": {\"color\": \"rgb(217,217,217)\"}, \"line\": {\"color\": \"white\"}}, \"type\": \"table\"}]}, \"layout\": {\"annotationdefaults\": {\"arrowhead\": 0, \"arrowwidth\": 1}, \"coloraxis\": {\"colorbar\": {\"outlinewidth\": 1, \"tickcolor\": \"rgb(36,36,36)\", \"ticks\": \"outside\"}}, \"colorscale\": {\"diverging\": [[0.0, \"rgb(103,0,31)\"], [0.1, \"rgb(178,24,43)\"], [0.2, \"rgb(214,96,77)\"], [0.3, \"rgb(244,165,130)\"], [0.4, \"rgb(253,219,199)\"], [0.5, \"rgb(247,247,247)\"], [0.6, \"rgb(209,229,240)\"], [0.7, \"rgb(146,197,222)\"], [0.8, \"rgb(67,147,195)\"], [0.9, \"rgb(33,102,172)\"], [1.0, \"rgb(5,48,97)\"]], \"sequential\": [[0.0, \"#440154\"], [0.1111111111111111, \"#482878\"], [0.2222222222222222, \"#3e4989\"], [0.3333333333333333, \"#31688e\"], [0.4444444444444444, \"#26828e\"], [0.5555555555555556, \"#1f9e89\"], [0.6666666666666666, \"#35b779\"], [0.7777777777777778, \"#6ece58\"], [0.8888888888888888, \"#b5de2b\"], [1.0, \"#fde725\"]], \"sequentialminus\": [[0.0, \"#440154\"], [0.1111111111111111, \"#482878\"], [0.2222222222222222, \"#3e4989\"], [0.3333333333333333, \"#31688e\"], [0.4444444444444444, \"#26828e\"], [0.5555555555555556, \"#1f9e89\"], [0.6666666666666666, \"#35b779\"], [0.7777777777777778, \"#6ece58\"], [0.8888888888888888, \"#b5de2b\"], [1.0, \"#fde725\"]]}, \"colorway\": [\"#1F77B4\", \"#FF7F0E\", \"#2CA02C\", \"#D62728\", \"#9467BD\", \"#8C564B\", \"#E377C2\", \"#7F7F7F\", \"#BCBD22\", \"#17BECF\"], \"font\": {\"color\": \"rgb(36,36,36)\"}, \"geo\": {\"bgcolor\": \"white\", \"lakecolor\": \"white\", \"landcolor\": \"white\", \"showlakes\": true, \"showland\": true, \"subunitcolor\": \"white\"}, \"hoverlabel\": {\"align\": \"left\"}, \"hovermode\": \"closest\", \"mapbox\": {\"style\": \"light\"}, \"paper_bgcolor\": \"white\", \"plot_bgcolor\": \"white\", \"polar\": {\"angularaxis\": {\"gridcolor\": \"rgb(232,232,232)\", \"linecolor\": \"rgb(36,36,36)\", \"showgrid\": false, \"showline\": true, \"ticks\": \"outside\"}, \"bgcolor\": \"white\", \"radialaxis\": {\"gridcolor\": \"rgb(232,232,232)\", \"linecolor\": \"rgb(36,36,36)\", \"showgrid\": false, \"showline\": true, \"ticks\": \"outside\"}}, \"scene\": {\"xaxis\": {\"backgroundcolor\": \"white\", \"gridcolor\": \"rgb(232,232,232)\", \"gridwidth\": 2, \"linecolor\": \"rgb(36,36,36)\", \"showbackground\": true, \"showgrid\": false, \"showline\": true, \"ticks\": \"outside\", \"zeroline\": false, \"zerolinecolor\": \"rgb(36,36,36)\"}, \"yaxis\": {\"backgroundcolor\": \"white\", \"gridcolor\": \"rgb(232,232,232)\", \"gridwidth\": 2, \"linecolor\": \"rgb(36,36,36)\", \"showbackground\": true, \"showgrid\": false, \"showline\": true, \"ticks\": \"outside\", \"zeroline\": false, \"zerolinecolor\": \"rgb(36,36,36)\"}, \"zaxis\": {\"backgroundcolor\": \"white\", \"gridcolor\": \"rgb(232,232,232)\", \"gridwidth\": 2, \"linecolor\": \"rgb(36,36,36)\", \"showbackground\": true, \"showgrid\": false, \"showline\": true, \"ticks\": \"outside\", \"zeroline\": false, \"zerolinecolor\": \"rgb(36,36,36)\"}}, \"shapedefaults\": {\"fillcolor\": \"black\", \"line\": {\"width\": 0}, \"opacity\": 0.3}, \"ternary\": {\"aaxis\": {\"gridcolor\": \"rgb(232,232,232)\", \"linecolor\": \"rgb(36,36,36)\", \"showgrid\": false, \"showline\": true, \"ticks\": \"outside\"}, \"baxis\": {\"gridcolor\": \"rgb(232,232,232)\", \"linecolor\": \"rgb(36,36,36)\", \"showgrid\": false, \"showline\": true, \"ticks\": \"outside\"}, \"bgcolor\": \"white\", \"caxis\": {\"gridcolor\": \"rgb(232,232,232)\", \"linecolor\": \"rgb(36,36,36)\", \"showgrid\": false, \"showline\": true, \"ticks\": \"outside\"}}, \"title\": {\"x\": 0.05}, \"xaxis\": {\"automargin\": true, \"gridcolor\": \"rgb(232,232,232)\", \"linecolor\": \"rgb(36,36,36)\", \"showgrid\": true, \"showline\": true, \"ticks\": \"outside\", \"title\": {\"standoff\": 15}, \"zeroline\": false, \"zerolinecolor\": \"rgb(36,36,36)\"}, \"yaxis\": {\"automargin\": true, \"gridcolor\": \"rgb(232,232,232)\", \"linecolor\": \"rgb(36,36,36)\", \"showgrid\": true, \"showline\": true, \"ticks\": \"outside\", \"title\": {\"standoff\": 15}, \"zeroline\": false, \"zerolinecolor\": \"rgb(36,36,36)\"}}}, \"width\": 800, \"xaxis\": {\"anchor\": \"y\", \"domain\": [0.0, 1.0], \"title\": {\"text\": \"Days\"}}, \"yaxis\": {\"anchor\": \"x\", \"domain\": [0.0, 1.0], \"title\": {\"text\": \"Total deaths\"}}},\n                        {\"responsive\": true}\n                    ).then(function(){\n                            \nvar gd = document.getElementById('7f5f7df8-3b4b-402d-b84e-5bf39c40c76a');\nvar x = new MutationObserver(function (mutations, observer) {{\n        var display = window.getComputedStyle(gd).display;\n        if (!display || display === 'none') {{\n            console.log([gd, 'removed!']);\n            Plotly.purge(gd);\n            observer.disconnect();\n        }}\n}});\n\n// Listen for the removal of the full notebook cells\nvar notebookContainer = gd.closest('#notebook-container');\nif (notebookContainer) {{\n    x.observe(notebookContainer, {childList: true});\n}}\n\n// Listen for the clearing of the current output cell\nvar outputEl = gd.closest('.output');\nif (outputEl) {{\n    x.observe(outputEl, {childList: true});\n}}\n\n                        })\n                };\n                });\n            </script>\n        </div>"
     },
     "metadata": {}
    },
    {
     "output_type": "stream",
     "name": "stdout",
     "text": "writing file  6.0.00.2020/2020-08-26 - Reference plot-covid_deaths\n"
    }
   ],
   "source": [
    "sim.reference_plot(sim.get_run_data(),reference,'covid_deaths','total_deaths','Days','Total deaths','','Reference plot')"
   ]
  },
  {
   "cell_type": "markdown",
   "metadata": {},
   "source": [
    "## Without Government Action\n",
    "What would have happened if the govenment had not imposed lockdown? Compare the historical with the simulated results. "
   ]
  },
  {
   "cell_type": "code",
   "execution_count": 7,
   "metadata": {
    "tags": []
   },
   "outputs": [
    {
     "output_type": "stream",
     "name": "stdout",
     "text": "Simulator Version 6.01.00.2020\n(c) 2020, Anupam Saraph\nThis work is licensed under a \nCreative Commons Attribution-NonCommercial 4.0 Unported License \nhttp://creativecommons.org/licenses/by-nc/4.0/\nInitialising  COVID-19 India config  Version  6.00.00.2020 Reference Run\n"
    }
   ],
   "source": [
    "# Reference run parameters\n",
    "sim.reset(covid.__version__)\n",
    "cmc.duration(1,146,0.5)\n",
    "cmc.initialise_model('Reference Run')\n",
    "scenario = \"simulated\"\n",
    "\n",
    "sim.simulate(covid.model, __name__, scenario, cmc.no_of_time_points, cmc.dt)\n",
    "# store the scenario as a dataframe in a dictionary\n",
    "sc = sim.store_scenario(scenario, cmc.store(), cmc.description, cmc.dt)"
   ]
  },
  {
   "cell_type": "markdown",
   "metadata": {},
   "source": [
    "## New cases per day\n",
    "Comparison of historical and simulated new cases per day over the first 146 days of the pandemic"
   ]
  },
  {
   "cell_type": "code",
   "execution_count": 8,
   "metadata": {
    "tags": []
   },
   "outputs": [
    {
     "output_type": "display_data",
     "data": {
      "application/vnd.plotly.v1+json": {
       "config": {
        "plotlyServerURL": "https://plot.ly"
       },
       "data": [
        {
         "hovertemplate": "scenario=simulated<br>time=%{x}<br>infection_rate=%{y}<extra></extra>",
         "legendgroup": "simulated",
         "line": {
          "color": "#1F77B4",
          "dash": "solid"
         },
         "mode": "lines",
         "name": "simulated",
         "orientation": "v",
         "showlegend": true,
         "type": "scatter",
         "x": [
          1,
          1.5,
          2,
          2.5,
          3,
          3.5,
          4,
          4.5,
          5,
          5.5,
          6,
          6.5,
          7,
          7.5,
          8,
          8.5,
          9,
          9.5,
          10,
          10.5,
          11,
          11.5,
          12,
          12.5,
          13,
          13.5,
          14,
          14.5,
          15,
          15.5,
          16,
          16.5,
          17,
          17.5,
          18,
          18.5,
          19,
          19.5,
          20,
          20.5,
          21,
          21.5,
          22,
          22.5,
          23,
          23.5,
          24,
          24.5,
          25,
          25.5,
          26,
          26.5,
          27,
          27.5,
          28,
          28.5,
          29,
          29.5,
          30,
          30.5,
          31,
          31.5,
          32,
          32.5,
          33,
          33.5,
          34,
          34.5,
          35,
          35.5,
          36,
          36.5,
          37,
          37.5,
          38,
          38.5,
          39,
          39.5,
          40,
          40.5,
          41,
          41.5,
          42,
          42.5,
          43,
          43.5,
          44,
          44.5,
          45,
          45.5,
          46,
          46.5,
          47,
          47.5,
          48,
          48.5,
          49,
          49.5,
          50,
          50.5,
          51,
          51.5,
          52,
          52.5,
          53,
          53.5,
          54,
          54.5,
          55,
          55.5,
          56,
          56.5,
          57,
          57.5,
          58,
          58.5,
          59,
          59.5,
          60,
          60.5,
          61,
          61.5,
          62,
          62.5,
          63,
          63.5,
          64,
          64.5,
          65,
          65.5,
          66,
          66.5,
          67,
          67.5,
          68,
          68.5,
          69,
          69.5,
          70,
          70.5,
          71,
          71.5,
          72,
          72.5,
          73,
          73.5,
          74,
          74.5,
          75,
          75.5,
          76,
          76.5,
          77,
          77.5,
          78,
          78.5,
          79,
          79.5,
          80,
          80.5,
          81,
          81.5,
          82,
          82.5,
          83,
          83.5,
          84,
          84.5,
          85,
          85.5,
          86,
          86.5,
          87,
          87.5,
          88,
          88.5,
          89,
          89.5,
          90,
          90.5,
          91,
          91.5,
          92,
          92.5,
          93,
          93.5,
          94,
          94.5,
          95,
          95.5,
          96,
          96.5,
          97,
          97.5,
          98,
          98.5,
          99,
          99.5,
          100,
          100.5,
          101,
          101.5,
          102,
          102.5,
          103,
          103.5,
          104,
          104.5,
          105,
          105.5,
          106,
          106.5,
          107,
          107.5,
          108,
          108.5,
          109,
          109.5,
          110,
          110.5,
          111,
          111.5,
          112,
          112.5,
          113,
          113.5,
          114,
          114.5,
          115,
          115.5,
          116,
          116.5,
          117,
          117.5,
          118,
          118.5,
          119,
          119.5,
          120,
          120.5,
          121,
          121.5,
          122,
          122.5,
          123,
          123.5,
          124,
          124.5,
          125,
          125.5,
          126,
          126.5,
          127,
          127.5,
          128,
          128.5,
          129,
          129.5,
          130,
          130.5,
          131,
          131.5,
          132,
          132.5,
          133,
          133.5,
          134,
          134.5,
          135,
          135.5,
          136,
          136.5,
          137,
          137.5,
          138,
          138.5,
          139,
          139.5,
          140,
          140.5,
          141,
          141.5,
          142,
          142.5,
          143,
          143.5,
          144,
          144.5,
          145,
          145.5,
          146,
          146.5
         ],
         "xaxis": "x",
         "y": [
          0.7843137254901962,
          0.7843137254901962,
          0.7309436180173753,
          0.689766539309947,
          0.6589543547051128,
          0.6369849227702915,
          0.6225924971436346,
          0.6147262413063888,
          0.6125155326847571,
          0.6152409485817705,
          0.6223100072672004,
          0.6332368888642198,
          0.6476254872837963,
          0.6651552504035951,
          0.6855693543411783,
          0.7086648318545248,
          0.7342843369785238,
          0.7623092799506794,
          0.7926541099467286,
          0.8252615595211453,
          0.8600986950866009,
          0.8971536432393716,
          0.9364328840552402,
          0.9779590203210861,
          1.0217689465988353,
          1.0679123545157607,
          1.1164505211358275,
          1.1674553360234683,
          1.2210085299421884,
          1.2772010742686521,
          1.3361327253432749,
          1.3979116922839399,
          1.46265441039673,
          1.530485405340747,
          1.6015372357387132,
          1.6759505040511475,
          1.753873927316372,
          1.8354644608574635,
          1.9208874693174387,
          2.0103169404446417,
          2.1039357379443926,
          2.2019358904679263,
          2.3045189144485367,
          2.4118961690369374,
          2.524289241849291,
          2.6419303646356798,
          2.7650628583153583,
          2.8939416071173683,
          3.0288335618191153,
          3.170018272297844,
          3.3177884498063364,
          3.4724505595592747,
          3.6343254443745305,
          3.8037489802575117,
          3.9810727649494693,
          4.16666484058471,
          4.360910451718993,
          4.564212840103764,
          4.776994077689753,
          4.999695939450117,
          5.232780817718759,
          5.47673267984479,
          5.732058071069988,
          5.9992871646433885,
          6.278974861296408,
          6.571701940313769,
          6.878076264550447,
          7.19873404186344,
          7.534341145549807,
          7.885594496509535,
          8.253223509983775,
          8.637991609856341,
          9.04069781364936,
          9.462178391492925,
          9.903308602504236,
          10.365004512173906,
          10.848224894526716,
          11.353973223001256,
          11.883299754177974,
          12.437303708678817,
          13.017135553764012,
          13.623999392363302,
          14.259155463500404,
          14.923922759301139,
          15.619681764018116,
          16.347877320758492,
          17.110021631866708,
          17.90769739919185,
          18.742561110759937,
          19.616346480675517,
          20.530868049395316,
          21.488024951849795,
          22.48980486123698,
          23.538288116677975,
          24.635652043305218,
          25.78417547375426,
          26.986243480448167,
          28.24435232850125,
          29.56111465952707,
          30.939264917115104,
          32.38166502524236,
          33.891310331411354,
          35.47133582685568,
          37.12502265672968,
          38.855804933800805,
          40.667276869793675,
          42.56320023919408,
          44.54751219101198,
          46.624333424724526,
          48.797976747376794,
          51.072956029609,
          53.4539955792076,
          55.946039951644195,
          58.554264217974016,
          61.28408471141497,
          64.14117027492229,
          67.13145403311412,
          70.26114571299193,
          73.53674453903913,
          76.96505272947398,
          80.55318962168074,
          84.3086064561495,
          88.23910184962241,
          92.35283798957457,
          96.65835758365594,
          101.16460159928765,
          105.88092783024659,
          110.81713032878928,
          115.98345974366259,
          121.39064460622984,
          127.0499136089087,
          132.97301892217797,
          139.17226059856552,
          145.66051211428646,
          152.45124710156296,
          159.5585673271269,
          166.99723197499597,
          174.78268829431843,
          182.93110367591746,
          191.45939922413015,
          200.38528489364055,
          209.72729626425397,
          219.50483302995983,
          229.73819928218765,
          240.4486456708851,
          251.6584135309438,
          263.39078106557736,
          275.6701116825245,
          288.5219045834184,
          301.97284771133775,
          316.050873166449,
          330.7852152047706,
          346.20647094045,
          362.3466638775502,
          379.2393104032196,
          396.9194893802548,
          415.42391498350213,
          434.79101293126854,
          455.0610002699573,
          476.2759688775127,
          498.47997285897196,
          521.7191200154928,
          546.0416675766764,
          571.4981223948423,
          598.1413458091663,
          626.0266633972753,
          655.2119798420241,
          685.757899151786,
          717.7278504836838,
          751.1882198308056,
          786.208487846598,
          822.8613740923543,
          861.2229880070184,
          901.3729869124625,
          943.394741381962,
          987.3755083148561,
          1033.4066120763332,
          1081.5836340779947,
          1132.0066111923204,
          1184.7802434124562,
          1240.0141111878838,
          1297.8229028865592,
          1358.3266528550635,
          1421.6509905702505,
          1487.9274013988068,
          1557.2934995051698,
          1629.8933134733643,
          1705.8775852346093,
          1785.4040829200662,
          1868.6379282868693,
          1955.7519393957039,
          2046.9269892497114,
          2142.3523811374635,
          2242.22624145725,
          2346.75593083601,
          2456.1584743940048,
          2570.6610120458286,
          2690.501269769683,
          2815.9280528200975,
          2947.2017619044877,
          3084.594933391289,
          3228.392804666898,
          3378.893905810447,
          3536.410678809602,
          3701.2701255972524,
          3873.8144862482377,
          4054.401948737244,
          4243.407391723868,
          4441.223161898683,
          4648.259887495059,
          4864.947329645709,
          5091.735273340535,
          5329.094459823467,
          5577.517562350886,
          5837.520207322947,
          6109.642042891908,
          6394.447857248624,
          6692.528748889767,
          7004.503351274465,
          7331.019114389889,
          7672.753645861265,
          8030.416114362988,
          8404.748718214167,
          8796.528222174338,
          9206.567565593505,
          9635.71754521521,
          10084.868576082608,
          10554.952534155289,
          11046.944684409782,
          11561.865698368929,
          12100.783765185566,
          12664.81680059399,
          13255.134758239325,
          13872.96204810001,
          14519.580066933166,
          15196.329845896207,
          15904.614820731922,
          16645.903730148053,
          17421.733648277153,
          18233.71315736817,
          19083.52566713856,
          19972.932887505114,
          20903.778461713486,
          21877.991767201303,
          22897.59189185806,
          23964.691793687387,
          25081.502652234165,
          26250.338420511012,
          27473.620586546218,
          28753.88315407919,
          30093.77785235,
          31496.079585367774,
          32963.69213149863,
          34499.65410468851,
          36107.145189130075,
          37789.49265969656,
          39550.17820099943,
          41392.84503848205,
          43321.30539553845,
          45339.54829124515,
          47451.74769391666,
          49662.27104634042,
          51975.68817921691,
          54396.78063002494,
          56930.551385251856,
          59582.23506467342,
          62357.308567139604,
          65261.50219812064,
          68300.81130009229,
          71481.50840769144,
          74810.15595045265,
          78293.61952684337,
          81939.08177424966,
          85754.05686052718,
          89746.4056237205,
          93924.3513875707,
          98296.49648147367,
          102871.83949461947,
          107659.79329513593,
          112670.20384617664,
          117913.36985203119,
          123400.06326849454,
          129141.55071290974,
          135149.61581049042,
          141436.58251473584,
          148015.33944096597,
          154899.36525322593,
          162102.75514603115,
          169640.24846364383,
          177527.25750078092,
          185779.897529848,
          194415.01810096393
         ],
         "yaxis": "y"
        },
        {
         "line": {
          "color": "red"
         },
         "mode": "lines",
         "name": "historical data",
         "showlegend": true,
         "type": "scatter",
         "x": [
          0,
          1,
          2,
          3,
          4,
          5,
          6,
          7,
          8,
          9,
          10,
          11,
          12,
          13,
          14,
          15,
          16,
          17,
          18,
          19,
          20,
          21,
          22,
          23,
          24,
          25,
          26,
          27,
          28,
          29,
          30,
          31,
          32,
          33,
          34,
          35,
          36,
          37,
          38,
          39,
          40,
          41,
          42,
          43,
          44,
          45,
          46,
          47,
          48,
          49,
          50,
          51,
          52,
          53,
          54,
          55,
          56,
          57,
          58,
          59,
          60,
          61,
          62,
          63,
          64,
          65,
          66,
          67,
          68,
          69,
          70,
          71,
          72,
          73,
          74,
          75,
          76,
          77,
          78,
          79,
          80,
          81,
          82,
          83,
          84,
          85,
          86,
          87,
          88,
          89,
          90,
          91,
          92,
          93,
          94,
          95,
          96,
          97,
          98,
          99,
          100,
          101,
          102,
          103,
          104,
          105,
          106,
          107,
          108,
          109,
          110,
          111,
          112,
          113,
          114,
          115,
          116,
          117,
          118,
          119,
          120,
          121,
          122,
          123,
          124,
          125,
          126,
          127,
          128,
          129,
          130,
          131,
          132,
          133,
          134,
          135,
          136,
          137,
          138,
          139,
          140,
          141,
          142,
          143,
          144,
          145,
          146
         ],
         "y": [
          0,
          0,
          0,
          0,
          0,
          0,
          0,
          0,
          0,
          0,
          0,
          0,
          0,
          0,
          0,
          0,
          0,
          0,
          0,
          0,
          0,
          0,
          0,
          0,
          0,
          0,
          0,
          0,
          0,
          0,
          1,
          0,
          0,
          1,
          0,
          1,
          0,
          0,
          0,
          0,
          0,
          0,
          0,
          0,
          0,
          0,
          0,
          0,
          0,
          0,
          0,
          0,
          0,
          0,
          0,
          0,
          0,
          0,
          0,
          0,
          0,
          0,
          0,
          2,
          1,
          22,
          1,
          2,
          3,
          null,
          10,
          6,
          23,
          2,
          8,
          7,
          3,
          32,
          12,
          28,
          26,
          40,
          89,
          119,
          53,
          70,
          87,
          75,
          149,
          106,
          92,
          180,
          146,
          568,
          336,
          601,
          472,
          693,
          354,
          773,
          540,
          678,
          1035,
          909,
          796,
          1211,
          1075,
          942,
          1007,
          991,
          1334,
          1553,
          1335,
          1384,
          1409,
          1684,
          1429,
          1990,
          1396,
          1543,
          1897,
          1718,
          1993,
          2293,
          2644,
          2553,
          3900,
          2958,
          3561,
          3390,
          3320,
          3277,
          4213,
          3604,
          3525,
          3722,
          3967,
          3970,
          4987,
          5242,
          4970,
          5611,
          5609,
          6088,
          6654,
          6767,
          6977
         ]
        }
       ],
       "layout": {
        "legend": {
         "orientation": "h",
         "title": {
          "text": "scenario"
         },
         "tracegroupgap": 0
        },
        "margin": {
         "t": 60
        },
        "template": {
         "data": {
          "bar": [
           {
            "error_x": {
             "color": "rgb(36,36,36)"
            },
            "error_y": {
             "color": "rgb(36,36,36)"
            },
            "marker": {
             "line": {
              "color": "white",
              "width": 0.5
             }
            },
            "type": "bar"
           }
          ],
          "barpolar": [
           {
            "marker": {
             "line": {
              "color": "white",
              "width": 0.5
             }
            },
            "type": "barpolar"
           }
          ],
          "carpet": [
           {
            "aaxis": {
             "endlinecolor": "rgb(36,36,36)",
             "gridcolor": "white",
             "linecolor": "white",
             "minorgridcolor": "white",
             "startlinecolor": "rgb(36,36,36)"
            },
            "baxis": {
             "endlinecolor": "rgb(36,36,36)",
             "gridcolor": "white",
             "linecolor": "white",
             "minorgridcolor": "white",
             "startlinecolor": "rgb(36,36,36)"
            },
            "type": "carpet"
           }
          ],
          "choropleth": [
           {
            "colorbar": {
             "outlinewidth": 1,
             "tickcolor": "rgb(36,36,36)",
             "ticks": "outside"
            },
            "type": "choropleth"
           }
          ],
          "contour": [
           {
            "colorbar": {
             "outlinewidth": 1,
             "tickcolor": "rgb(36,36,36)",
             "ticks": "outside"
            },
            "colorscale": [
             [
              0,
              "#440154"
             ],
             [
              0.1111111111111111,
              "#482878"
             ],
             [
              0.2222222222222222,
              "#3e4989"
             ],
             [
              0.3333333333333333,
              "#31688e"
             ],
             [
              0.4444444444444444,
              "#26828e"
             ],
             [
              0.5555555555555556,
              "#1f9e89"
             ],
             [
              0.6666666666666666,
              "#35b779"
             ],
             [
              0.7777777777777778,
              "#6ece58"
             ],
             [
              0.8888888888888888,
              "#b5de2b"
             ],
             [
              1,
              "#fde725"
             ]
            ],
            "type": "contour"
           }
          ],
          "contourcarpet": [
           {
            "colorbar": {
             "outlinewidth": 1,
             "tickcolor": "rgb(36,36,36)",
             "ticks": "outside"
            },
            "type": "contourcarpet"
           }
          ],
          "heatmap": [
           {
            "colorbar": {
             "outlinewidth": 1,
             "tickcolor": "rgb(36,36,36)",
             "ticks": "outside"
            },
            "colorscale": [
             [
              0,
              "#440154"
             ],
             [
              0.1111111111111111,
              "#482878"
             ],
             [
              0.2222222222222222,
              "#3e4989"
             ],
             [
              0.3333333333333333,
              "#31688e"
             ],
             [
              0.4444444444444444,
              "#26828e"
             ],
             [
              0.5555555555555556,
              "#1f9e89"
             ],
             [
              0.6666666666666666,
              "#35b779"
             ],
             [
              0.7777777777777778,
              "#6ece58"
             ],
             [
              0.8888888888888888,
              "#b5de2b"
             ],
             [
              1,
              "#fde725"
             ]
            ],
            "type": "heatmap"
           }
          ],
          "heatmapgl": [
           {
            "colorbar": {
             "outlinewidth": 1,
             "tickcolor": "rgb(36,36,36)",
             "ticks": "outside"
            },
            "colorscale": [
             [
              0,
              "#440154"
             ],
             [
              0.1111111111111111,
              "#482878"
             ],
             [
              0.2222222222222222,
              "#3e4989"
             ],
             [
              0.3333333333333333,
              "#31688e"
             ],
             [
              0.4444444444444444,
              "#26828e"
             ],
             [
              0.5555555555555556,
              "#1f9e89"
             ],
             [
              0.6666666666666666,
              "#35b779"
             ],
             [
              0.7777777777777778,
              "#6ece58"
             ],
             [
              0.8888888888888888,
              "#b5de2b"
             ],
             [
              1,
              "#fde725"
             ]
            ],
            "type": "heatmapgl"
           }
          ],
          "histogram": [
           {
            "marker": {
             "line": {
              "color": "white",
              "width": 0.6
             }
            },
            "type": "histogram"
           }
          ],
          "histogram2d": [
           {
            "colorbar": {
             "outlinewidth": 1,
             "tickcolor": "rgb(36,36,36)",
             "ticks": "outside"
            },
            "colorscale": [
             [
              0,
              "#440154"
             ],
             [
              0.1111111111111111,
              "#482878"
             ],
             [
              0.2222222222222222,
              "#3e4989"
             ],
             [
              0.3333333333333333,
              "#31688e"
             ],
             [
              0.4444444444444444,
              "#26828e"
             ],
             [
              0.5555555555555556,
              "#1f9e89"
             ],
             [
              0.6666666666666666,
              "#35b779"
             ],
             [
              0.7777777777777778,
              "#6ece58"
             ],
             [
              0.8888888888888888,
              "#b5de2b"
             ],
             [
              1,
              "#fde725"
             ]
            ],
            "type": "histogram2d"
           }
          ],
          "histogram2dcontour": [
           {
            "colorbar": {
             "outlinewidth": 1,
             "tickcolor": "rgb(36,36,36)",
             "ticks": "outside"
            },
            "colorscale": [
             [
              0,
              "#440154"
             ],
             [
              0.1111111111111111,
              "#482878"
             ],
             [
              0.2222222222222222,
              "#3e4989"
             ],
             [
              0.3333333333333333,
              "#31688e"
             ],
             [
              0.4444444444444444,
              "#26828e"
             ],
             [
              0.5555555555555556,
              "#1f9e89"
             ],
             [
              0.6666666666666666,
              "#35b779"
             ],
             [
              0.7777777777777778,
              "#6ece58"
             ],
             [
              0.8888888888888888,
              "#b5de2b"
             ],
             [
              1,
              "#fde725"
             ]
            ],
            "type": "histogram2dcontour"
           }
          ],
          "mesh3d": [
           {
            "colorbar": {
             "outlinewidth": 1,
             "tickcolor": "rgb(36,36,36)",
             "ticks": "outside"
            },
            "type": "mesh3d"
           }
          ],
          "parcoords": [
           {
            "line": {
             "colorbar": {
              "outlinewidth": 1,
              "tickcolor": "rgb(36,36,36)",
              "ticks": "outside"
             }
            },
            "type": "parcoords"
           }
          ],
          "pie": [
           {
            "automargin": true,
            "type": "pie"
           }
          ],
          "scatter": [
           {
            "marker": {
             "colorbar": {
              "outlinewidth": 1,
              "tickcolor": "rgb(36,36,36)",
              "ticks": "outside"
             }
            },
            "type": "scatter"
           }
          ],
          "scatter3d": [
           {
            "line": {
             "colorbar": {
              "outlinewidth": 1,
              "tickcolor": "rgb(36,36,36)",
              "ticks": "outside"
             }
            },
            "marker": {
             "colorbar": {
              "outlinewidth": 1,
              "tickcolor": "rgb(36,36,36)",
              "ticks": "outside"
             }
            },
            "type": "scatter3d"
           }
          ],
          "scattercarpet": [
           {
            "marker": {
             "colorbar": {
              "outlinewidth": 1,
              "tickcolor": "rgb(36,36,36)",
              "ticks": "outside"
             }
            },
            "type": "scattercarpet"
           }
          ],
          "scattergeo": [
           {
            "marker": {
             "colorbar": {
              "outlinewidth": 1,
              "tickcolor": "rgb(36,36,36)",
              "ticks": "outside"
             }
            },
            "type": "scattergeo"
           }
          ],
          "scattergl": [
           {
            "marker": {
             "colorbar": {
              "outlinewidth": 1,
              "tickcolor": "rgb(36,36,36)",
              "ticks": "outside"
             }
            },
            "type": "scattergl"
           }
          ],
          "scattermapbox": [
           {
            "marker": {
             "colorbar": {
              "outlinewidth": 1,
              "tickcolor": "rgb(36,36,36)",
              "ticks": "outside"
             }
            },
            "type": "scattermapbox"
           }
          ],
          "scatterpolar": [
           {
            "marker": {
             "colorbar": {
              "outlinewidth": 1,
              "tickcolor": "rgb(36,36,36)",
              "ticks": "outside"
             }
            },
            "type": "scatterpolar"
           }
          ],
          "scatterpolargl": [
           {
            "marker": {
             "colorbar": {
              "outlinewidth": 1,
              "tickcolor": "rgb(36,36,36)",
              "ticks": "outside"
             }
            },
            "type": "scatterpolargl"
           }
          ],
          "scatterternary": [
           {
            "marker": {
             "colorbar": {
              "outlinewidth": 1,
              "tickcolor": "rgb(36,36,36)",
              "ticks": "outside"
             }
            },
            "type": "scatterternary"
           }
          ],
          "surface": [
           {
            "colorbar": {
             "outlinewidth": 1,
             "tickcolor": "rgb(36,36,36)",
             "ticks": "outside"
            },
            "colorscale": [
             [
              0,
              "#440154"
             ],
             [
              0.1111111111111111,
              "#482878"
             ],
             [
              0.2222222222222222,
              "#3e4989"
             ],
             [
              0.3333333333333333,
              "#31688e"
             ],
             [
              0.4444444444444444,
              "#26828e"
             ],
             [
              0.5555555555555556,
              "#1f9e89"
             ],
             [
              0.6666666666666666,
              "#35b779"
             ],
             [
              0.7777777777777778,
              "#6ece58"
             ],
             [
              0.8888888888888888,
              "#b5de2b"
             ],
             [
              1,
              "#fde725"
             ]
            ],
            "type": "surface"
           }
          ],
          "table": [
           {
            "cells": {
             "fill": {
              "color": "rgb(237,237,237)"
             },
             "line": {
              "color": "white"
             }
            },
            "header": {
             "fill": {
              "color": "rgb(217,217,217)"
             },
             "line": {
              "color": "white"
             }
            },
            "type": "table"
           }
          ]
         },
         "layout": {
          "annotationdefaults": {
           "arrowhead": 0,
           "arrowwidth": 1
          },
          "coloraxis": {
           "colorbar": {
            "outlinewidth": 1,
            "tickcolor": "rgb(36,36,36)",
            "ticks": "outside"
           }
          },
          "colorscale": {
           "diverging": [
            [
             0,
             "rgb(103,0,31)"
            ],
            [
             0.1,
             "rgb(178,24,43)"
            ],
            [
             0.2,
             "rgb(214,96,77)"
            ],
            [
             0.3,
             "rgb(244,165,130)"
            ],
            [
             0.4,
             "rgb(253,219,199)"
            ],
            [
             0.5,
             "rgb(247,247,247)"
            ],
            [
             0.6,
             "rgb(209,229,240)"
            ],
            [
             0.7,
             "rgb(146,197,222)"
            ],
            [
             0.8,
             "rgb(67,147,195)"
            ],
            [
             0.9,
             "rgb(33,102,172)"
            ],
            [
             1,
             "rgb(5,48,97)"
            ]
           ],
           "sequential": [
            [
             0,
             "#440154"
            ],
            [
             0.1111111111111111,
             "#482878"
            ],
            [
             0.2222222222222222,
             "#3e4989"
            ],
            [
             0.3333333333333333,
             "#31688e"
            ],
            [
             0.4444444444444444,
             "#26828e"
            ],
            [
             0.5555555555555556,
             "#1f9e89"
            ],
            [
             0.6666666666666666,
             "#35b779"
            ],
            [
             0.7777777777777778,
             "#6ece58"
            ],
            [
             0.8888888888888888,
             "#b5de2b"
            ],
            [
             1,
             "#fde725"
            ]
           ],
           "sequentialminus": [
            [
             0,
             "#440154"
            ],
            [
             0.1111111111111111,
             "#482878"
            ],
            [
             0.2222222222222222,
             "#3e4989"
            ],
            [
             0.3333333333333333,
             "#31688e"
            ],
            [
             0.4444444444444444,
             "#26828e"
            ],
            [
             0.5555555555555556,
             "#1f9e89"
            ],
            [
             0.6666666666666666,
             "#35b779"
            ],
            [
             0.7777777777777778,
             "#6ece58"
            ],
            [
             0.8888888888888888,
             "#b5de2b"
            ],
            [
             1,
             "#fde725"
            ]
           ]
          },
          "colorway": [
           "#1F77B4",
           "#FF7F0E",
           "#2CA02C",
           "#D62728",
           "#9467BD",
           "#8C564B",
           "#E377C2",
           "#7F7F7F",
           "#BCBD22",
           "#17BECF"
          ],
          "font": {
           "color": "rgb(36,36,36)"
          },
          "geo": {
           "bgcolor": "white",
           "lakecolor": "white",
           "landcolor": "white",
           "showlakes": true,
           "showland": true,
           "subunitcolor": "white"
          },
          "hoverlabel": {
           "align": "left"
          },
          "hovermode": "closest",
          "mapbox": {
           "style": "light"
          },
          "paper_bgcolor": "white",
          "plot_bgcolor": "white",
          "polar": {
           "angularaxis": {
            "gridcolor": "rgb(232,232,232)",
            "linecolor": "rgb(36,36,36)",
            "showgrid": false,
            "showline": true,
            "ticks": "outside"
           },
           "bgcolor": "white",
           "radialaxis": {
            "gridcolor": "rgb(232,232,232)",
            "linecolor": "rgb(36,36,36)",
            "showgrid": false,
            "showline": true,
            "ticks": "outside"
           }
          },
          "scene": {
           "xaxis": {
            "backgroundcolor": "white",
            "gridcolor": "rgb(232,232,232)",
            "gridwidth": 2,
            "linecolor": "rgb(36,36,36)",
            "showbackground": true,
            "showgrid": false,
            "showline": true,
            "ticks": "outside",
            "zeroline": false,
            "zerolinecolor": "rgb(36,36,36)"
           },
           "yaxis": {
            "backgroundcolor": "white",
            "gridcolor": "rgb(232,232,232)",
            "gridwidth": 2,
            "linecolor": "rgb(36,36,36)",
            "showbackground": true,
            "showgrid": false,
            "showline": true,
            "ticks": "outside",
            "zeroline": false,
            "zerolinecolor": "rgb(36,36,36)"
           },
           "zaxis": {
            "backgroundcolor": "white",
            "gridcolor": "rgb(232,232,232)",
            "gridwidth": 2,
            "linecolor": "rgb(36,36,36)",
            "showbackground": true,
            "showgrid": false,
            "showline": true,
            "ticks": "outside",
            "zeroline": false,
            "zerolinecolor": "rgb(36,36,36)"
           }
          },
          "shapedefaults": {
           "fillcolor": "black",
           "line": {
            "width": 0
           },
           "opacity": 0.3
          },
          "ternary": {
           "aaxis": {
            "gridcolor": "rgb(232,232,232)",
            "linecolor": "rgb(36,36,36)",
            "showgrid": false,
            "showline": true,
            "ticks": "outside"
           },
           "baxis": {
            "gridcolor": "rgb(232,232,232)",
            "linecolor": "rgb(36,36,36)",
            "showgrid": false,
            "showline": true,
            "ticks": "outside"
           },
           "bgcolor": "white",
           "caxis": {
            "gridcolor": "rgb(232,232,232)",
            "linecolor": "rgb(36,36,36)",
            "showgrid": false,
            "showline": true,
            "ticks": "outside"
           }
          },
          "title": {
           "x": 0.05
          },
          "xaxis": {
           "automargin": true,
           "gridcolor": "rgb(232,232,232)",
           "linecolor": "rgb(36,36,36)",
           "showgrid": true,
           "showline": true,
           "ticks": "outside",
           "title": {
            "standoff": 15
           },
           "zeroline": false,
           "zerolinecolor": "rgb(36,36,36)"
          },
          "yaxis": {
           "automargin": true,
           "gridcolor": "rgb(232,232,232)",
           "linecolor": "rgb(36,36,36)",
           "showgrid": true,
           "showline": true,
           "ticks": "outside",
           "title": {
            "standoff": 15
           },
           "zeroline": false,
           "zerolinecolor": "rgb(36,36,36)"
          }
         }
        },
        "width": 800,
        "xaxis": {
         "anchor": "y",
         "domain": [
          0,
          1
         ],
         "title": {
          "text": "Days"
         }
        },
        "yaxis": {
         "anchor": "x",
         "domain": [
          0,
          1
         ],
         "title": {
          "text": "New cases per day"
         }
        }
       }
      },
      "text/html": "<div>\n        \n        \n            <div id=\"5ba34f98-a2d8-4aea-bb5b-2d69034d2b48\" class=\"plotly-graph-div\" style=\"height:525px; width:800px;\"></div>\n            <script type=\"text/javascript\">\n                require([\"plotly\"], function(Plotly) {\n                    window.PLOTLYENV=window.PLOTLYENV || {};\n                    \n                if (document.getElementById(\"5ba34f98-a2d8-4aea-bb5b-2d69034d2b48\")) {\n                    Plotly.newPlot(\n                        '5ba34f98-a2d8-4aea-bb5b-2d69034d2b48',\n                        [{\"hovertemplate\": \"scenario=simulated<br>time=%{x}<br>infection_rate=%{y}<extra></extra>\", \"legendgroup\": \"simulated\", \"line\": {\"color\": \"#1F77B4\", \"dash\": \"solid\"}, \"mode\": \"lines\", \"name\": \"simulated\", \"orientation\": \"v\", \"showlegend\": true, \"type\": \"scatter\", \"x\": [1.0, 1.5, 2.0, 2.5, 3.0, 3.5, 4.0, 4.5, 5.0, 5.5, 6.0, 6.5, 7.0, 7.5, 8.0, 8.5, 9.0, 9.5, 10.0, 10.5, 11.0, 11.5, 12.0, 12.5, 13.0, 13.5, 14.0, 14.5, 15.0, 15.5, 16.0, 16.5, 17.0, 17.5, 18.0, 18.5, 19.0, 19.5, 20.0, 20.5, 21.0, 21.5, 22.0, 22.5, 23.0, 23.5, 24.0, 24.5, 25.0, 25.5, 26.0, 26.5, 27.0, 27.5, 28.0, 28.5, 29.0, 29.5, 30.0, 30.5, 31.0, 31.5, 32.0, 32.5, 33.0, 33.5, 34.0, 34.5, 35.0, 35.5, 36.0, 36.5, 37.0, 37.5, 38.0, 38.5, 39.0, 39.5, 40.0, 40.5, 41.0, 41.5, 42.0, 42.5, 43.0, 43.5, 44.0, 44.5, 45.0, 45.5, 46.0, 46.5, 47.0, 47.5, 48.0, 48.5, 49.0, 49.5, 50.0, 50.5, 51.0, 51.5, 52.0, 52.5, 53.0, 53.5, 54.0, 54.5, 55.0, 55.5, 56.0, 56.5, 57.0, 57.5, 58.0, 58.5, 59.0, 59.5, 60.0, 60.5, 61.0, 61.5, 62.0, 62.5, 63.0, 63.5, 64.0, 64.5, 65.0, 65.5, 66.0, 66.5, 67.0, 67.5, 68.0, 68.5, 69.0, 69.5, 70.0, 70.5, 71.0, 71.5, 72.0, 72.5, 73.0, 73.5, 74.0, 74.5, 75.0, 75.5, 76.0, 76.5, 77.0, 77.5, 78.0, 78.5, 79.0, 79.5, 80.0, 80.5, 81.0, 81.5, 82.0, 82.5, 83.0, 83.5, 84.0, 84.5, 85.0, 85.5, 86.0, 86.5, 87.0, 87.5, 88.0, 88.5, 89.0, 89.5, 90.0, 90.5, 91.0, 91.5, 92.0, 92.5, 93.0, 93.5, 94.0, 94.5, 95.0, 95.5, 96.0, 96.5, 97.0, 97.5, 98.0, 98.5, 99.0, 99.5, 100.0, 100.5, 101.0, 101.5, 102.0, 102.5, 103.0, 103.5, 104.0, 104.5, 105.0, 105.5, 106.0, 106.5, 107.0, 107.5, 108.0, 108.5, 109.0, 109.5, 110.0, 110.5, 111.0, 111.5, 112.0, 112.5, 113.0, 113.5, 114.0, 114.5, 115.0, 115.5, 116.0, 116.5, 117.0, 117.5, 118.0, 118.5, 119.0, 119.5, 120.0, 120.5, 121.0, 121.5, 122.0, 122.5, 123.0, 123.5, 124.0, 124.5, 125.0, 125.5, 126.0, 126.5, 127.0, 127.5, 128.0, 128.5, 129.0, 129.5, 130.0, 130.5, 131.0, 131.5, 132.0, 132.5, 133.0, 133.5, 134.0, 134.5, 135.0, 135.5, 136.0, 136.5, 137.0, 137.5, 138.0, 138.5, 139.0, 139.5, 140.0, 140.5, 141.0, 141.5, 142.0, 142.5, 143.0, 143.5, 144.0, 144.5, 145.0, 145.5, 146.0, 146.5], \"xaxis\": \"x\", \"y\": [0.7843137254901962, 0.7843137254901962, 0.7309436180173753, 0.689766539309947, 0.6589543547051128, 0.6369849227702915, 0.6225924971436346, 0.6147262413063888, 0.6125155326847571, 0.6152409485817705, 0.6223100072672004, 0.6332368888642198, 0.6476254872837963, 0.6651552504035951, 0.6855693543411783, 0.7086648318545248, 0.7342843369785238, 0.7623092799506794, 0.7926541099467286, 0.8252615595211453, 0.8600986950866009, 0.8971536432393716, 0.9364328840552402, 0.9779590203210861, 1.0217689465988353, 1.0679123545157607, 1.1164505211358275, 1.1674553360234683, 1.2210085299421884, 1.2772010742686521, 1.3361327253432749, 1.3979116922839399, 1.46265441039673, 1.530485405340747, 1.6015372357387132, 1.6759505040511475, 1.753873927316372, 1.8354644608574635, 1.9208874693174387, 2.0103169404446417, 2.1039357379443926, 2.2019358904679263, 2.3045189144485367, 2.4118961690369374, 2.524289241849291, 2.6419303646356798, 2.7650628583153583, 2.8939416071173683, 3.0288335618191153, 3.170018272297844, 3.3177884498063364, 3.4724505595592747, 3.6343254443745305, 3.8037489802575117, 3.9810727649494693, 4.16666484058471, 4.360910451718993, 4.564212840103764, 4.776994077689753, 4.999695939450117, 5.232780817718759, 5.47673267984479, 5.732058071069988, 5.9992871646433885, 6.278974861296408, 6.571701940313769, 6.878076264550447, 7.19873404186344, 7.534341145549807, 7.885594496509535, 8.253223509983775, 8.637991609856341, 9.04069781364936, 9.462178391492925, 9.903308602504236, 10.365004512173906, 10.848224894526716, 11.353973223001256, 11.883299754177974, 12.437303708678817, 13.017135553764012, 13.623999392363302, 14.259155463500404, 14.923922759301139, 15.619681764018116, 16.347877320758492, 17.110021631866708, 17.90769739919185, 18.742561110759937, 19.616346480675517, 20.530868049395316, 21.488024951849795, 22.48980486123698, 23.538288116677975, 24.635652043305218, 25.78417547375426, 26.986243480448167, 28.24435232850125, 29.56111465952707, 30.939264917115104, 32.38166502524236, 33.891310331411354, 35.47133582685568, 37.12502265672968, 38.855804933800805, 40.667276869793675, 42.56320023919408, 44.54751219101198, 46.624333424724526, 48.797976747376794, 51.072956029609, 53.4539955792076, 55.946039951644195, 58.554264217974016, 61.28408471141497, 64.14117027492229, 67.13145403311412, 70.26114571299193, 73.53674453903913, 76.96505272947398, 80.55318962168074, 84.3086064561495, 88.23910184962241, 92.35283798957457, 96.65835758365594, 101.16460159928765, 105.88092783024659, 110.81713032878928, 115.98345974366259, 121.39064460622984, 127.0499136089087, 132.97301892217797, 139.17226059856552, 145.66051211428646, 152.45124710156296, 159.5585673271269, 166.99723197499597, 174.78268829431843, 182.93110367591746, 191.45939922413015, 200.38528489364055, 209.72729626425397, 219.50483302995983, 229.73819928218765, 240.4486456708851, 251.6584135309438, 263.39078106557736, 275.6701116825245, 288.5219045834184, 301.97284771133775, 316.050873166449, 330.7852152047706, 346.20647094045, 362.3466638775502, 379.2393104032196, 396.9194893802548, 415.42391498350213, 434.79101293126854, 455.0610002699573, 476.2759688775127, 498.47997285897196, 521.7191200154928, 546.0416675766764, 571.4981223948423, 598.1413458091663, 626.0266633972753, 655.2119798420241, 685.757899151786, 717.7278504836838, 751.1882198308056, 786.208487846598, 822.8613740923543, 861.2229880070184, 901.3729869124625, 943.394741381962, 987.3755083148561, 1033.4066120763332, 1081.5836340779947, 1132.0066111923204, 1184.7802434124562, 1240.0141111878838, 1297.8229028865592, 1358.3266528550635, 1421.6509905702505, 1487.9274013988068, 1557.2934995051698, 1629.8933134733643, 1705.8775852346093, 1785.4040829200662, 1868.6379282868693, 1955.7519393957039, 2046.9269892497114, 2142.3523811374635, 2242.22624145725, 2346.75593083601, 2456.1584743940048, 2570.6610120458286, 2690.501269769683, 2815.9280528200975, 2947.2017619044877, 3084.594933391289, 3228.392804666898, 3378.893905810447, 3536.410678809602, 3701.2701255972524, 3873.8144862482377, 4054.401948737244, 4243.407391723868, 4441.223161898683, 4648.259887495059, 4864.947329645709, 5091.735273340535, 5329.094459823467, 5577.517562350886, 5837.520207322947, 6109.642042891908, 6394.447857248624, 6692.528748889767, 7004.503351274465, 7331.019114389889, 7672.753645861265, 8030.416114362988, 8404.748718214167, 8796.528222174338, 9206.567565593505, 9635.71754521521, 10084.868576082608, 10554.952534155289, 11046.944684409782, 11561.865698368929, 12100.783765185566, 12664.81680059399, 13255.134758239325, 13872.96204810001, 14519.580066933166, 15196.329845896207, 15904.614820731922, 16645.903730148053, 17421.733648277153, 18233.71315736817, 19083.52566713856, 19972.932887505114, 20903.778461713486, 21877.991767201303, 22897.59189185806, 23964.691793687387, 25081.502652234165, 26250.338420511012, 27473.620586546218, 28753.88315407919, 30093.77785235, 31496.079585367774, 32963.69213149863, 34499.65410468851, 36107.145189130075, 37789.49265969656, 39550.17820099943, 41392.84503848205, 43321.30539553845, 45339.54829124515, 47451.74769391666, 49662.27104634042, 51975.68817921691, 54396.78063002494, 56930.551385251856, 59582.23506467342, 62357.308567139604, 65261.50219812064, 68300.81130009229, 71481.50840769144, 74810.15595045265, 78293.61952684337, 81939.08177424966, 85754.05686052718, 89746.4056237205, 93924.3513875707, 98296.49648147367, 102871.83949461947, 107659.79329513593, 112670.20384617664, 117913.36985203119, 123400.06326849454, 129141.55071290974, 135149.61581049042, 141436.58251473584, 148015.33944096597, 154899.36525322593, 162102.75514603115, 169640.24846364383, 177527.25750078092, 185779.897529848, 194415.01810096393], \"yaxis\": \"y\"}, {\"line\": {\"color\": \"red\"}, \"mode\": \"lines\", \"name\": \"historical data\", \"showlegend\": true, \"type\": \"scatter\", \"x\": [0, 1, 2, 3, 4, 5, 6, 7, 8, 9, 10, 11, 12, 13, 14, 15, 16, 17, 18, 19, 20, 21, 22, 23, 24, 25, 26, 27, 28, 29, 30, 31, 32, 33, 34, 35, 36, 37, 38, 39, 40, 41, 42, 43, 44, 45, 46, 47, 48, 49, 50, 51, 52, 53, 54, 55, 56, 57, 58, 59, 60, 61, 62, 63, 64, 65, 66, 67, 68, 69, 70, 71, 72, 73, 74, 75, 76, 77, 78, 79, 80, 81, 82, 83, 84, 85, 86, 87, 88, 89, 90, 91, 92, 93, 94, 95, 96, 97, 98, 99, 100, 101, 102, 103, 104, 105, 106, 107, 108, 109, 110, 111, 112, 113, 114, 115, 116, 117, 118, 119, 120, 121, 122, 123, 124, 125, 126, 127, 128, 129, 130, 131, 132, 133, 134, 135, 136, 137, 138, 139, 140, 141, 142, 143, 144, 145, 146], \"y\": [0.0, 0.0, 0.0, 0.0, 0.0, 0.0, 0.0, 0.0, 0.0, 0.0, 0.0, 0.0, 0.0, 0.0, 0.0, 0.0, 0.0, 0.0, 0.0, 0.0, 0.0, 0.0, 0.0, 0.0, 0.0, 0.0, 0.0, 0.0, 0.0, 0.0, 1.0, 0.0, 0.0, 1.0, 0.0, 1.0, 0.0, 0.0, 0.0, 0.0, 0.0, 0.0, 0.0, 0.0, 0.0, 0.0, 0.0, 0.0, 0.0, 0.0, 0.0, 0.0, 0.0, 0.0, 0.0, 0.0, 0.0, 0.0, 0.0, 0.0, 0.0, 0.0, 0.0, 2.0, 1.0, 22.0, 1.0, 2.0, 3.0, null, 10.0, 6.0, 23.0, 2.0, 8.0, 7.0, 3.0, 32.0, 12.0, 28.0, 26.0, 40.0, 89.0, 119.0, 53.0, 70.0, 87.0, 75.0, 149.0, 106.0, 92.0, 180.0, 146.0, 568.0, 336.0, 601.0, 472.0, 693.0, 354.0, 773.0, 540.0, 678.0, 1035.0, 909.0, 796.0, 1211.0, 1075.0, 942.0, 1007.0, 991.0, 1334.0, 1553.0, 1335.0, 1384.0, 1409.0, 1684.0, 1429.0, 1990.0, 1396.0, 1543.0, 1897.0, 1718.0, 1993.0, 2293.0, 2644.0, 2553.0, 3900.0, 2958.0, 3561.0, 3390.0, 3320.0, 3277.0, 4213.0, 3604.0, 3525.0, 3722.0, 3967.0, 3970.0, 4987.0, 5242.0, 4970.0, 5611.0, 5609.0, 6088.0, 6654.0, 6767.0, 6977.0]}],\n                        {\"legend\": {\"orientation\": \"h\", \"title\": {\"text\": \"scenario\"}, \"tracegroupgap\": 0}, \"margin\": {\"t\": 60}, \"template\": {\"data\": {\"bar\": [{\"error_x\": {\"color\": \"rgb(36,36,36)\"}, \"error_y\": {\"color\": \"rgb(36,36,36)\"}, \"marker\": {\"line\": {\"color\": \"white\", \"width\": 0.5}}, \"type\": \"bar\"}], \"barpolar\": [{\"marker\": {\"line\": {\"color\": \"white\", \"width\": 0.5}}, \"type\": \"barpolar\"}], \"carpet\": [{\"aaxis\": {\"endlinecolor\": \"rgb(36,36,36)\", \"gridcolor\": \"white\", \"linecolor\": \"white\", \"minorgridcolor\": \"white\", \"startlinecolor\": \"rgb(36,36,36)\"}, \"baxis\": {\"endlinecolor\": \"rgb(36,36,36)\", \"gridcolor\": \"white\", \"linecolor\": \"white\", \"minorgridcolor\": \"white\", \"startlinecolor\": \"rgb(36,36,36)\"}, \"type\": \"carpet\"}], \"choropleth\": [{\"colorbar\": {\"outlinewidth\": 1, \"tickcolor\": \"rgb(36,36,36)\", \"ticks\": \"outside\"}, \"type\": \"choropleth\"}], \"contour\": [{\"colorbar\": {\"outlinewidth\": 1, \"tickcolor\": \"rgb(36,36,36)\", \"ticks\": \"outside\"}, \"colorscale\": [[0.0, \"#440154\"], [0.1111111111111111, \"#482878\"], [0.2222222222222222, \"#3e4989\"], [0.3333333333333333, \"#31688e\"], [0.4444444444444444, \"#26828e\"], [0.5555555555555556, \"#1f9e89\"], [0.6666666666666666, \"#35b779\"], [0.7777777777777778, \"#6ece58\"], [0.8888888888888888, \"#b5de2b\"], [1.0, \"#fde725\"]], \"type\": \"contour\"}], \"contourcarpet\": [{\"colorbar\": {\"outlinewidth\": 1, \"tickcolor\": \"rgb(36,36,36)\", \"ticks\": \"outside\"}, \"type\": \"contourcarpet\"}], \"heatmap\": [{\"colorbar\": {\"outlinewidth\": 1, \"tickcolor\": \"rgb(36,36,36)\", \"ticks\": \"outside\"}, \"colorscale\": [[0.0, \"#440154\"], [0.1111111111111111, \"#482878\"], [0.2222222222222222, \"#3e4989\"], [0.3333333333333333, \"#31688e\"], [0.4444444444444444, \"#26828e\"], [0.5555555555555556, \"#1f9e89\"], [0.6666666666666666, \"#35b779\"], [0.7777777777777778, \"#6ece58\"], [0.8888888888888888, \"#b5de2b\"], [1.0, \"#fde725\"]], \"type\": \"heatmap\"}], \"heatmapgl\": [{\"colorbar\": {\"outlinewidth\": 1, \"tickcolor\": \"rgb(36,36,36)\", \"ticks\": \"outside\"}, \"colorscale\": [[0.0, \"#440154\"], [0.1111111111111111, \"#482878\"], [0.2222222222222222, \"#3e4989\"], [0.3333333333333333, \"#31688e\"], [0.4444444444444444, \"#26828e\"], [0.5555555555555556, \"#1f9e89\"], [0.6666666666666666, \"#35b779\"], [0.7777777777777778, \"#6ece58\"], [0.8888888888888888, \"#b5de2b\"], [1.0, \"#fde725\"]], \"type\": \"heatmapgl\"}], \"histogram\": [{\"marker\": {\"line\": {\"color\": \"white\", \"width\": 0.6}}, \"type\": \"histogram\"}], \"histogram2d\": [{\"colorbar\": {\"outlinewidth\": 1, \"tickcolor\": \"rgb(36,36,36)\", \"ticks\": \"outside\"}, \"colorscale\": [[0.0, \"#440154\"], [0.1111111111111111, \"#482878\"], [0.2222222222222222, \"#3e4989\"], [0.3333333333333333, \"#31688e\"], [0.4444444444444444, \"#26828e\"], [0.5555555555555556, \"#1f9e89\"], [0.6666666666666666, \"#35b779\"], [0.7777777777777778, \"#6ece58\"], [0.8888888888888888, \"#b5de2b\"], [1.0, \"#fde725\"]], \"type\": \"histogram2d\"}], \"histogram2dcontour\": [{\"colorbar\": {\"outlinewidth\": 1, \"tickcolor\": \"rgb(36,36,36)\", \"ticks\": \"outside\"}, \"colorscale\": [[0.0, \"#440154\"], [0.1111111111111111, \"#482878\"], [0.2222222222222222, \"#3e4989\"], [0.3333333333333333, \"#31688e\"], [0.4444444444444444, \"#26828e\"], [0.5555555555555556, \"#1f9e89\"], [0.6666666666666666, \"#35b779\"], [0.7777777777777778, \"#6ece58\"], [0.8888888888888888, \"#b5de2b\"], [1.0, \"#fde725\"]], \"type\": \"histogram2dcontour\"}], \"mesh3d\": [{\"colorbar\": {\"outlinewidth\": 1, \"tickcolor\": \"rgb(36,36,36)\", \"ticks\": \"outside\"}, \"type\": \"mesh3d\"}], \"parcoords\": [{\"line\": {\"colorbar\": {\"outlinewidth\": 1, \"tickcolor\": \"rgb(36,36,36)\", \"ticks\": \"outside\"}}, \"type\": \"parcoords\"}], \"pie\": [{\"automargin\": true, \"type\": \"pie\"}], \"scatter\": [{\"marker\": {\"colorbar\": {\"outlinewidth\": 1, \"tickcolor\": \"rgb(36,36,36)\", \"ticks\": \"outside\"}}, \"type\": \"scatter\"}], \"scatter3d\": [{\"line\": {\"colorbar\": {\"outlinewidth\": 1, \"tickcolor\": \"rgb(36,36,36)\", \"ticks\": \"outside\"}}, \"marker\": {\"colorbar\": {\"outlinewidth\": 1, \"tickcolor\": \"rgb(36,36,36)\", \"ticks\": \"outside\"}}, \"type\": \"scatter3d\"}], \"scattercarpet\": [{\"marker\": {\"colorbar\": {\"outlinewidth\": 1, \"tickcolor\": \"rgb(36,36,36)\", \"ticks\": \"outside\"}}, \"type\": \"scattercarpet\"}], \"scattergeo\": [{\"marker\": {\"colorbar\": {\"outlinewidth\": 1, \"tickcolor\": \"rgb(36,36,36)\", \"ticks\": \"outside\"}}, \"type\": \"scattergeo\"}], \"scattergl\": [{\"marker\": {\"colorbar\": {\"outlinewidth\": 1, \"tickcolor\": \"rgb(36,36,36)\", \"ticks\": \"outside\"}}, \"type\": \"scattergl\"}], \"scattermapbox\": [{\"marker\": {\"colorbar\": {\"outlinewidth\": 1, \"tickcolor\": \"rgb(36,36,36)\", \"ticks\": \"outside\"}}, \"type\": \"scattermapbox\"}], \"scatterpolar\": [{\"marker\": {\"colorbar\": {\"outlinewidth\": 1, \"tickcolor\": \"rgb(36,36,36)\", \"ticks\": \"outside\"}}, \"type\": \"scatterpolar\"}], \"scatterpolargl\": [{\"marker\": {\"colorbar\": {\"outlinewidth\": 1, \"tickcolor\": \"rgb(36,36,36)\", \"ticks\": \"outside\"}}, \"type\": \"scatterpolargl\"}], \"scatterternary\": [{\"marker\": {\"colorbar\": {\"outlinewidth\": 1, \"tickcolor\": \"rgb(36,36,36)\", \"ticks\": \"outside\"}}, \"type\": \"scatterternary\"}], \"surface\": [{\"colorbar\": {\"outlinewidth\": 1, \"tickcolor\": \"rgb(36,36,36)\", \"ticks\": \"outside\"}, \"colorscale\": [[0.0, \"#440154\"], [0.1111111111111111, \"#482878\"], [0.2222222222222222, \"#3e4989\"], [0.3333333333333333, \"#31688e\"], [0.4444444444444444, \"#26828e\"], [0.5555555555555556, \"#1f9e89\"], [0.6666666666666666, \"#35b779\"], [0.7777777777777778, \"#6ece58\"], [0.8888888888888888, \"#b5de2b\"], [1.0, \"#fde725\"]], \"type\": \"surface\"}], \"table\": [{\"cells\": {\"fill\": {\"color\": \"rgb(237,237,237)\"}, \"line\": {\"color\": \"white\"}}, \"header\": {\"fill\": {\"color\": \"rgb(217,217,217)\"}, \"line\": {\"color\": \"white\"}}, \"type\": \"table\"}]}, \"layout\": {\"annotationdefaults\": {\"arrowhead\": 0, \"arrowwidth\": 1}, \"coloraxis\": {\"colorbar\": {\"outlinewidth\": 1, \"tickcolor\": \"rgb(36,36,36)\", \"ticks\": \"outside\"}}, \"colorscale\": {\"diverging\": [[0.0, \"rgb(103,0,31)\"], [0.1, \"rgb(178,24,43)\"], [0.2, \"rgb(214,96,77)\"], [0.3, \"rgb(244,165,130)\"], [0.4, \"rgb(253,219,199)\"], [0.5, \"rgb(247,247,247)\"], [0.6, \"rgb(209,229,240)\"], [0.7, \"rgb(146,197,222)\"], [0.8, \"rgb(67,147,195)\"], [0.9, \"rgb(33,102,172)\"], [1.0, \"rgb(5,48,97)\"]], \"sequential\": [[0.0, \"#440154\"], [0.1111111111111111, \"#482878\"], [0.2222222222222222, \"#3e4989\"], [0.3333333333333333, \"#31688e\"], [0.4444444444444444, \"#26828e\"], [0.5555555555555556, \"#1f9e89\"], [0.6666666666666666, \"#35b779\"], [0.7777777777777778, \"#6ece58\"], [0.8888888888888888, \"#b5de2b\"], [1.0, \"#fde725\"]], \"sequentialminus\": [[0.0, \"#440154\"], [0.1111111111111111, \"#482878\"], [0.2222222222222222, \"#3e4989\"], [0.3333333333333333, \"#31688e\"], [0.4444444444444444, \"#26828e\"], [0.5555555555555556, \"#1f9e89\"], [0.6666666666666666, \"#35b779\"], [0.7777777777777778, \"#6ece58\"], [0.8888888888888888, \"#b5de2b\"], [1.0, \"#fde725\"]]}, \"colorway\": [\"#1F77B4\", \"#FF7F0E\", \"#2CA02C\", \"#D62728\", \"#9467BD\", \"#8C564B\", \"#E377C2\", \"#7F7F7F\", \"#BCBD22\", \"#17BECF\"], \"font\": {\"color\": \"rgb(36,36,36)\"}, \"geo\": {\"bgcolor\": \"white\", \"lakecolor\": \"white\", \"landcolor\": \"white\", \"showlakes\": true, \"showland\": true, \"subunitcolor\": \"white\"}, \"hoverlabel\": {\"align\": \"left\"}, \"hovermode\": \"closest\", \"mapbox\": {\"style\": \"light\"}, \"paper_bgcolor\": \"white\", \"plot_bgcolor\": \"white\", \"polar\": {\"angularaxis\": {\"gridcolor\": \"rgb(232,232,232)\", \"linecolor\": \"rgb(36,36,36)\", \"showgrid\": false, \"showline\": true, \"ticks\": \"outside\"}, \"bgcolor\": \"white\", \"radialaxis\": {\"gridcolor\": \"rgb(232,232,232)\", \"linecolor\": \"rgb(36,36,36)\", \"showgrid\": false, \"showline\": true, \"ticks\": \"outside\"}}, \"scene\": {\"xaxis\": {\"backgroundcolor\": \"white\", \"gridcolor\": \"rgb(232,232,232)\", \"gridwidth\": 2, \"linecolor\": \"rgb(36,36,36)\", \"showbackground\": true, \"showgrid\": false, \"showline\": true, \"ticks\": \"outside\", \"zeroline\": false, \"zerolinecolor\": \"rgb(36,36,36)\"}, \"yaxis\": {\"backgroundcolor\": \"white\", \"gridcolor\": \"rgb(232,232,232)\", \"gridwidth\": 2, \"linecolor\": \"rgb(36,36,36)\", \"showbackground\": true, \"showgrid\": false, \"showline\": true, \"ticks\": \"outside\", \"zeroline\": false, \"zerolinecolor\": \"rgb(36,36,36)\"}, \"zaxis\": {\"backgroundcolor\": \"white\", \"gridcolor\": \"rgb(232,232,232)\", \"gridwidth\": 2, \"linecolor\": \"rgb(36,36,36)\", \"showbackground\": true, \"showgrid\": false, \"showline\": true, \"ticks\": \"outside\", \"zeroline\": false, \"zerolinecolor\": \"rgb(36,36,36)\"}}, \"shapedefaults\": {\"fillcolor\": \"black\", \"line\": {\"width\": 0}, \"opacity\": 0.3}, \"ternary\": {\"aaxis\": {\"gridcolor\": \"rgb(232,232,232)\", \"linecolor\": \"rgb(36,36,36)\", \"showgrid\": false, \"showline\": true, \"ticks\": \"outside\"}, \"baxis\": {\"gridcolor\": \"rgb(232,232,232)\", \"linecolor\": \"rgb(36,36,36)\", \"showgrid\": false, \"showline\": true, \"ticks\": \"outside\"}, \"bgcolor\": \"white\", \"caxis\": {\"gridcolor\": \"rgb(232,232,232)\", \"linecolor\": \"rgb(36,36,36)\", \"showgrid\": false, \"showline\": true, \"ticks\": \"outside\"}}, \"title\": {\"x\": 0.05}, \"xaxis\": {\"automargin\": true, \"gridcolor\": \"rgb(232,232,232)\", \"linecolor\": \"rgb(36,36,36)\", \"showgrid\": true, \"showline\": true, \"ticks\": \"outside\", \"title\": {\"standoff\": 15}, \"zeroline\": false, \"zerolinecolor\": \"rgb(36,36,36)\"}, \"yaxis\": {\"automargin\": true, \"gridcolor\": \"rgb(232,232,232)\", \"linecolor\": \"rgb(36,36,36)\", \"showgrid\": true, \"showline\": true, \"ticks\": \"outside\", \"title\": {\"standoff\": 15}, \"zeroline\": false, \"zerolinecolor\": \"rgb(36,36,36)\"}}}, \"width\": 800, \"xaxis\": {\"anchor\": \"y\", \"domain\": [0.0, 1.0], \"title\": {\"text\": \"Days\"}}, \"yaxis\": {\"anchor\": \"x\", \"domain\": [0.0, 1.0], \"title\": {\"text\": \"New cases per day\"}}},\n                        {\"responsive\": true}\n                    ).then(function(){\n                            \nvar gd = document.getElementById('5ba34f98-a2d8-4aea-bb5b-2d69034d2b48');\nvar x = new MutationObserver(function (mutations, observer) {{\n        var display = window.getComputedStyle(gd).display;\n        if (!display || display === 'none') {{\n            console.log([gd, 'removed!']);\n            Plotly.purge(gd);\n            observer.disconnect();\n        }}\n}});\n\n// Listen for the removal of the full notebook cells\nvar notebookContainer = gd.closest('#notebook-container');\nif (notebookContainer) {{\n    x.observe(notebookContainer, {childList: true});\n}}\n\n// Listen for the clearing of the current output cell\nvar outputEl = gd.closest('.output');\nif (outputEl) {{\n    x.observe(outputEl, {childList: true});\n}}\n\n                        })\n                };\n                });\n            </script>\n        </div>"
     },
     "metadata": {}
    },
    {
     "output_type": "stream",
     "name": "stdout",
     "text": "writing file  6.0.00.2020/2020-08-26 - Reference plot without lockdown 1.0-infection_rate\n"
    }
   ],
   "source": [
    "sim.reference_plot(sim.get_run_data(),reference,'infection_rate','new_cases', 'Days','New cases per day','','Reference plot without lockdown 1.0')"
   ]
  },
  {
   "cell_type": "markdown",
   "metadata": {},
   "source": [
    "## Total cases \n",
    "Comparison of historical and simulated total cases over the first 146 days of the pandemic"
   ]
  },
  {
   "cell_type": "code",
   "execution_count": 9,
   "metadata": {
    "tags": []
   },
   "outputs": [
    {
     "output_type": "display_data",
     "data": {
      "application/vnd.plotly.v1+json": {
       "config": {
        "plotlyServerURL": "https://plot.ly"
       },
       "data": [
        {
         "hovertemplate": "scenario=simulated<br>time=%{x}<br>total_infected=%{y}<extra></extra>",
         "legendgroup": "simulated",
         "line": {
          "color": "#1F77B4",
          "dash": "solid"
         },
         "mode": "lines",
         "name": "simulated",
         "orientation": "v",
         "showlegend": true,
         "type": "scatter",
         "x": [
          1,
          1.5,
          2,
          2.5,
          3,
          3.5,
          4,
          4.5,
          5,
          5.5,
          6,
          6.5,
          7,
          7.5,
          8,
          8.5,
          9,
          9.5,
          10,
          10.5,
          11,
          11.5,
          12,
          12.5,
          13,
          13.5,
          14,
          14.5,
          15,
          15.5,
          16,
          16.5,
          17,
          17.5,
          18,
          18.5,
          19,
          19.5,
          20,
          20.5,
          21,
          21.5,
          22,
          22.5,
          23,
          23.5,
          24,
          24.5,
          25,
          25.5,
          26,
          26.5,
          27,
          27.5,
          28,
          28.5,
          29,
          29.5,
          30,
          30.5,
          31,
          31.5,
          32,
          32.5,
          33,
          33.5,
          34,
          34.5,
          35,
          35.5,
          36,
          36.5,
          37,
          37.5,
          38,
          38.5,
          39,
          39.5,
          40,
          40.5,
          41,
          41.5,
          42,
          42.5,
          43,
          43.5,
          44,
          44.5,
          45,
          45.5,
          46,
          46.5,
          47,
          47.5,
          48,
          48.5,
          49,
          49.5,
          50,
          50.5,
          51,
          51.5,
          52,
          52.5,
          53,
          53.5,
          54,
          54.5,
          55,
          55.5,
          56,
          56.5,
          57,
          57.5,
          58,
          58.5,
          59,
          59.5,
          60,
          60.5,
          61,
          61.5,
          62,
          62.5,
          63,
          63.5,
          64,
          64.5,
          65,
          65.5,
          66,
          66.5,
          67,
          67.5,
          68,
          68.5,
          69,
          69.5,
          70,
          70.5,
          71,
          71.5,
          72,
          72.5,
          73,
          73.5,
          74,
          74.5,
          75,
          75.5,
          76,
          76.5,
          77,
          77.5,
          78,
          78.5,
          79,
          79.5,
          80,
          80.5,
          81,
          81.5,
          82,
          82.5,
          83,
          83.5,
          84,
          84.5,
          85,
          85.5,
          86,
          86.5,
          87,
          87.5,
          88,
          88.5,
          89,
          89.5,
          90,
          90.5,
          91,
          91.5,
          92,
          92.5,
          93,
          93.5,
          94,
          94.5,
          95,
          95.5,
          96,
          96.5,
          97,
          97.5,
          98,
          98.5,
          99,
          99.5,
          100,
          100.5,
          101,
          101.5,
          102,
          102.5,
          103,
          103.5,
          104,
          104.5,
          105,
          105.5,
          106,
          106.5,
          107,
          107.5,
          108,
          108.5,
          109,
          109.5,
          110,
          110.5,
          111,
          111.5,
          112,
          112.5,
          113,
          113.5,
          114,
          114.5,
          115,
          115.5,
          116,
          116.5,
          117,
          117.5,
          118,
          118.5,
          119,
          119.5,
          120,
          120.5,
          121,
          121.5,
          122,
          122.5,
          123,
          123.5,
          124,
          124.5,
          125,
          125.5,
          126,
          126.5,
          127,
          127.5,
          128,
          128.5,
          129,
          129.5,
          130,
          130.5,
          131,
          131.5,
          132,
          132.5,
          133,
          133.5,
          134,
          134.5,
          135,
          135.5,
          136,
          136.5,
          137,
          137.5,
          138,
          138.5,
          139,
          139.5,
          140,
          140.5,
          141,
          141.5,
          142,
          142.5,
          143,
          143.5,
          144,
          144.5,
          145,
          145.5,
          146,
          146.5
         ],
         "xaxis": "x",
         "y": [
          0,
          0,
          0.3921568627450981,
          0.7576286717537857,
          1.1025119414087592,
          1.4319891187613156,
          1.7504815801464613,
          2.0617778287182786,
          2.369140949371473,
          2.6753987157138512,
          2.9830191900047365,
          3.294174193638337,
          3.6107926380704467,
          3.9346053817123448,
          4.267183006914142,
          4.609967684084731,
          4.964300100011994,
          5.331442268501256,
          5.712596908476596,
          6.10892396344996,
          6.521554743210532,
          6.951604090753833,
          7.400180912373519,
          7.8683973544011385,
          8.357376864561681,
          8.8682613378611,
          9.40221751511898,
          9.960442775686895,
          10.54417044369863,
          11.154674708669724,
          11.79327524580405,
          12.461341608475689,
          13.160297454617659,
          13.891624659816024,
          14.656867362486398,
          15.457635980355755,
          16.29561123238133,
          17.172548196039514,
          18.090280426468247,
          19.050724161126965,
          20.055882631349284,
          21.10785050032148,
          22.208818445555444,
          23.361077902779712,
          24.56702598729818,
          25.829170608222825,
          27.150135790540663,
          28.532667219698343,
          29.979638023257028,
          31.494054804166584,
          33.07906394031551,
          34.73795816521867,
          36.47418344499831,
          38.29134616718557,
          40.19322065731433,
          42.183757039789064,
          44.26708946008142,
          46.44754468594092,
          48.7296511059928,
          51.118148144837676,
          53.617996114562736,
          56.23438652342212,
          58.97275286334451,
          61.8387818988795,
          64.8384254812012,
          67.9779129118494,
          71.26376388200629,
          74.70280201428152,
          78.30216903521324,
          82.06933960798814,
          86.0121368562429,
          90.13874861123479,
          94.45774441616295,
          98.97809332298763,
          103.7091825187341,
          108.66083681998622,
          113.84333907607316,
          119.26745152333652,
          124.94443813483714,
          130.88608801192612,
          137.10473986626553,
          143.61330764314755,
          150.4253073393292,
          157.5548850710794,
          165.01684645073,
          172.82668733273906,
          181.0006259931183,
          189.55563680905163,
          198.50948550864757,
          207.88076606402754,
          217.6889393043653,
          227.95437332906297,
          238.69838580498788,
          249.94328823560636,
          261.71243229394537,
          274.03025831559796,
          286.92234605247506,
          300.41546779269913,
          314.53764395694975,
          329.3182012867133,
          344.78783374527086,
          360.97866625789203,
          377.9243214235977,
          395.65998933702554,
          414.2225006653904,
          433.65040313229076,
          453.9840415671876,
          475.26564168678465,
          497.5393977822906,
          520.8515644946528,
          545.2505528683413,
          570.7870308831458,
          597.5140286727496,
          625.4870486485718,
          654.7641807575587,
          685.4062231132663,
          717.4768082507275,
          751.0425352672845,
          786.1731081237805,
          822.9414803933,
          861.424006758037,
          901.7006015688773,
          943.854904796952,
          987.9744557217632,
          1034.1508747165506,
          1082.4800535083784,
          1133.0623543080223,
          1186.0028182231456,
          1241.4113833875401,
          1299.4031132593714,
          1360.0984355624862,
          1423.6233923669406,
          1490.1099018280297,
          1559.6960321273125,
          1632.5262881844558,
          1708.7519117352372,
          1788.5311953988007,
          1872.0298113862987,
          1959.421155533458,
          2050.886707371417,
          2146.6164069834817,
          2246.809049430302,
          2351.6726975624288,
          2461.4251140774086,
          2576.2942137185023,
          2696.518536553945,
          2822.347743319417,
          2954.0431338522058,
          3091.878189693468,
          3236.139141985177,
          3387.125565840846,
          3545.15100242407,
          3710.5436100264556,
          3883.6468454966807,
          4064.8201774354557,
          4254.439832637066,
          4452.899577327193,
          4660.611534818944,
          4878.007041284578,
          5105.537541419557,
          5343.675525858313,
          5592.915512287799,
          5853.775072295545,
          6126.795906083884,
          6412.544967281305,
          6711.615640185888,
          7024.6289718845255,
          7352.234961805538,
          7695.113911381431,
          8053.977836623272,
          8429.571946538676,
          8822.676190461974,
          9234.106877508151,
          9664.71837151166,
          10115.404864967892,
          10587.102235658873,
          11080.789989816301,
          11597.493295854469,
          12138.285112893465,
          12704.288418489625,
          13296.678540195853,
          13916.685595789795,
          14565.597047233076,
          15244.760373660607,
          15955.585868945733,
          16699.549569645136,
          17478.19631939772,
          18293.142976134404,
          19146.08176875171,
          20038.783810211742,
          20973.102774355175,
          21950.978744053027,
          22974.442238677882,
          24045.618429246613,
          25166.731549975237,
          26340.10951539324,
          27568.188752590242,
          28853.519258613156,
          30198.769893497996,
          31606.733919908045,
          33080.33480086029,
          34622.632267555935,
          36236.828669889386,
          37926.27562279461,
          39694.480962199406,
          41545.11602499803,
          43482.02326812215,
          45509.224242490774,
          47630.92793835271,
          49851.53951930205,
          52175.669463049584,
          54608.14312787244,
          57154.010764542705,
          59818.55799445444,
          62607.31677562988,
          65526.07687929135,
          68580.8979007373,
          71778.12182936161,
          75124.3862038065,
          78626.63787944373,
          82292.14743663868,
          86128.52425956931,
          90143.7323167508,
          94346.10667585788,
          98744.37078694504,
          103347.6545697418,
          108165.51334234941,
          113207.94763039071,
          118485.42389746835,
          124008.89623967324,
          129789.8290888577,
          135840.2209714505,
          142172.6293717475,
          148800.19675086715,
          155736.67777491716,
          162996.46780838375,
          170594.63273133186,
          178546.94014169782,
          186869.89200677184,
          195580.75883091043,
          204697.61540959452,
          214239.3782431638,
          224225.84468691636,
          234677.7339177731,
          245616.72980137373,
          257065.52574730277,
          269047.87164414645,
          281588.62297026353,
          294713.792180519,
          308450.60247379215,
          322827.54405083176,
          337874.43297700677,
          353622.4727696907,
          370104.31883544,
          387354.14588778425,
          405407.7184823493,
          424302.4648121976,
          444077.5539126973,
          464773.97643193835,
          486434.6291297076,
          509104.40327533014,
          532830.2771222885,
          557661.4126454587,
          583649.2567350671,
          610847.6470500795,
          639312.9227427054,
          669104.0402750422,
          700282.694558612,
          732913.4456576722,
          767063.8513077184,
          802804.6055115642,
          840209.6834867905,
          879356.4932502122,
          920326.034137337,
          963203.0625676006,
          1008076.2653794609,
          1055038.4410732463,
          1104186.689313983,
          1155622.6090612928,
          1209452.5057088607,
          1265787.607631949,
          1324744.2925579646,
          1386444.3241922117,
          1451015.0995486665,
          1518589.9074539116,
          1589308.1987112795,
          1663315.8684317626,
          1740765.5510583755,
          1821816.9286313911,
          1906637.052863213,
          1995400.6816136034,
          2088290.6303785273
         ],
         "yaxis": "y"
        },
        {
         "line": {
          "color": "red"
         },
         "mode": "lines",
         "name": "historical data",
         "showlegend": true,
         "type": "scatter",
         "x": [
          0,
          1,
          2,
          3,
          4,
          5,
          6,
          7,
          8,
          9,
          10,
          11,
          12,
          13,
          14,
          15,
          16,
          17,
          18,
          19,
          20,
          21,
          22,
          23,
          24,
          25,
          26,
          27,
          28,
          29,
          30,
          31,
          32,
          33,
          34,
          35,
          36,
          37,
          38,
          39,
          40,
          41,
          42,
          43,
          44,
          45,
          46,
          47,
          48,
          49,
          50,
          51,
          52,
          53,
          54,
          55,
          56,
          57,
          58,
          59,
          60,
          61,
          62,
          63,
          64,
          65,
          66,
          67,
          68,
          69,
          70,
          71,
          72,
          73,
          74,
          75,
          76,
          77,
          78,
          79,
          80,
          81,
          82,
          83,
          84,
          85,
          86,
          87,
          88,
          89,
          90,
          91,
          92,
          93,
          94,
          95,
          96,
          97,
          98,
          99,
          100,
          101,
          102,
          103,
          104,
          105,
          106,
          107,
          108,
          109,
          110,
          111,
          112,
          113,
          114,
          115,
          116,
          117,
          118,
          119,
          120,
          121,
          122,
          123,
          124,
          125,
          126,
          127,
          128,
          129,
          130,
          131,
          132,
          133,
          134,
          135,
          136,
          137,
          138,
          139,
          140,
          141,
          142,
          143,
          144,
          145,
          146
         ],
         "y": [
          0,
          0,
          0,
          0,
          0,
          0,
          0,
          0,
          0,
          0,
          0,
          0,
          0,
          0,
          0,
          0,
          0,
          0,
          0,
          0,
          0,
          0,
          0,
          0,
          0,
          0,
          0,
          0,
          0,
          0,
          1,
          1,
          1,
          2,
          2,
          3,
          3,
          3,
          3,
          3,
          3,
          3,
          3,
          3,
          3,
          3,
          3,
          3,
          3,
          3,
          3,
          3,
          3,
          3,
          3,
          3,
          3,
          3,
          3,
          3,
          3,
          3,
          3,
          5,
          6,
          28,
          29,
          31,
          34,
          null,
          44,
          50,
          73,
          75,
          83,
          90,
          93,
          125,
          137,
          165,
          191,
          231,
          320,
          439,
          492,
          562,
          649,
          724,
          873,
          979,
          1071,
          1251,
          1397,
          1965,
          2301,
          2902,
          3374,
          4067,
          4421,
          5194,
          5734,
          6412,
          7447,
          8356,
          9152,
          10363,
          11438,
          12380,
          13387,
          14378,
          15712,
          17265,
          18600,
          19984,
          21393,
          23077,
          24506,
          26496,
          27892,
          29435,
          31332,
          33050,
          35043,
          37336,
          39980,
          42533,
          46433,
          49391,
          52952,
          56342,
          59662,
          62939,
          67152,
          70756,
          74281,
          78003,
          81970,
          85940,
          90927,
          96169,
          101139,
          106750,
          112359,
          118447,
          125101,
          131868,
          138845
         ]
        }
       ],
       "layout": {
        "legend": {
         "orientation": "h",
         "title": {
          "text": "scenario"
         },
         "tracegroupgap": 0
        },
        "margin": {
         "t": 60
        },
        "template": {
         "data": {
          "bar": [
           {
            "error_x": {
             "color": "rgb(36,36,36)"
            },
            "error_y": {
             "color": "rgb(36,36,36)"
            },
            "marker": {
             "line": {
              "color": "white",
              "width": 0.5
             }
            },
            "type": "bar"
           }
          ],
          "barpolar": [
           {
            "marker": {
             "line": {
              "color": "white",
              "width": 0.5
             }
            },
            "type": "barpolar"
           }
          ],
          "carpet": [
           {
            "aaxis": {
             "endlinecolor": "rgb(36,36,36)",
             "gridcolor": "white",
             "linecolor": "white",
             "minorgridcolor": "white",
             "startlinecolor": "rgb(36,36,36)"
            },
            "baxis": {
             "endlinecolor": "rgb(36,36,36)",
             "gridcolor": "white",
             "linecolor": "white",
             "minorgridcolor": "white",
             "startlinecolor": "rgb(36,36,36)"
            },
            "type": "carpet"
           }
          ],
          "choropleth": [
           {
            "colorbar": {
             "outlinewidth": 1,
             "tickcolor": "rgb(36,36,36)",
             "ticks": "outside"
            },
            "type": "choropleth"
           }
          ],
          "contour": [
           {
            "colorbar": {
             "outlinewidth": 1,
             "tickcolor": "rgb(36,36,36)",
             "ticks": "outside"
            },
            "colorscale": [
             [
              0,
              "#440154"
             ],
             [
              0.1111111111111111,
              "#482878"
             ],
             [
              0.2222222222222222,
              "#3e4989"
             ],
             [
              0.3333333333333333,
              "#31688e"
             ],
             [
              0.4444444444444444,
              "#26828e"
             ],
             [
              0.5555555555555556,
              "#1f9e89"
             ],
             [
              0.6666666666666666,
              "#35b779"
             ],
             [
              0.7777777777777778,
              "#6ece58"
             ],
             [
              0.8888888888888888,
              "#b5de2b"
             ],
             [
              1,
              "#fde725"
             ]
            ],
            "type": "contour"
           }
          ],
          "contourcarpet": [
           {
            "colorbar": {
             "outlinewidth": 1,
             "tickcolor": "rgb(36,36,36)",
             "ticks": "outside"
            },
            "type": "contourcarpet"
           }
          ],
          "heatmap": [
           {
            "colorbar": {
             "outlinewidth": 1,
             "tickcolor": "rgb(36,36,36)",
             "ticks": "outside"
            },
            "colorscale": [
             [
              0,
              "#440154"
             ],
             [
              0.1111111111111111,
              "#482878"
             ],
             [
              0.2222222222222222,
              "#3e4989"
             ],
             [
              0.3333333333333333,
              "#31688e"
             ],
             [
              0.4444444444444444,
              "#26828e"
             ],
             [
              0.5555555555555556,
              "#1f9e89"
             ],
             [
              0.6666666666666666,
              "#35b779"
             ],
             [
              0.7777777777777778,
              "#6ece58"
             ],
             [
              0.8888888888888888,
              "#b5de2b"
             ],
             [
              1,
              "#fde725"
             ]
            ],
            "type": "heatmap"
           }
          ],
          "heatmapgl": [
           {
            "colorbar": {
             "outlinewidth": 1,
             "tickcolor": "rgb(36,36,36)",
             "ticks": "outside"
            },
            "colorscale": [
             [
              0,
              "#440154"
             ],
             [
              0.1111111111111111,
              "#482878"
             ],
             [
              0.2222222222222222,
              "#3e4989"
             ],
             [
              0.3333333333333333,
              "#31688e"
             ],
             [
              0.4444444444444444,
              "#26828e"
             ],
             [
              0.5555555555555556,
              "#1f9e89"
             ],
             [
              0.6666666666666666,
              "#35b779"
             ],
             [
              0.7777777777777778,
              "#6ece58"
             ],
             [
              0.8888888888888888,
              "#b5de2b"
             ],
             [
              1,
              "#fde725"
             ]
            ],
            "type": "heatmapgl"
           }
          ],
          "histogram": [
           {
            "marker": {
             "line": {
              "color": "white",
              "width": 0.6
             }
            },
            "type": "histogram"
           }
          ],
          "histogram2d": [
           {
            "colorbar": {
             "outlinewidth": 1,
             "tickcolor": "rgb(36,36,36)",
             "ticks": "outside"
            },
            "colorscale": [
             [
              0,
              "#440154"
             ],
             [
              0.1111111111111111,
              "#482878"
             ],
             [
              0.2222222222222222,
              "#3e4989"
             ],
             [
              0.3333333333333333,
              "#31688e"
             ],
             [
              0.4444444444444444,
              "#26828e"
             ],
             [
              0.5555555555555556,
              "#1f9e89"
             ],
             [
              0.6666666666666666,
              "#35b779"
             ],
             [
              0.7777777777777778,
              "#6ece58"
             ],
             [
              0.8888888888888888,
              "#b5de2b"
             ],
             [
              1,
              "#fde725"
             ]
            ],
            "type": "histogram2d"
           }
          ],
          "histogram2dcontour": [
           {
            "colorbar": {
             "outlinewidth": 1,
             "tickcolor": "rgb(36,36,36)",
             "ticks": "outside"
            },
            "colorscale": [
             [
              0,
              "#440154"
             ],
             [
              0.1111111111111111,
              "#482878"
             ],
             [
              0.2222222222222222,
              "#3e4989"
             ],
             [
              0.3333333333333333,
              "#31688e"
             ],
             [
              0.4444444444444444,
              "#26828e"
             ],
             [
              0.5555555555555556,
              "#1f9e89"
             ],
             [
              0.6666666666666666,
              "#35b779"
             ],
             [
              0.7777777777777778,
              "#6ece58"
             ],
             [
              0.8888888888888888,
              "#b5de2b"
             ],
             [
              1,
              "#fde725"
             ]
            ],
            "type": "histogram2dcontour"
           }
          ],
          "mesh3d": [
           {
            "colorbar": {
             "outlinewidth": 1,
             "tickcolor": "rgb(36,36,36)",
             "ticks": "outside"
            },
            "type": "mesh3d"
           }
          ],
          "parcoords": [
           {
            "line": {
             "colorbar": {
              "outlinewidth": 1,
              "tickcolor": "rgb(36,36,36)",
              "ticks": "outside"
             }
            },
            "type": "parcoords"
           }
          ],
          "pie": [
           {
            "automargin": true,
            "type": "pie"
           }
          ],
          "scatter": [
           {
            "marker": {
             "colorbar": {
              "outlinewidth": 1,
              "tickcolor": "rgb(36,36,36)",
              "ticks": "outside"
             }
            },
            "type": "scatter"
           }
          ],
          "scatter3d": [
           {
            "line": {
             "colorbar": {
              "outlinewidth": 1,
              "tickcolor": "rgb(36,36,36)",
              "ticks": "outside"
             }
            },
            "marker": {
             "colorbar": {
              "outlinewidth": 1,
              "tickcolor": "rgb(36,36,36)",
              "ticks": "outside"
             }
            },
            "type": "scatter3d"
           }
          ],
          "scattercarpet": [
           {
            "marker": {
             "colorbar": {
              "outlinewidth": 1,
              "tickcolor": "rgb(36,36,36)",
              "ticks": "outside"
             }
            },
            "type": "scattercarpet"
           }
          ],
          "scattergeo": [
           {
            "marker": {
             "colorbar": {
              "outlinewidth": 1,
              "tickcolor": "rgb(36,36,36)",
              "ticks": "outside"
             }
            },
            "type": "scattergeo"
           }
          ],
          "scattergl": [
           {
            "marker": {
             "colorbar": {
              "outlinewidth": 1,
              "tickcolor": "rgb(36,36,36)",
              "ticks": "outside"
             }
            },
            "type": "scattergl"
           }
          ],
          "scattermapbox": [
           {
            "marker": {
             "colorbar": {
              "outlinewidth": 1,
              "tickcolor": "rgb(36,36,36)",
              "ticks": "outside"
             }
            },
            "type": "scattermapbox"
           }
          ],
          "scatterpolar": [
           {
            "marker": {
             "colorbar": {
              "outlinewidth": 1,
              "tickcolor": "rgb(36,36,36)",
              "ticks": "outside"
             }
            },
            "type": "scatterpolar"
           }
          ],
          "scatterpolargl": [
           {
            "marker": {
             "colorbar": {
              "outlinewidth": 1,
              "tickcolor": "rgb(36,36,36)",
              "ticks": "outside"
             }
            },
            "type": "scatterpolargl"
           }
          ],
          "scatterternary": [
           {
            "marker": {
             "colorbar": {
              "outlinewidth": 1,
              "tickcolor": "rgb(36,36,36)",
              "ticks": "outside"
             }
            },
            "type": "scatterternary"
           }
          ],
          "surface": [
           {
            "colorbar": {
             "outlinewidth": 1,
             "tickcolor": "rgb(36,36,36)",
             "ticks": "outside"
            },
            "colorscale": [
             [
              0,
              "#440154"
             ],
             [
              0.1111111111111111,
              "#482878"
             ],
             [
              0.2222222222222222,
              "#3e4989"
             ],
             [
              0.3333333333333333,
              "#31688e"
             ],
             [
              0.4444444444444444,
              "#26828e"
             ],
             [
              0.5555555555555556,
              "#1f9e89"
             ],
             [
              0.6666666666666666,
              "#35b779"
             ],
             [
              0.7777777777777778,
              "#6ece58"
             ],
             [
              0.8888888888888888,
              "#b5de2b"
             ],
             [
              1,
              "#fde725"
             ]
            ],
            "type": "surface"
           }
          ],
          "table": [
           {
            "cells": {
             "fill": {
              "color": "rgb(237,237,237)"
             },
             "line": {
              "color": "white"
             }
            },
            "header": {
             "fill": {
              "color": "rgb(217,217,217)"
             },
             "line": {
              "color": "white"
             }
            },
            "type": "table"
           }
          ]
         },
         "layout": {
          "annotationdefaults": {
           "arrowhead": 0,
           "arrowwidth": 1
          },
          "coloraxis": {
           "colorbar": {
            "outlinewidth": 1,
            "tickcolor": "rgb(36,36,36)",
            "ticks": "outside"
           }
          },
          "colorscale": {
           "diverging": [
            [
             0,
             "rgb(103,0,31)"
            ],
            [
             0.1,
             "rgb(178,24,43)"
            ],
            [
             0.2,
             "rgb(214,96,77)"
            ],
            [
             0.3,
             "rgb(244,165,130)"
            ],
            [
             0.4,
             "rgb(253,219,199)"
            ],
            [
             0.5,
             "rgb(247,247,247)"
            ],
            [
             0.6,
             "rgb(209,229,240)"
            ],
            [
             0.7,
             "rgb(146,197,222)"
            ],
            [
             0.8,
             "rgb(67,147,195)"
            ],
            [
             0.9,
             "rgb(33,102,172)"
            ],
            [
             1,
             "rgb(5,48,97)"
            ]
           ],
           "sequential": [
            [
             0,
             "#440154"
            ],
            [
             0.1111111111111111,
             "#482878"
            ],
            [
             0.2222222222222222,
             "#3e4989"
            ],
            [
             0.3333333333333333,
             "#31688e"
            ],
            [
             0.4444444444444444,
             "#26828e"
            ],
            [
             0.5555555555555556,
             "#1f9e89"
            ],
            [
             0.6666666666666666,
             "#35b779"
            ],
            [
             0.7777777777777778,
             "#6ece58"
            ],
            [
             0.8888888888888888,
             "#b5de2b"
            ],
            [
             1,
             "#fde725"
            ]
           ],
           "sequentialminus": [
            [
             0,
             "#440154"
            ],
            [
             0.1111111111111111,
             "#482878"
            ],
            [
             0.2222222222222222,
             "#3e4989"
            ],
            [
             0.3333333333333333,
             "#31688e"
            ],
            [
             0.4444444444444444,
             "#26828e"
            ],
            [
             0.5555555555555556,
             "#1f9e89"
            ],
            [
             0.6666666666666666,
             "#35b779"
            ],
            [
             0.7777777777777778,
             "#6ece58"
            ],
            [
             0.8888888888888888,
             "#b5de2b"
            ],
            [
             1,
             "#fde725"
            ]
           ]
          },
          "colorway": [
           "#1F77B4",
           "#FF7F0E",
           "#2CA02C",
           "#D62728",
           "#9467BD",
           "#8C564B",
           "#E377C2",
           "#7F7F7F",
           "#BCBD22",
           "#17BECF"
          ],
          "font": {
           "color": "rgb(36,36,36)"
          },
          "geo": {
           "bgcolor": "white",
           "lakecolor": "white",
           "landcolor": "white",
           "showlakes": true,
           "showland": true,
           "subunitcolor": "white"
          },
          "hoverlabel": {
           "align": "left"
          },
          "hovermode": "closest",
          "mapbox": {
           "style": "light"
          },
          "paper_bgcolor": "white",
          "plot_bgcolor": "white",
          "polar": {
           "angularaxis": {
            "gridcolor": "rgb(232,232,232)",
            "linecolor": "rgb(36,36,36)",
            "showgrid": false,
            "showline": true,
            "ticks": "outside"
           },
           "bgcolor": "white",
           "radialaxis": {
            "gridcolor": "rgb(232,232,232)",
            "linecolor": "rgb(36,36,36)",
            "showgrid": false,
            "showline": true,
            "ticks": "outside"
           }
          },
          "scene": {
           "xaxis": {
            "backgroundcolor": "white",
            "gridcolor": "rgb(232,232,232)",
            "gridwidth": 2,
            "linecolor": "rgb(36,36,36)",
            "showbackground": true,
            "showgrid": false,
            "showline": true,
            "ticks": "outside",
            "zeroline": false,
            "zerolinecolor": "rgb(36,36,36)"
           },
           "yaxis": {
            "backgroundcolor": "white",
            "gridcolor": "rgb(232,232,232)",
            "gridwidth": 2,
            "linecolor": "rgb(36,36,36)",
            "showbackground": true,
            "showgrid": false,
            "showline": true,
            "ticks": "outside",
            "zeroline": false,
            "zerolinecolor": "rgb(36,36,36)"
           },
           "zaxis": {
            "backgroundcolor": "white",
            "gridcolor": "rgb(232,232,232)",
            "gridwidth": 2,
            "linecolor": "rgb(36,36,36)",
            "showbackground": true,
            "showgrid": false,
            "showline": true,
            "ticks": "outside",
            "zeroline": false,
            "zerolinecolor": "rgb(36,36,36)"
           }
          },
          "shapedefaults": {
           "fillcolor": "black",
           "line": {
            "width": 0
           },
           "opacity": 0.3
          },
          "ternary": {
           "aaxis": {
            "gridcolor": "rgb(232,232,232)",
            "linecolor": "rgb(36,36,36)",
            "showgrid": false,
            "showline": true,
            "ticks": "outside"
           },
           "baxis": {
            "gridcolor": "rgb(232,232,232)",
            "linecolor": "rgb(36,36,36)",
            "showgrid": false,
            "showline": true,
            "ticks": "outside"
           },
           "bgcolor": "white",
           "caxis": {
            "gridcolor": "rgb(232,232,232)",
            "linecolor": "rgb(36,36,36)",
            "showgrid": false,
            "showline": true,
            "ticks": "outside"
           }
          },
          "title": {
           "x": 0.05
          },
          "xaxis": {
           "automargin": true,
           "gridcolor": "rgb(232,232,232)",
           "linecolor": "rgb(36,36,36)",
           "showgrid": true,
           "showline": true,
           "ticks": "outside",
           "title": {
            "standoff": 15
           },
           "zeroline": false,
           "zerolinecolor": "rgb(36,36,36)"
          },
          "yaxis": {
           "automargin": true,
           "gridcolor": "rgb(232,232,232)",
           "linecolor": "rgb(36,36,36)",
           "showgrid": true,
           "showline": true,
           "ticks": "outside",
           "title": {
            "standoff": 15
           },
           "zeroline": false,
           "zerolinecolor": "rgb(36,36,36)"
          }
         }
        },
        "width": 800,
        "xaxis": {
         "anchor": "y",
         "domain": [
          0,
          1
         ],
         "title": {
          "text": "Days"
         }
        },
        "yaxis": {
         "anchor": "x",
         "domain": [
          0,
          1
         ],
         "title": {
          "text": "Total cases"
         }
        }
       }
      },
      "text/html": "<div>\n        \n        \n            <div id=\"dcca39a2-8b24-4c0f-abc4-d1813ff06dc0\" class=\"plotly-graph-div\" style=\"height:525px; width:800px;\"></div>\n            <script type=\"text/javascript\">\n                require([\"plotly\"], function(Plotly) {\n                    window.PLOTLYENV=window.PLOTLYENV || {};\n                    \n                if (document.getElementById(\"dcca39a2-8b24-4c0f-abc4-d1813ff06dc0\")) {\n                    Plotly.newPlot(\n                        'dcca39a2-8b24-4c0f-abc4-d1813ff06dc0',\n                        [{\"hovertemplate\": \"scenario=simulated<br>time=%{x}<br>total_infected=%{y}<extra></extra>\", \"legendgroup\": \"simulated\", \"line\": {\"color\": \"#1F77B4\", \"dash\": \"solid\"}, \"mode\": \"lines\", \"name\": \"simulated\", \"orientation\": \"v\", \"showlegend\": true, \"type\": \"scatter\", \"x\": [1.0, 1.5, 2.0, 2.5, 3.0, 3.5, 4.0, 4.5, 5.0, 5.5, 6.0, 6.5, 7.0, 7.5, 8.0, 8.5, 9.0, 9.5, 10.0, 10.5, 11.0, 11.5, 12.0, 12.5, 13.0, 13.5, 14.0, 14.5, 15.0, 15.5, 16.0, 16.5, 17.0, 17.5, 18.0, 18.5, 19.0, 19.5, 20.0, 20.5, 21.0, 21.5, 22.0, 22.5, 23.0, 23.5, 24.0, 24.5, 25.0, 25.5, 26.0, 26.5, 27.0, 27.5, 28.0, 28.5, 29.0, 29.5, 30.0, 30.5, 31.0, 31.5, 32.0, 32.5, 33.0, 33.5, 34.0, 34.5, 35.0, 35.5, 36.0, 36.5, 37.0, 37.5, 38.0, 38.5, 39.0, 39.5, 40.0, 40.5, 41.0, 41.5, 42.0, 42.5, 43.0, 43.5, 44.0, 44.5, 45.0, 45.5, 46.0, 46.5, 47.0, 47.5, 48.0, 48.5, 49.0, 49.5, 50.0, 50.5, 51.0, 51.5, 52.0, 52.5, 53.0, 53.5, 54.0, 54.5, 55.0, 55.5, 56.0, 56.5, 57.0, 57.5, 58.0, 58.5, 59.0, 59.5, 60.0, 60.5, 61.0, 61.5, 62.0, 62.5, 63.0, 63.5, 64.0, 64.5, 65.0, 65.5, 66.0, 66.5, 67.0, 67.5, 68.0, 68.5, 69.0, 69.5, 70.0, 70.5, 71.0, 71.5, 72.0, 72.5, 73.0, 73.5, 74.0, 74.5, 75.0, 75.5, 76.0, 76.5, 77.0, 77.5, 78.0, 78.5, 79.0, 79.5, 80.0, 80.5, 81.0, 81.5, 82.0, 82.5, 83.0, 83.5, 84.0, 84.5, 85.0, 85.5, 86.0, 86.5, 87.0, 87.5, 88.0, 88.5, 89.0, 89.5, 90.0, 90.5, 91.0, 91.5, 92.0, 92.5, 93.0, 93.5, 94.0, 94.5, 95.0, 95.5, 96.0, 96.5, 97.0, 97.5, 98.0, 98.5, 99.0, 99.5, 100.0, 100.5, 101.0, 101.5, 102.0, 102.5, 103.0, 103.5, 104.0, 104.5, 105.0, 105.5, 106.0, 106.5, 107.0, 107.5, 108.0, 108.5, 109.0, 109.5, 110.0, 110.5, 111.0, 111.5, 112.0, 112.5, 113.0, 113.5, 114.0, 114.5, 115.0, 115.5, 116.0, 116.5, 117.0, 117.5, 118.0, 118.5, 119.0, 119.5, 120.0, 120.5, 121.0, 121.5, 122.0, 122.5, 123.0, 123.5, 124.0, 124.5, 125.0, 125.5, 126.0, 126.5, 127.0, 127.5, 128.0, 128.5, 129.0, 129.5, 130.0, 130.5, 131.0, 131.5, 132.0, 132.5, 133.0, 133.5, 134.0, 134.5, 135.0, 135.5, 136.0, 136.5, 137.0, 137.5, 138.0, 138.5, 139.0, 139.5, 140.0, 140.5, 141.0, 141.5, 142.0, 142.5, 143.0, 143.5, 144.0, 144.5, 145.0, 145.5, 146.0, 146.5], \"xaxis\": \"x\", \"y\": [0.0, 0.0, 0.3921568627450981, 0.7576286717537857, 1.1025119414087592, 1.4319891187613156, 1.7504815801464613, 2.0617778287182786, 2.369140949371473, 2.6753987157138512, 2.9830191900047365, 3.294174193638337, 3.6107926380704467, 3.9346053817123448, 4.267183006914142, 4.609967684084731, 4.964300100011994, 5.331442268501256, 5.712596908476596, 6.10892396344996, 6.521554743210532, 6.951604090753833, 7.400180912373519, 7.8683973544011385, 8.357376864561681, 8.8682613378611, 9.40221751511898, 9.960442775686895, 10.54417044369863, 11.154674708669724, 11.79327524580405, 12.461341608475689, 13.160297454617659, 13.891624659816024, 14.656867362486398, 15.457635980355755, 16.29561123238133, 17.172548196039514, 18.090280426468247, 19.050724161126965, 20.055882631349284, 21.10785050032148, 22.208818445555444, 23.361077902779712, 24.56702598729818, 25.829170608222825, 27.150135790540663, 28.532667219698343, 29.979638023257028, 31.494054804166584, 33.07906394031551, 34.73795816521867, 36.47418344499831, 38.29134616718557, 40.19322065731433, 42.183757039789064, 44.26708946008142, 46.44754468594092, 48.7296511059928, 51.118148144837676, 53.617996114562736, 56.23438652342212, 58.97275286334451, 61.8387818988795, 64.8384254812012, 67.9779129118494, 71.26376388200629, 74.70280201428152, 78.30216903521324, 82.06933960798814, 86.0121368562429, 90.13874861123479, 94.45774441616295, 98.97809332298763, 103.7091825187341, 108.66083681998622, 113.84333907607316, 119.26745152333652, 124.94443813483714, 130.88608801192612, 137.10473986626553, 143.61330764314755, 150.4253073393292, 157.5548850710794, 165.01684645073, 172.82668733273906, 181.0006259931183, 189.55563680905163, 198.50948550864757, 207.88076606402754, 217.6889393043653, 227.95437332906297, 238.69838580498788, 249.94328823560636, 261.71243229394537, 274.03025831559796, 286.92234605247506, 300.41546779269913, 314.53764395694975, 329.3182012867133, 344.78783374527086, 360.97866625789203, 377.9243214235977, 395.65998933702554, 414.2225006653904, 433.65040313229076, 453.9840415671876, 475.26564168678465, 497.5393977822906, 520.8515644946528, 545.2505528683413, 570.7870308831458, 597.5140286727496, 625.4870486485718, 654.7641807575587, 685.4062231132663, 717.4768082507275, 751.0425352672845, 786.1731081237805, 822.9414803933, 861.424006758037, 901.7006015688773, 943.854904796952, 987.9744557217632, 1034.1508747165506, 1082.4800535083784, 1133.0623543080223, 1186.0028182231456, 1241.4113833875401, 1299.4031132593714, 1360.0984355624862, 1423.6233923669406, 1490.1099018280297, 1559.6960321273125, 1632.5262881844558, 1708.7519117352372, 1788.5311953988007, 1872.0298113862987, 1959.421155533458, 2050.886707371417, 2146.6164069834817, 2246.809049430302, 2351.6726975624288, 2461.4251140774086, 2576.2942137185023, 2696.518536553945, 2822.347743319417, 2954.0431338522058, 3091.878189693468, 3236.139141985177, 3387.125565840846, 3545.15100242407, 3710.5436100264556, 3883.6468454966807, 4064.8201774354557, 4254.439832637066, 4452.899577327193, 4660.611534818944, 4878.007041284578, 5105.537541419557, 5343.675525858313, 5592.915512287799, 5853.775072295545, 6126.795906083884, 6412.544967281305, 6711.615640185888, 7024.6289718845255, 7352.234961805538, 7695.113911381431, 8053.977836623272, 8429.571946538676, 8822.676190461974, 9234.106877508151, 9664.71837151166, 10115.404864967892, 10587.102235658873, 11080.789989816301, 11597.493295854469, 12138.285112893465, 12704.288418489625, 13296.678540195853, 13916.685595789795, 14565.597047233076, 15244.760373660607, 15955.585868945733, 16699.549569645136, 17478.19631939772, 18293.142976134404, 19146.08176875171, 20038.783810211742, 20973.102774355175, 21950.978744053027, 22974.442238677882, 24045.618429246613, 25166.731549975237, 26340.10951539324, 27568.188752590242, 28853.519258613156, 30198.769893497996, 31606.733919908045, 33080.33480086029, 34622.632267555935, 36236.828669889386, 37926.27562279461, 39694.480962199406, 41545.11602499803, 43482.02326812215, 45509.224242490774, 47630.92793835271, 49851.53951930205, 52175.669463049584, 54608.14312787244, 57154.010764542705, 59818.55799445444, 62607.31677562988, 65526.07687929135, 68580.8979007373, 71778.12182936161, 75124.3862038065, 78626.63787944373, 82292.14743663868, 86128.52425956931, 90143.7323167508, 94346.10667585788, 98744.37078694504, 103347.6545697418, 108165.51334234941, 113207.94763039071, 118485.42389746835, 124008.89623967324, 129789.8290888577, 135840.2209714505, 142172.6293717475, 148800.19675086715, 155736.67777491716, 162996.46780838375, 170594.63273133186, 178546.94014169782, 186869.89200677184, 195580.75883091043, 204697.61540959452, 214239.3782431638, 224225.84468691636, 234677.7339177731, 245616.72980137373, 257065.52574730277, 269047.87164414645, 281588.62297026353, 294713.792180519, 308450.60247379215, 322827.54405083176, 337874.43297700677, 353622.4727696907, 370104.31883544, 387354.14588778425, 405407.7184823493, 424302.4648121976, 444077.5539126973, 464773.97643193835, 486434.6291297076, 509104.40327533014, 532830.2771222885, 557661.4126454587, 583649.2567350671, 610847.6470500795, 639312.9227427054, 669104.0402750422, 700282.694558612, 732913.4456576722, 767063.8513077184, 802804.6055115642, 840209.6834867905, 879356.4932502122, 920326.034137337, 963203.0625676006, 1008076.2653794609, 1055038.4410732463, 1104186.689313983, 1155622.6090612928, 1209452.5057088607, 1265787.607631949, 1324744.2925579646, 1386444.3241922117, 1451015.0995486665, 1518589.9074539116, 1589308.1987112795, 1663315.8684317626, 1740765.5510583755, 1821816.9286313911, 1906637.052863213, 1995400.6816136034, 2088290.6303785273], \"yaxis\": \"y\"}, {\"line\": {\"color\": \"red\"}, \"mode\": \"lines\", \"name\": \"historical data\", \"showlegend\": true, \"type\": \"scatter\", \"x\": [0, 1, 2, 3, 4, 5, 6, 7, 8, 9, 10, 11, 12, 13, 14, 15, 16, 17, 18, 19, 20, 21, 22, 23, 24, 25, 26, 27, 28, 29, 30, 31, 32, 33, 34, 35, 36, 37, 38, 39, 40, 41, 42, 43, 44, 45, 46, 47, 48, 49, 50, 51, 52, 53, 54, 55, 56, 57, 58, 59, 60, 61, 62, 63, 64, 65, 66, 67, 68, 69, 70, 71, 72, 73, 74, 75, 76, 77, 78, 79, 80, 81, 82, 83, 84, 85, 86, 87, 88, 89, 90, 91, 92, 93, 94, 95, 96, 97, 98, 99, 100, 101, 102, 103, 104, 105, 106, 107, 108, 109, 110, 111, 112, 113, 114, 115, 116, 117, 118, 119, 120, 121, 122, 123, 124, 125, 126, 127, 128, 129, 130, 131, 132, 133, 134, 135, 136, 137, 138, 139, 140, 141, 142, 143, 144, 145, 146], \"y\": [0.0, 0.0, 0.0, 0.0, 0.0, 0.0, 0.0, 0.0, 0.0, 0.0, 0.0, 0.0, 0.0, 0.0, 0.0, 0.0, 0.0, 0.0, 0.0, 0.0, 0.0, 0.0, 0.0, 0.0, 0.0, 0.0, 0.0, 0.0, 0.0, 0.0, 1.0, 1.0, 1.0, 2.0, 2.0, 3.0, 3.0, 3.0, 3.0, 3.0, 3.0, 3.0, 3.0, 3.0, 3.0, 3.0, 3.0, 3.0, 3.0, 3.0, 3.0, 3.0, 3.0, 3.0, 3.0, 3.0, 3.0, 3.0, 3.0, 3.0, 3.0, 3.0, 3.0, 5.0, 6.0, 28.0, 29.0, 31.0, 34.0, null, 44.0, 50.0, 73.0, 75.0, 83.0, 90.0, 93.0, 125.0, 137.0, 165.0, 191.0, 231.0, 320.0, 439.0, 492.0, 562.0, 649.0, 724.0, 873.0, 979.0, 1071.0, 1251.0, 1397.0, 1965.0, 2301.0, 2902.0, 3374.0, 4067.0, 4421.0, 5194.0, 5734.0, 6412.0, 7447.0, 8356.0, 9152.0, 10363.0, 11438.0, 12380.0, 13387.0, 14378.0, 15712.0, 17265.0, 18600.0, 19984.0, 21393.0, 23077.0, 24506.0, 26496.0, 27892.0, 29435.0, 31332.0, 33050.0, 35043.0, 37336.0, 39980.0, 42533.0, 46433.0, 49391.0, 52952.0, 56342.0, 59662.0, 62939.0, 67152.0, 70756.0, 74281.0, 78003.0, 81970.0, 85940.0, 90927.0, 96169.0, 101139.0, 106750.0, 112359.0, 118447.0, 125101.0, 131868.0, 138845.0]}],\n                        {\"legend\": {\"orientation\": \"h\", \"title\": {\"text\": \"scenario\"}, \"tracegroupgap\": 0}, \"margin\": {\"t\": 60}, \"template\": {\"data\": {\"bar\": [{\"error_x\": {\"color\": \"rgb(36,36,36)\"}, \"error_y\": {\"color\": \"rgb(36,36,36)\"}, \"marker\": {\"line\": {\"color\": \"white\", \"width\": 0.5}}, \"type\": \"bar\"}], \"barpolar\": [{\"marker\": {\"line\": {\"color\": \"white\", \"width\": 0.5}}, \"type\": \"barpolar\"}], \"carpet\": [{\"aaxis\": {\"endlinecolor\": \"rgb(36,36,36)\", \"gridcolor\": \"white\", \"linecolor\": \"white\", \"minorgridcolor\": \"white\", \"startlinecolor\": \"rgb(36,36,36)\"}, \"baxis\": {\"endlinecolor\": \"rgb(36,36,36)\", \"gridcolor\": \"white\", \"linecolor\": \"white\", \"minorgridcolor\": \"white\", \"startlinecolor\": \"rgb(36,36,36)\"}, \"type\": \"carpet\"}], \"choropleth\": [{\"colorbar\": {\"outlinewidth\": 1, \"tickcolor\": \"rgb(36,36,36)\", \"ticks\": \"outside\"}, \"type\": \"choropleth\"}], \"contour\": [{\"colorbar\": {\"outlinewidth\": 1, \"tickcolor\": \"rgb(36,36,36)\", \"ticks\": \"outside\"}, \"colorscale\": [[0.0, \"#440154\"], [0.1111111111111111, \"#482878\"], [0.2222222222222222, \"#3e4989\"], [0.3333333333333333, \"#31688e\"], [0.4444444444444444, \"#26828e\"], [0.5555555555555556, \"#1f9e89\"], [0.6666666666666666, \"#35b779\"], [0.7777777777777778, \"#6ece58\"], [0.8888888888888888, \"#b5de2b\"], [1.0, \"#fde725\"]], \"type\": \"contour\"}], \"contourcarpet\": [{\"colorbar\": {\"outlinewidth\": 1, \"tickcolor\": \"rgb(36,36,36)\", \"ticks\": \"outside\"}, \"type\": \"contourcarpet\"}], \"heatmap\": [{\"colorbar\": {\"outlinewidth\": 1, \"tickcolor\": \"rgb(36,36,36)\", \"ticks\": \"outside\"}, \"colorscale\": [[0.0, \"#440154\"], [0.1111111111111111, \"#482878\"], [0.2222222222222222, \"#3e4989\"], [0.3333333333333333, \"#31688e\"], [0.4444444444444444, \"#26828e\"], [0.5555555555555556, \"#1f9e89\"], [0.6666666666666666, \"#35b779\"], [0.7777777777777778, \"#6ece58\"], [0.8888888888888888, \"#b5de2b\"], [1.0, \"#fde725\"]], \"type\": \"heatmap\"}], \"heatmapgl\": [{\"colorbar\": {\"outlinewidth\": 1, \"tickcolor\": \"rgb(36,36,36)\", \"ticks\": \"outside\"}, \"colorscale\": [[0.0, \"#440154\"], [0.1111111111111111, \"#482878\"], [0.2222222222222222, \"#3e4989\"], [0.3333333333333333, \"#31688e\"], [0.4444444444444444, \"#26828e\"], [0.5555555555555556, \"#1f9e89\"], [0.6666666666666666, \"#35b779\"], [0.7777777777777778, \"#6ece58\"], [0.8888888888888888, \"#b5de2b\"], [1.0, \"#fde725\"]], \"type\": \"heatmapgl\"}], \"histogram\": [{\"marker\": {\"line\": {\"color\": \"white\", \"width\": 0.6}}, \"type\": \"histogram\"}], \"histogram2d\": [{\"colorbar\": {\"outlinewidth\": 1, \"tickcolor\": \"rgb(36,36,36)\", \"ticks\": \"outside\"}, \"colorscale\": [[0.0, \"#440154\"], [0.1111111111111111, \"#482878\"], [0.2222222222222222, \"#3e4989\"], [0.3333333333333333, \"#31688e\"], [0.4444444444444444, \"#26828e\"], [0.5555555555555556, \"#1f9e89\"], [0.6666666666666666, \"#35b779\"], [0.7777777777777778, \"#6ece58\"], [0.8888888888888888, \"#b5de2b\"], [1.0, \"#fde725\"]], \"type\": \"histogram2d\"}], \"histogram2dcontour\": [{\"colorbar\": {\"outlinewidth\": 1, \"tickcolor\": \"rgb(36,36,36)\", \"ticks\": \"outside\"}, \"colorscale\": [[0.0, \"#440154\"], [0.1111111111111111, \"#482878\"], [0.2222222222222222, \"#3e4989\"], [0.3333333333333333, \"#31688e\"], [0.4444444444444444, \"#26828e\"], [0.5555555555555556, \"#1f9e89\"], [0.6666666666666666, \"#35b779\"], [0.7777777777777778, \"#6ece58\"], [0.8888888888888888, \"#b5de2b\"], [1.0, \"#fde725\"]], \"type\": \"histogram2dcontour\"}], \"mesh3d\": [{\"colorbar\": {\"outlinewidth\": 1, \"tickcolor\": \"rgb(36,36,36)\", \"ticks\": \"outside\"}, \"type\": \"mesh3d\"}], \"parcoords\": [{\"line\": {\"colorbar\": {\"outlinewidth\": 1, \"tickcolor\": \"rgb(36,36,36)\", \"ticks\": \"outside\"}}, \"type\": \"parcoords\"}], \"pie\": [{\"automargin\": true, \"type\": \"pie\"}], \"scatter\": [{\"marker\": {\"colorbar\": {\"outlinewidth\": 1, \"tickcolor\": \"rgb(36,36,36)\", \"ticks\": \"outside\"}}, \"type\": \"scatter\"}], \"scatter3d\": [{\"line\": {\"colorbar\": {\"outlinewidth\": 1, \"tickcolor\": \"rgb(36,36,36)\", \"ticks\": \"outside\"}}, \"marker\": {\"colorbar\": {\"outlinewidth\": 1, \"tickcolor\": \"rgb(36,36,36)\", \"ticks\": \"outside\"}}, \"type\": \"scatter3d\"}], \"scattercarpet\": [{\"marker\": {\"colorbar\": {\"outlinewidth\": 1, \"tickcolor\": \"rgb(36,36,36)\", \"ticks\": \"outside\"}}, \"type\": \"scattercarpet\"}], \"scattergeo\": [{\"marker\": {\"colorbar\": {\"outlinewidth\": 1, \"tickcolor\": \"rgb(36,36,36)\", \"ticks\": \"outside\"}}, \"type\": \"scattergeo\"}], \"scattergl\": [{\"marker\": {\"colorbar\": {\"outlinewidth\": 1, \"tickcolor\": \"rgb(36,36,36)\", \"ticks\": \"outside\"}}, \"type\": \"scattergl\"}], \"scattermapbox\": [{\"marker\": {\"colorbar\": {\"outlinewidth\": 1, \"tickcolor\": \"rgb(36,36,36)\", \"ticks\": \"outside\"}}, \"type\": \"scattermapbox\"}], \"scatterpolar\": [{\"marker\": {\"colorbar\": {\"outlinewidth\": 1, \"tickcolor\": \"rgb(36,36,36)\", \"ticks\": \"outside\"}}, \"type\": \"scatterpolar\"}], \"scatterpolargl\": [{\"marker\": {\"colorbar\": {\"outlinewidth\": 1, \"tickcolor\": \"rgb(36,36,36)\", \"ticks\": \"outside\"}}, \"type\": \"scatterpolargl\"}], \"scatterternary\": [{\"marker\": {\"colorbar\": {\"outlinewidth\": 1, \"tickcolor\": \"rgb(36,36,36)\", \"ticks\": \"outside\"}}, \"type\": \"scatterternary\"}], \"surface\": [{\"colorbar\": {\"outlinewidth\": 1, \"tickcolor\": \"rgb(36,36,36)\", \"ticks\": \"outside\"}, \"colorscale\": [[0.0, \"#440154\"], [0.1111111111111111, \"#482878\"], [0.2222222222222222, \"#3e4989\"], [0.3333333333333333, \"#31688e\"], [0.4444444444444444, \"#26828e\"], [0.5555555555555556, \"#1f9e89\"], [0.6666666666666666, \"#35b779\"], [0.7777777777777778, \"#6ece58\"], [0.8888888888888888, \"#b5de2b\"], [1.0, \"#fde725\"]], \"type\": \"surface\"}], \"table\": [{\"cells\": {\"fill\": {\"color\": \"rgb(237,237,237)\"}, \"line\": {\"color\": \"white\"}}, \"header\": {\"fill\": {\"color\": \"rgb(217,217,217)\"}, \"line\": {\"color\": \"white\"}}, \"type\": \"table\"}]}, \"layout\": {\"annotationdefaults\": {\"arrowhead\": 0, \"arrowwidth\": 1}, \"coloraxis\": {\"colorbar\": {\"outlinewidth\": 1, \"tickcolor\": \"rgb(36,36,36)\", \"ticks\": \"outside\"}}, \"colorscale\": {\"diverging\": [[0.0, \"rgb(103,0,31)\"], [0.1, \"rgb(178,24,43)\"], [0.2, \"rgb(214,96,77)\"], [0.3, \"rgb(244,165,130)\"], [0.4, \"rgb(253,219,199)\"], [0.5, \"rgb(247,247,247)\"], [0.6, \"rgb(209,229,240)\"], [0.7, \"rgb(146,197,222)\"], [0.8, \"rgb(67,147,195)\"], [0.9, \"rgb(33,102,172)\"], [1.0, \"rgb(5,48,97)\"]], \"sequential\": [[0.0, \"#440154\"], [0.1111111111111111, \"#482878\"], [0.2222222222222222, \"#3e4989\"], [0.3333333333333333, \"#31688e\"], [0.4444444444444444, \"#26828e\"], [0.5555555555555556, \"#1f9e89\"], [0.6666666666666666, \"#35b779\"], [0.7777777777777778, \"#6ece58\"], [0.8888888888888888, \"#b5de2b\"], [1.0, \"#fde725\"]], \"sequentialminus\": [[0.0, \"#440154\"], [0.1111111111111111, \"#482878\"], [0.2222222222222222, \"#3e4989\"], [0.3333333333333333, \"#31688e\"], [0.4444444444444444, \"#26828e\"], [0.5555555555555556, \"#1f9e89\"], [0.6666666666666666, \"#35b779\"], [0.7777777777777778, \"#6ece58\"], [0.8888888888888888, \"#b5de2b\"], [1.0, \"#fde725\"]]}, \"colorway\": [\"#1F77B4\", \"#FF7F0E\", \"#2CA02C\", \"#D62728\", \"#9467BD\", \"#8C564B\", \"#E377C2\", \"#7F7F7F\", \"#BCBD22\", \"#17BECF\"], \"font\": {\"color\": \"rgb(36,36,36)\"}, \"geo\": {\"bgcolor\": \"white\", \"lakecolor\": \"white\", \"landcolor\": \"white\", \"showlakes\": true, \"showland\": true, \"subunitcolor\": \"white\"}, \"hoverlabel\": {\"align\": \"left\"}, \"hovermode\": \"closest\", \"mapbox\": {\"style\": \"light\"}, \"paper_bgcolor\": \"white\", \"plot_bgcolor\": \"white\", \"polar\": {\"angularaxis\": {\"gridcolor\": \"rgb(232,232,232)\", \"linecolor\": \"rgb(36,36,36)\", \"showgrid\": false, \"showline\": true, \"ticks\": \"outside\"}, \"bgcolor\": \"white\", \"radialaxis\": {\"gridcolor\": \"rgb(232,232,232)\", \"linecolor\": \"rgb(36,36,36)\", \"showgrid\": false, \"showline\": true, \"ticks\": \"outside\"}}, \"scene\": {\"xaxis\": {\"backgroundcolor\": \"white\", \"gridcolor\": \"rgb(232,232,232)\", \"gridwidth\": 2, \"linecolor\": \"rgb(36,36,36)\", \"showbackground\": true, \"showgrid\": false, \"showline\": true, \"ticks\": \"outside\", \"zeroline\": false, \"zerolinecolor\": \"rgb(36,36,36)\"}, \"yaxis\": {\"backgroundcolor\": \"white\", \"gridcolor\": \"rgb(232,232,232)\", \"gridwidth\": 2, \"linecolor\": \"rgb(36,36,36)\", \"showbackground\": true, \"showgrid\": false, \"showline\": true, \"ticks\": \"outside\", \"zeroline\": false, \"zerolinecolor\": \"rgb(36,36,36)\"}, \"zaxis\": {\"backgroundcolor\": \"white\", \"gridcolor\": \"rgb(232,232,232)\", \"gridwidth\": 2, \"linecolor\": \"rgb(36,36,36)\", \"showbackground\": true, \"showgrid\": false, \"showline\": true, \"ticks\": \"outside\", \"zeroline\": false, \"zerolinecolor\": \"rgb(36,36,36)\"}}, \"shapedefaults\": {\"fillcolor\": \"black\", \"line\": {\"width\": 0}, \"opacity\": 0.3}, \"ternary\": {\"aaxis\": {\"gridcolor\": \"rgb(232,232,232)\", \"linecolor\": \"rgb(36,36,36)\", \"showgrid\": false, \"showline\": true, \"ticks\": \"outside\"}, \"baxis\": {\"gridcolor\": \"rgb(232,232,232)\", \"linecolor\": \"rgb(36,36,36)\", \"showgrid\": false, \"showline\": true, \"ticks\": \"outside\"}, \"bgcolor\": \"white\", \"caxis\": {\"gridcolor\": \"rgb(232,232,232)\", \"linecolor\": \"rgb(36,36,36)\", \"showgrid\": false, \"showline\": true, \"ticks\": \"outside\"}}, \"title\": {\"x\": 0.05}, \"xaxis\": {\"automargin\": true, \"gridcolor\": \"rgb(232,232,232)\", \"linecolor\": \"rgb(36,36,36)\", \"showgrid\": true, \"showline\": true, \"ticks\": \"outside\", \"title\": {\"standoff\": 15}, \"zeroline\": false, \"zerolinecolor\": \"rgb(36,36,36)\"}, \"yaxis\": {\"automargin\": true, \"gridcolor\": \"rgb(232,232,232)\", \"linecolor\": \"rgb(36,36,36)\", \"showgrid\": true, \"showline\": true, \"ticks\": \"outside\", \"title\": {\"standoff\": 15}, \"zeroline\": false, \"zerolinecolor\": \"rgb(36,36,36)\"}}}, \"width\": 800, \"xaxis\": {\"anchor\": \"y\", \"domain\": [0.0, 1.0], \"title\": {\"text\": \"Days\"}}, \"yaxis\": {\"anchor\": \"x\", \"domain\": [0.0, 1.0], \"title\": {\"text\": \"Total cases\"}}},\n                        {\"responsive\": true}\n                    ).then(function(){\n                            \nvar gd = document.getElementById('dcca39a2-8b24-4c0f-abc4-d1813ff06dc0');\nvar x = new MutationObserver(function (mutations, observer) {{\n        var display = window.getComputedStyle(gd).display;\n        if (!display || display === 'none') {{\n            console.log([gd, 'removed!']);\n            Plotly.purge(gd);\n            observer.disconnect();\n        }}\n}});\n\n// Listen for the removal of the full notebook cells\nvar notebookContainer = gd.closest('#notebook-container');\nif (notebookContainer) {{\n    x.observe(notebookContainer, {childList: true});\n}}\n\n// Listen for the clearing of the current output cell\nvar outputEl = gd.closest('.output');\nif (outputEl) {{\n    x.observe(outputEl, {childList: true});\n}}\n\n                        })\n                };\n                });\n            </script>\n        </div>"
     },
     "metadata": {}
    },
    {
     "output_type": "stream",
     "name": "stdout",
     "text": "writing file  6.0.00.2020/2020-08-26 - Reference plot without lockdown 1.0-total_infected\n"
    }
   ],
   "source": [
    "sim.reference_plot(sim.get_run_data(),reference,'total_infected','total_cases','Days','Total cases','','Reference plot without lockdown 1.0')"
   ]
  },
  {
   "cell_type": "markdown",
   "metadata": {},
   "source": [
    "## Total deaths\n",
    "Comparison of the historical and simulated total deaths over the first 146 days of the pandemic"
   ]
  },
  {
   "cell_type": "code",
   "execution_count": 10,
   "metadata": {
    "tags": []
   },
   "outputs": [
    {
     "output_type": "display_data",
     "data": {
      "application/vnd.plotly.v1+json": {
       "config": {
        "plotlyServerURL": "https://plot.ly"
       },
       "data": [
        {
         "hovertemplate": "scenario=simulated<br>time=%{x}<br>covid_deaths=%{y}<extra></extra>",
         "legendgroup": "simulated",
         "line": {
          "color": "#1F77B4",
          "dash": "solid"
         },
         "mode": "lines",
         "name": "simulated",
         "orientation": "v",
         "showlegend": true,
         "type": "scatter",
         "x": [
          1,
          1.5,
          2,
          2.5,
          3,
          3.5,
          4,
          4.5,
          5,
          5.5,
          6,
          6.5,
          7,
          7.5,
          8,
          8.5,
          9,
          9.5,
          10,
          10.5,
          11,
          11.5,
          12,
          12.5,
          13,
          13.5,
          14,
          14.5,
          15,
          15.5,
          16,
          16.5,
          17,
          17.5,
          18,
          18.5,
          19,
          19.5,
          20,
          20.5,
          21,
          21.5,
          22,
          22.5,
          23,
          23.5,
          24,
          24.5,
          25,
          25.5,
          26,
          26.5,
          27,
          27.5,
          28,
          28.5,
          29,
          29.5,
          30,
          30.5,
          31,
          31.5,
          32,
          32.5,
          33,
          33.5,
          34,
          34.5,
          35,
          35.5,
          36,
          36.5,
          37,
          37.5,
          38,
          38.5,
          39,
          39.5,
          40,
          40.5,
          41,
          41.5,
          42,
          42.5,
          43,
          43.5,
          44,
          44.5,
          45,
          45.5,
          46,
          46.5,
          47,
          47.5,
          48,
          48.5,
          49,
          49.5,
          50,
          50.5,
          51,
          51.5,
          52,
          52.5,
          53,
          53.5,
          54,
          54.5,
          55,
          55.5,
          56,
          56.5,
          57,
          57.5,
          58,
          58.5,
          59,
          59.5,
          60,
          60.5,
          61,
          61.5,
          62,
          62.5,
          63,
          63.5,
          64,
          64.5,
          65,
          65.5,
          66,
          66.5,
          67,
          67.5,
          68,
          68.5,
          69,
          69.5,
          70,
          70.5,
          71,
          71.5,
          72,
          72.5,
          73,
          73.5,
          74,
          74.5,
          75,
          75.5,
          76,
          76.5,
          77,
          77.5,
          78,
          78.5,
          79,
          79.5,
          80,
          80.5,
          81,
          81.5,
          82,
          82.5,
          83,
          83.5,
          84,
          84.5,
          85,
          85.5,
          86,
          86.5,
          87,
          87.5,
          88,
          88.5,
          89,
          89.5,
          90,
          90.5,
          91,
          91.5,
          92,
          92.5,
          93,
          93.5,
          94,
          94.5,
          95,
          95.5,
          96,
          96.5,
          97,
          97.5,
          98,
          98.5,
          99,
          99.5,
          100,
          100.5,
          101,
          101.5,
          102,
          102.5,
          103,
          103.5,
          104,
          104.5,
          105,
          105.5,
          106,
          106.5,
          107,
          107.5,
          108,
          108.5,
          109,
          109.5,
          110,
          110.5,
          111,
          111.5,
          112,
          112.5,
          113,
          113.5,
          114,
          114.5,
          115,
          115.5,
          116,
          116.5,
          117,
          117.5,
          118,
          118.5,
          119,
          119.5,
          120,
          120.5,
          121,
          121.5,
          122,
          122.5,
          123,
          123.5,
          124,
          124.5,
          125,
          125.5,
          126,
          126.5,
          127,
          127.5,
          128,
          128.5,
          129,
          129.5,
          130,
          130.5,
          131,
          131.5,
          132,
          132.5,
          133,
          133.5,
          134,
          134.5,
          135,
          135.5,
          136,
          136.5,
          137,
          137.5,
          138,
          138.5,
          139,
          139.5,
          140,
          140.5,
          141,
          141.5,
          142,
          142.5,
          143,
          143.5,
          144,
          144.5,
          145,
          145.5,
          146,
          146.5
         ],
         "xaxis": "x",
         "y": [
          0,
          0,
          0.00095,
          0.0022501533069381597,
          0.0038668544536043354,
          0.0057730818913338065,
          0.007947374413886673,
          0.010372977058339708,
          0.013037128928540186,
          0.015930469889894452,
          0.019046546852615122,
          0.02238140351400296,
          0.025933240069281643,
          0.029702131608937463,
          0.033689795768731684,
          0.03789940174536662,
          0.0423354140854133,
          0.047003465738731036,
          0.05191025577468731,
          0.05706346791885622,
          0.062471706703663796,
          0.06814444855885067,
          0.07409200561353205,
          0.08032550035519087,
          0.08685684960397363,
          0.09369875652307093,
          0.10086470960604181,
          0.10836898776661752,
          0.1162266708115984,
          0.12445365470779587,
          0.13306667116363446,
          0.1420833111384199,
          0.15152205197024732,
          0.1614022878794536,
          0.17174436366040752,
          0.18256961142195266,
          0.19390039027737296,
          0.2057601289195126,
          0.21817337104663603,
          0.23116582363058438,
          0.2447644080414642,
          0.25899731406307575,
          0.2738940568510376,
          0.289485536901505,
          0.30580410311285616,
          0.3228836190360255,
          0.3407595324215443,
          0.3594689481830121,
          0.37905070490785187,
          0.3995454550569385,
          0.4209957490051778,
          0.44344612308544795,
          0.46694319180860916,
          0.4915357444426098,
          0.5172748461441565,
          0.5442139438470271,
          0.5724089771219497,
          0.6019184942341108,
          0.6328037736358225,
          0.6651289511437376,
          0.6989611530622777,
          0.7343706355276878,
          0.77143093036038,
          0.8102189977270231,
          0.8508153859282079,
          0.8933043986425134,
          0.937774269973442,
          0.9843173476620352,
          1.0330302848450514,
          1.0840142407564295,
          1.1373750907884121,
          1.193223646348209,
          1.2516758849664755,
          1.312853191135219,
          1.3768826083750667,
          1.4438971030551777,
          1.5140358405135206,
          1.5874444740507974,
          1.6642754473980532,
          1.744688311286006,
          1.828850054773424,
          1.9169354520225448,
          2.0091274252416125,
          2.1056174245481944,
          2.206605825542078,
          2.312302345413335,
          2.4229264784496354,
          2.5387079518471762,
          2.6598872027717655,
          2.7867158776607237,
          2.9194573548024616,
          3.058387291278925,
          3.2037941954066995,
          3.3559800258655144,
          3.5152608187583088,
          3.681967343905024,
          3.856445791732996,
          4.039058492190362,
          4.230184667175385,
          4.430221218044213,
          4.63958354983243,
          4.858706433901978,
          5.08804491080486,
          5.32807523523851,
          5.57929586505515,
          5.842228496378927,
          6.117419146980352,
          6.405439290157822,
          6.706887041480821,
          7.022388400859232,
          7.352598552518037,
          7.698203225576937,
          8.059920118060294,
          8.438500387294482,
          8.834730209787617,
          9.249432413830904,
          9.683468188211863,
          10.137738870587727,
          10.61318781923274,
          11.110802372046207,
          11.631615896889334,
          12.176709937508571,
          12.747216459501617,
          13.344320200990031,
          13.969261132879788,
          14.62333703381867,
          15.307906185197586,
          16.02439019179215,
          16.774276933901753,
          17.55912365711638,
          18.380560206127292,
          19.240292409296664,
          20.14010562101442,
          21.08186842919809,
          22.067536535634417,
          23.099156817220383,
          24.178871576536835,
          25.30892299058118,
          26.491657766896903,
          27.72953201676842,
          29.025116355600396,
          30.38110124107244,
          31.800302560153735,
          33.28566747657889,
          34.840280550927076,
          36.467370146012584,
          38.17031513088717,
          39.95265189737471,
          41.818081703707485,
          43.77047836051252,
          45.813896275107254,
          47.95257887080766,
          50.1909673987306,
          52.53371016038688,
          54.98567216021458,
          57.55194520809451,
          60.2378584928241,
          63.048989648503536,
          65.99117633681131,
          69.07052836921731,
          72.29344039430254,
          75.66660517652723,
          79.19702749401762,
          82.89203868422572,
          86.75931186766206,
          90.80687788130814,
          95.04314195478916,
          99.47690116392855,
          104.11736269791979,
          108.97416297803971,
          114.05738766759455,
          119.37759261463985,
          124.94582577095139,
          130.77365013274988,
          136.87316775080305,
          143.25704485974745,
          149.93853817879514,
          156.931522438421,
          164.2505191901703,
          171.9107269593882,
          179.92805280345985,
          188.31914534106497,
          197.10142932100337,
          206.29314180234104,
          215.91337002096972,
          225.98209102117065,
          236.52021313443421,
          247.54961939161885,
          259.09321295854215,
          271.1749646892936,
          283.8199628959496,
          297.0544654379682,
          310.90595423935,
          325.4031923466854,
          340.57628364647593,
          356.45673536563135,
          373.07752348481074,
          390.4731612003159,
          408.67977057656134,
          427.7351575377584,
          447.6788903543686,
          468.5523817871237,
          490.3989750589859,
          513.2640338333512,
          537.1950363850963,
          562.2416741597534,
          588.455954925182,
          615.8923107296155,
          644.6077108899104,
          674.6617802442374,
          706.116922914346,
          739.0384518339372,
          773.4947243116051,
          809.5572839092906,
          847.3010089302521,
          886.8042678242219,
          928.149081831717,
          971.4212952044348,
          1016.7107533543178,
          1064.1114893002493,
          1113.7219187984817,
          1165.6450445608264,
          1219.9886699833914,
          1276.8656228282869,
          1336.3939893212378,
          1398.6973591495407,
          1463.9050818672608,
          1532.152535238084,
          1603.58140607083,
          1678.339984128363,
          1756.5834697175478,
          1838.474295596058,
          1924.182463861286,
          2013.8858985174138,
          2107.7708144489243,
          2206.0321035625248,
          2308.8737388947175,
          2416.5091975191003,
          2529.161903126045,
          2647.06568918772,
          2770.4652836635846,
          2899.6168162455815,
          3034.7883491883576,
          3176.26043281806,
          3324.326686863653,
          3479.2944088074228,
          3641.4852105064274,
          3811.235684394258,
          3988.898100632706,
          4174.841136645867,
          4369.450640535028,
          4573.130429941438,
          4786.303127995959,
          5009.4110380696875,
          5242.917059118146,
          5487.305643493656,
          5743.083799186187,
          6010.782138542526,
          6290.955975607101,
          6584.186474325523,
          6891.081849953893,
          7212.278626123523,
          7548.442950121949,
          7900.271969067317,
          8268.495269774488,
          8653.876385237849,
          9057.214370787899,
          9479.345453116672,
          9921.144755510859,
          10383.528102781695,
          10867.453909537206,
          11373.9251556058,
          11903.991452590431,
          12458.751205710154,
          13039.353875270988,
          13647.002342300852,
          14282.955383084325,
          14948.53025754237,
          15645.105416620143,
          16374.123334073076,
          17137.093468277697,
          17935.595359939573,
          18771.281871826573,
          19645.88257692174,
          20561.207301666578,
          21519.149831253144,
          22521.691784221905,
          23570.9066639325,
          24668.96409479653,
          25818.134251495514,
          27020.792489753672,
          28279.424187594323
         ],
         "yaxis": "y"
        },
        {
         "line": {
          "color": "red"
         },
         "mode": "lines",
         "name": "historical data",
         "showlegend": true,
         "type": "scatter",
         "x": [
          0,
          1,
          2,
          3,
          4,
          5,
          6,
          7,
          8,
          9,
          10,
          11,
          12,
          13,
          14,
          15,
          16,
          17,
          18,
          19,
          20,
          21,
          22,
          23,
          24,
          25,
          26,
          27,
          28,
          29,
          30,
          31,
          32,
          33,
          34,
          35,
          36,
          37,
          38,
          39,
          40,
          41,
          42,
          43,
          44,
          45,
          46,
          47,
          48,
          49,
          50,
          51,
          52,
          53,
          54,
          55,
          56,
          57,
          58,
          59,
          60,
          61,
          62,
          63,
          64,
          65,
          66,
          67,
          68,
          69,
          70,
          71,
          72,
          73,
          74,
          75,
          76,
          77,
          78,
          79,
          80,
          81,
          82,
          83,
          84,
          85,
          86,
          87,
          88,
          89,
          90,
          91,
          92,
          93,
          94,
          95,
          96,
          97,
          98,
          99,
          100,
          101,
          102,
          103,
          104,
          105,
          106,
          107,
          108,
          109,
          110,
          111,
          112,
          113,
          114,
          115,
          116,
          117,
          118,
          119,
          120,
          121,
          122,
          123,
          124,
          125,
          126,
          127,
          128,
          129,
          130,
          131,
          132,
          133,
          134,
          135,
          136,
          137,
          138,
          139,
          140,
          141,
          142,
          143,
          144,
          145,
          146
         ],
         "y": [
          0,
          0,
          0,
          0,
          0,
          0,
          0,
          0,
          0,
          0,
          0,
          0,
          0,
          0,
          0,
          0,
          0,
          0,
          0,
          0,
          0,
          0,
          0,
          0,
          0,
          0,
          0,
          0,
          0,
          0,
          0,
          0,
          0,
          0,
          0,
          0,
          0,
          0,
          0,
          0,
          0,
          0,
          0,
          0,
          0,
          0,
          0,
          0,
          0,
          0,
          0,
          0,
          0,
          0,
          0,
          0,
          0,
          0,
          0,
          0,
          0,
          0,
          0,
          0,
          0,
          0,
          0,
          0,
          0,
          null,
          0,
          0,
          0,
          1,
          2,
          2,
          2,
          3,
          3,
          3,
          4,
          4,
          4,
          7,
          9,
          9,
          13,
          17,
          19,
          25,
          29,
          32,
          35,
          50,
          56,
          68,
          77,
          109,
          114,
          149,
          166,
          199,
          239,
          273,
          308,
          339,
          377,
          414,
          437,
          480,
          507,
          543,
          590,
          640,
          681,
          718,
          775,
          824,
          872,
          934,
          1007,
          1074,
          1147,
          1218,
          1301,
          1373,
          1568,
          1694,
          1783,
          1886,
          1981,
          2109,
          2206,
          2293,
          2415,
          2549,
          2649,
          2752,
          2872,
          3029,
          3163,
          3303,
          3435,
          3583,
          3720,
          3867,
          4021
         ]
        }
       ],
       "layout": {
        "legend": {
         "orientation": "h",
         "title": {
          "text": "scenario"
         },
         "tracegroupgap": 0
        },
        "margin": {
         "t": 60
        },
        "template": {
         "data": {
          "bar": [
           {
            "error_x": {
             "color": "rgb(36,36,36)"
            },
            "error_y": {
             "color": "rgb(36,36,36)"
            },
            "marker": {
             "line": {
              "color": "white",
              "width": 0.5
             }
            },
            "type": "bar"
           }
          ],
          "barpolar": [
           {
            "marker": {
             "line": {
              "color": "white",
              "width": 0.5
             }
            },
            "type": "barpolar"
           }
          ],
          "carpet": [
           {
            "aaxis": {
             "endlinecolor": "rgb(36,36,36)",
             "gridcolor": "white",
             "linecolor": "white",
             "minorgridcolor": "white",
             "startlinecolor": "rgb(36,36,36)"
            },
            "baxis": {
             "endlinecolor": "rgb(36,36,36)",
             "gridcolor": "white",
             "linecolor": "white",
             "minorgridcolor": "white",
             "startlinecolor": "rgb(36,36,36)"
            },
            "type": "carpet"
           }
          ],
          "choropleth": [
           {
            "colorbar": {
             "outlinewidth": 1,
             "tickcolor": "rgb(36,36,36)",
             "ticks": "outside"
            },
            "type": "choropleth"
           }
          ],
          "contour": [
           {
            "colorbar": {
             "outlinewidth": 1,
             "tickcolor": "rgb(36,36,36)",
             "ticks": "outside"
            },
            "colorscale": [
             [
              0,
              "#440154"
             ],
             [
              0.1111111111111111,
              "#482878"
             ],
             [
              0.2222222222222222,
              "#3e4989"
             ],
             [
              0.3333333333333333,
              "#31688e"
             ],
             [
              0.4444444444444444,
              "#26828e"
             ],
             [
              0.5555555555555556,
              "#1f9e89"
             ],
             [
              0.6666666666666666,
              "#35b779"
             ],
             [
              0.7777777777777778,
              "#6ece58"
             ],
             [
              0.8888888888888888,
              "#b5de2b"
             ],
             [
              1,
              "#fde725"
             ]
            ],
            "type": "contour"
           }
          ],
          "contourcarpet": [
           {
            "colorbar": {
             "outlinewidth": 1,
             "tickcolor": "rgb(36,36,36)",
             "ticks": "outside"
            },
            "type": "contourcarpet"
           }
          ],
          "heatmap": [
           {
            "colorbar": {
             "outlinewidth": 1,
             "tickcolor": "rgb(36,36,36)",
             "ticks": "outside"
            },
            "colorscale": [
             [
              0,
              "#440154"
             ],
             [
              0.1111111111111111,
              "#482878"
             ],
             [
              0.2222222222222222,
              "#3e4989"
             ],
             [
              0.3333333333333333,
              "#31688e"
             ],
             [
              0.4444444444444444,
              "#26828e"
             ],
             [
              0.5555555555555556,
              "#1f9e89"
             ],
             [
              0.6666666666666666,
              "#35b779"
             ],
             [
              0.7777777777777778,
              "#6ece58"
             ],
             [
              0.8888888888888888,
              "#b5de2b"
             ],
             [
              1,
              "#fde725"
             ]
            ],
            "type": "heatmap"
           }
          ],
          "heatmapgl": [
           {
            "colorbar": {
             "outlinewidth": 1,
             "tickcolor": "rgb(36,36,36)",
             "ticks": "outside"
            },
            "colorscale": [
             [
              0,
              "#440154"
             ],
             [
              0.1111111111111111,
              "#482878"
             ],
             [
              0.2222222222222222,
              "#3e4989"
             ],
             [
              0.3333333333333333,
              "#31688e"
             ],
             [
              0.4444444444444444,
              "#26828e"
             ],
             [
              0.5555555555555556,
              "#1f9e89"
             ],
             [
              0.6666666666666666,
              "#35b779"
             ],
             [
              0.7777777777777778,
              "#6ece58"
             ],
             [
              0.8888888888888888,
              "#b5de2b"
             ],
             [
              1,
              "#fde725"
             ]
            ],
            "type": "heatmapgl"
           }
          ],
          "histogram": [
           {
            "marker": {
             "line": {
              "color": "white",
              "width": 0.6
             }
            },
            "type": "histogram"
           }
          ],
          "histogram2d": [
           {
            "colorbar": {
             "outlinewidth": 1,
             "tickcolor": "rgb(36,36,36)",
             "ticks": "outside"
            },
            "colorscale": [
             [
              0,
              "#440154"
             ],
             [
              0.1111111111111111,
              "#482878"
             ],
             [
              0.2222222222222222,
              "#3e4989"
             ],
             [
              0.3333333333333333,
              "#31688e"
             ],
             [
              0.4444444444444444,
              "#26828e"
             ],
             [
              0.5555555555555556,
              "#1f9e89"
             ],
             [
              0.6666666666666666,
              "#35b779"
             ],
             [
              0.7777777777777778,
              "#6ece58"
             ],
             [
              0.8888888888888888,
              "#b5de2b"
             ],
             [
              1,
              "#fde725"
             ]
            ],
            "type": "histogram2d"
           }
          ],
          "histogram2dcontour": [
           {
            "colorbar": {
             "outlinewidth": 1,
             "tickcolor": "rgb(36,36,36)",
             "ticks": "outside"
            },
            "colorscale": [
             [
              0,
              "#440154"
             ],
             [
              0.1111111111111111,
              "#482878"
             ],
             [
              0.2222222222222222,
              "#3e4989"
             ],
             [
              0.3333333333333333,
              "#31688e"
             ],
             [
              0.4444444444444444,
              "#26828e"
             ],
             [
              0.5555555555555556,
              "#1f9e89"
             ],
             [
              0.6666666666666666,
              "#35b779"
             ],
             [
              0.7777777777777778,
              "#6ece58"
             ],
             [
              0.8888888888888888,
              "#b5de2b"
             ],
             [
              1,
              "#fde725"
             ]
            ],
            "type": "histogram2dcontour"
           }
          ],
          "mesh3d": [
           {
            "colorbar": {
             "outlinewidth": 1,
             "tickcolor": "rgb(36,36,36)",
             "ticks": "outside"
            },
            "type": "mesh3d"
           }
          ],
          "parcoords": [
           {
            "line": {
             "colorbar": {
              "outlinewidth": 1,
              "tickcolor": "rgb(36,36,36)",
              "ticks": "outside"
             }
            },
            "type": "parcoords"
           }
          ],
          "pie": [
           {
            "automargin": true,
            "type": "pie"
           }
          ],
          "scatter": [
           {
            "marker": {
             "colorbar": {
              "outlinewidth": 1,
              "tickcolor": "rgb(36,36,36)",
              "ticks": "outside"
             }
            },
            "type": "scatter"
           }
          ],
          "scatter3d": [
           {
            "line": {
             "colorbar": {
              "outlinewidth": 1,
              "tickcolor": "rgb(36,36,36)",
              "ticks": "outside"
             }
            },
            "marker": {
             "colorbar": {
              "outlinewidth": 1,
              "tickcolor": "rgb(36,36,36)",
              "ticks": "outside"
             }
            },
            "type": "scatter3d"
           }
          ],
          "scattercarpet": [
           {
            "marker": {
             "colorbar": {
              "outlinewidth": 1,
              "tickcolor": "rgb(36,36,36)",
              "ticks": "outside"
             }
            },
            "type": "scattercarpet"
           }
          ],
          "scattergeo": [
           {
            "marker": {
             "colorbar": {
              "outlinewidth": 1,
              "tickcolor": "rgb(36,36,36)",
              "ticks": "outside"
             }
            },
            "type": "scattergeo"
           }
          ],
          "scattergl": [
           {
            "marker": {
             "colorbar": {
              "outlinewidth": 1,
              "tickcolor": "rgb(36,36,36)",
              "ticks": "outside"
             }
            },
            "type": "scattergl"
           }
          ],
          "scattermapbox": [
           {
            "marker": {
             "colorbar": {
              "outlinewidth": 1,
              "tickcolor": "rgb(36,36,36)",
              "ticks": "outside"
             }
            },
            "type": "scattermapbox"
           }
          ],
          "scatterpolar": [
           {
            "marker": {
             "colorbar": {
              "outlinewidth": 1,
              "tickcolor": "rgb(36,36,36)",
              "ticks": "outside"
             }
            },
            "type": "scatterpolar"
           }
          ],
          "scatterpolargl": [
           {
            "marker": {
             "colorbar": {
              "outlinewidth": 1,
              "tickcolor": "rgb(36,36,36)",
              "ticks": "outside"
             }
            },
            "type": "scatterpolargl"
           }
          ],
          "scatterternary": [
           {
            "marker": {
             "colorbar": {
              "outlinewidth": 1,
              "tickcolor": "rgb(36,36,36)",
              "ticks": "outside"
             }
            },
            "type": "scatterternary"
           }
          ],
          "surface": [
           {
            "colorbar": {
             "outlinewidth": 1,
             "tickcolor": "rgb(36,36,36)",
             "ticks": "outside"
            },
            "colorscale": [
             [
              0,
              "#440154"
             ],
             [
              0.1111111111111111,
              "#482878"
             ],
             [
              0.2222222222222222,
              "#3e4989"
             ],
             [
              0.3333333333333333,
              "#31688e"
             ],
             [
              0.4444444444444444,
              "#26828e"
             ],
             [
              0.5555555555555556,
              "#1f9e89"
             ],
             [
              0.6666666666666666,
              "#35b779"
             ],
             [
              0.7777777777777778,
              "#6ece58"
             ],
             [
              0.8888888888888888,
              "#b5de2b"
             ],
             [
              1,
              "#fde725"
             ]
            ],
            "type": "surface"
           }
          ],
          "table": [
           {
            "cells": {
             "fill": {
              "color": "rgb(237,237,237)"
             },
             "line": {
              "color": "white"
             }
            },
            "header": {
             "fill": {
              "color": "rgb(217,217,217)"
             },
             "line": {
              "color": "white"
             }
            },
            "type": "table"
           }
          ]
         },
         "layout": {
          "annotationdefaults": {
           "arrowhead": 0,
           "arrowwidth": 1
          },
          "coloraxis": {
           "colorbar": {
            "outlinewidth": 1,
            "tickcolor": "rgb(36,36,36)",
            "ticks": "outside"
           }
          },
          "colorscale": {
           "diverging": [
            [
             0,
             "rgb(103,0,31)"
            ],
            [
             0.1,
             "rgb(178,24,43)"
            ],
            [
             0.2,
             "rgb(214,96,77)"
            ],
            [
             0.3,
             "rgb(244,165,130)"
            ],
            [
             0.4,
             "rgb(253,219,199)"
            ],
            [
             0.5,
             "rgb(247,247,247)"
            ],
            [
             0.6,
             "rgb(209,229,240)"
            ],
            [
             0.7,
             "rgb(146,197,222)"
            ],
            [
             0.8,
             "rgb(67,147,195)"
            ],
            [
             0.9,
             "rgb(33,102,172)"
            ],
            [
             1,
             "rgb(5,48,97)"
            ]
           ],
           "sequential": [
            [
             0,
             "#440154"
            ],
            [
             0.1111111111111111,
             "#482878"
            ],
            [
             0.2222222222222222,
             "#3e4989"
            ],
            [
             0.3333333333333333,
             "#31688e"
            ],
            [
             0.4444444444444444,
             "#26828e"
            ],
            [
             0.5555555555555556,
             "#1f9e89"
            ],
            [
             0.6666666666666666,
             "#35b779"
            ],
            [
             0.7777777777777778,
             "#6ece58"
            ],
            [
             0.8888888888888888,
             "#b5de2b"
            ],
            [
             1,
             "#fde725"
            ]
           ],
           "sequentialminus": [
            [
             0,
             "#440154"
            ],
            [
             0.1111111111111111,
             "#482878"
            ],
            [
             0.2222222222222222,
             "#3e4989"
            ],
            [
             0.3333333333333333,
             "#31688e"
            ],
            [
             0.4444444444444444,
             "#26828e"
            ],
            [
             0.5555555555555556,
             "#1f9e89"
            ],
            [
             0.6666666666666666,
             "#35b779"
            ],
            [
             0.7777777777777778,
             "#6ece58"
            ],
            [
             0.8888888888888888,
             "#b5de2b"
            ],
            [
             1,
             "#fde725"
            ]
           ]
          },
          "colorway": [
           "#1F77B4",
           "#FF7F0E",
           "#2CA02C",
           "#D62728",
           "#9467BD",
           "#8C564B",
           "#E377C2",
           "#7F7F7F",
           "#BCBD22",
           "#17BECF"
          ],
          "font": {
           "color": "rgb(36,36,36)"
          },
          "geo": {
           "bgcolor": "white",
           "lakecolor": "white",
           "landcolor": "white",
           "showlakes": true,
           "showland": true,
           "subunitcolor": "white"
          },
          "hoverlabel": {
           "align": "left"
          },
          "hovermode": "closest",
          "mapbox": {
           "style": "light"
          },
          "paper_bgcolor": "white",
          "plot_bgcolor": "white",
          "polar": {
           "angularaxis": {
            "gridcolor": "rgb(232,232,232)",
            "linecolor": "rgb(36,36,36)",
            "showgrid": false,
            "showline": true,
            "ticks": "outside"
           },
           "bgcolor": "white",
           "radialaxis": {
            "gridcolor": "rgb(232,232,232)",
            "linecolor": "rgb(36,36,36)",
            "showgrid": false,
            "showline": true,
            "ticks": "outside"
           }
          },
          "scene": {
           "xaxis": {
            "backgroundcolor": "white",
            "gridcolor": "rgb(232,232,232)",
            "gridwidth": 2,
            "linecolor": "rgb(36,36,36)",
            "showbackground": true,
            "showgrid": false,
            "showline": true,
            "ticks": "outside",
            "zeroline": false,
            "zerolinecolor": "rgb(36,36,36)"
           },
           "yaxis": {
            "backgroundcolor": "white",
            "gridcolor": "rgb(232,232,232)",
            "gridwidth": 2,
            "linecolor": "rgb(36,36,36)",
            "showbackground": true,
            "showgrid": false,
            "showline": true,
            "ticks": "outside",
            "zeroline": false,
            "zerolinecolor": "rgb(36,36,36)"
           },
           "zaxis": {
            "backgroundcolor": "white",
            "gridcolor": "rgb(232,232,232)",
            "gridwidth": 2,
            "linecolor": "rgb(36,36,36)",
            "showbackground": true,
            "showgrid": false,
            "showline": true,
            "ticks": "outside",
            "zeroline": false,
            "zerolinecolor": "rgb(36,36,36)"
           }
          },
          "shapedefaults": {
           "fillcolor": "black",
           "line": {
            "width": 0
           },
           "opacity": 0.3
          },
          "ternary": {
           "aaxis": {
            "gridcolor": "rgb(232,232,232)",
            "linecolor": "rgb(36,36,36)",
            "showgrid": false,
            "showline": true,
            "ticks": "outside"
           },
           "baxis": {
            "gridcolor": "rgb(232,232,232)",
            "linecolor": "rgb(36,36,36)",
            "showgrid": false,
            "showline": true,
            "ticks": "outside"
           },
           "bgcolor": "white",
           "caxis": {
            "gridcolor": "rgb(232,232,232)",
            "linecolor": "rgb(36,36,36)",
            "showgrid": false,
            "showline": true,
            "ticks": "outside"
           }
          },
          "title": {
           "x": 0.05
          },
          "xaxis": {
           "automargin": true,
           "gridcolor": "rgb(232,232,232)",
           "linecolor": "rgb(36,36,36)",
           "showgrid": true,
           "showline": true,
           "ticks": "outside",
           "title": {
            "standoff": 15
           },
           "zeroline": false,
           "zerolinecolor": "rgb(36,36,36)"
          },
          "yaxis": {
           "automargin": true,
           "gridcolor": "rgb(232,232,232)",
           "linecolor": "rgb(36,36,36)",
           "showgrid": true,
           "showline": true,
           "ticks": "outside",
           "title": {
            "standoff": 15
           },
           "zeroline": false,
           "zerolinecolor": "rgb(36,36,36)"
          }
         }
        },
        "width": 800,
        "xaxis": {
         "anchor": "y",
         "domain": [
          0,
          1
         ],
         "title": {
          "text": "Days"
         }
        },
        "yaxis": {
         "anchor": "x",
         "domain": [
          0,
          1
         ],
         "title": {
          "text": "Total deaths"
         }
        }
       }
      },
      "text/html": "<div>\n        \n        \n            <div id=\"8928a05b-bde3-4025-b796-3aaa11c95c58\" class=\"plotly-graph-div\" style=\"height:525px; width:800px;\"></div>\n            <script type=\"text/javascript\">\n                require([\"plotly\"], function(Plotly) {\n                    window.PLOTLYENV=window.PLOTLYENV || {};\n                    \n                if (document.getElementById(\"8928a05b-bde3-4025-b796-3aaa11c95c58\")) {\n                    Plotly.newPlot(\n                        '8928a05b-bde3-4025-b796-3aaa11c95c58',\n                        [{\"hovertemplate\": \"scenario=simulated<br>time=%{x}<br>covid_deaths=%{y}<extra></extra>\", \"legendgroup\": \"simulated\", \"line\": {\"color\": \"#1F77B4\", \"dash\": \"solid\"}, \"mode\": \"lines\", \"name\": \"simulated\", \"orientation\": \"v\", \"showlegend\": true, \"type\": \"scatter\", \"x\": [1.0, 1.5, 2.0, 2.5, 3.0, 3.5, 4.0, 4.5, 5.0, 5.5, 6.0, 6.5, 7.0, 7.5, 8.0, 8.5, 9.0, 9.5, 10.0, 10.5, 11.0, 11.5, 12.0, 12.5, 13.0, 13.5, 14.0, 14.5, 15.0, 15.5, 16.0, 16.5, 17.0, 17.5, 18.0, 18.5, 19.0, 19.5, 20.0, 20.5, 21.0, 21.5, 22.0, 22.5, 23.0, 23.5, 24.0, 24.5, 25.0, 25.5, 26.0, 26.5, 27.0, 27.5, 28.0, 28.5, 29.0, 29.5, 30.0, 30.5, 31.0, 31.5, 32.0, 32.5, 33.0, 33.5, 34.0, 34.5, 35.0, 35.5, 36.0, 36.5, 37.0, 37.5, 38.0, 38.5, 39.0, 39.5, 40.0, 40.5, 41.0, 41.5, 42.0, 42.5, 43.0, 43.5, 44.0, 44.5, 45.0, 45.5, 46.0, 46.5, 47.0, 47.5, 48.0, 48.5, 49.0, 49.5, 50.0, 50.5, 51.0, 51.5, 52.0, 52.5, 53.0, 53.5, 54.0, 54.5, 55.0, 55.5, 56.0, 56.5, 57.0, 57.5, 58.0, 58.5, 59.0, 59.5, 60.0, 60.5, 61.0, 61.5, 62.0, 62.5, 63.0, 63.5, 64.0, 64.5, 65.0, 65.5, 66.0, 66.5, 67.0, 67.5, 68.0, 68.5, 69.0, 69.5, 70.0, 70.5, 71.0, 71.5, 72.0, 72.5, 73.0, 73.5, 74.0, 74.5, 75.0, 75.5, 76.0, 76.5, 77.0, 77.5, 78.0, 78.5, 79.0, 79.5, 80.0, 80.5, 81.0, 81.5, 82.0, 82.5, 83.0, 83.5, 84.0, 84.5, 85.0, 85.5, 86.0, 86.5, 87.0, 87.5, 88.0, 88.5, 89.0, 89.5, 90.0, 90.5, 91.0, 91.5, 92.0, 92.5, 93.0, 93.5, 94.0, 94.5, 95.0, 95.5, 96.0, 96.5, 97.0, 97.5, 98.0, 98.5, 99.0, 99.5, 100.0, 100.5, 101.0, 101.5, 102.0, 102.5, 103.0, 103.5, 104.0, 104.5, 105.0, 105.5, 106.0, 106.5, 107.0, 107.5, 108.0, 108.5, 109.0, 109.5, 110.0, 110.5, 111.0, 111.5, 112.0, 112.5, 113.0, 113.5, 114.0, 114.5, 115.0, 115.5, 116.0, 116.5, 117.0, 117.5, 118.0, 118.5, 119.0, 119.5, 120.0, 120.5, 121.0, 121.5, 122.0, 122.5, 123.0, 123.5, 124.0, 124.5, 125.0, 125.5, 126.0, 126.5, 127.0, 127.5, 128.0, 128.5, 129.0, 129.5, 130.0, 130.5, 131.0, 131.5, 132.0, 132.5, 133.0, 133.5, 134.0, 134.5, 135.0, 135.5, 136.0, 136.5, 137.0, 137.5, 138.0, 138.5, 139.0, 139.5, 140.0, 140.5, 141.0, 141.5, 142.0, 142.5, 143.0, 143.5, 144.0, 144.5, 145.0, 145.5, 146.0, 146.5], \"xaxis\": \"x\", \"y\": [0.0, 0.0, 0.00095, 0.0022501533069381597, 0.0038668544536043354, 0.0057730818913338065, 0.007947374413886673, 0.010372977058339708, 0.013037128928540186, 0.015930469889894452, 0.019046546852615122, 0.02238140351400296, 0.025933240069281643, 0.029702131608937463, 0.033689795768731684, 0.03789940174536662, 0.0423354140854133, 0.047003465738731036, 0.05191025577468731, 0.05706346791885622, 0.062471706703663796, 0.06814444855885067, 0.07409200561353205, 0.08032550035519087, 0.08685684960397363, 0.09369875652307093, 0.10086470960604181, 0.10836898776661752, 0.1162266708115984, 0.12445365470779587, 0.13306667116363446, 0.1420833111384199, 0.15152205197024732, 0.1614022878794536, 0.17174436366040752, 0.18256961142195266, 0.19390039027737296, 0.2057601289195126, 0.21817337104663603, 0.23116582363058438, 0.2447644080414642, 0.25899731406307575, 0.2738940568510376, 0.289485536901505, 0.30580410311285616, 0.3228836190360255, 0.3407595324215443, 0.3594689481830121, 0.37905070490785187, 0.3995454550569385, 0.4209957490051778, 0.44344612308544795, 0.46694319180860916, 0.4915357444426098, 0.5172748461441565, 0.5442139438470271, 0.5724089771219497, 0.6019184942341108, 0.6328037736358225, 0.6651289511437376, 0.6989611530622777, 0.7343706355276878, 0.77143093036038, 0.8102189977270231, 0.8508153859282079, 0.8933043986425134, 0.937774269973442, 0.9843173476620352, 1.0330302848450514, 1.0840142407564295, 1.1373750907884121, 1.193223646348209, 1.2516758849664755, 1.312853191135219, 1.3768826083750667, 1.4438971030551777, 1.5140358405135206, 1.5874444740507974, 1.6642754473980532, 1.744688311286006, 1.828850054773424, 1.9169354520225448, 2.0091274252416125, 2.1056174245481944, 2.206605825542078, 2.312302345413335, 2.4229264784496354, 2.5387079518471762, 2.6598872027717655, 2.7867158776607237, 2.9194573548024616, 3.058387291278925, 3.2037941954066995, 3.3559800258655144, 3.5152608187583088, 3.681967343905024, 3.856445791732996, 4.039058492190362, 4.230184667175385, 4.430221218044213, 4.63958354983243, 4.858706433901978, 5.08804491080486, 5.32807523523851, 5.57929586505515, 5.842228496378927, 6.117419146980352, 6.405439290157822, 6.706887041480821, 7.022388400859232, 7.352598552518037, 7.698203225576937, 8.059920118060294, 8.438500387294482, 8.834730209787617, 9.249432413830904, 9.683468188211863, 10.137738870587727, 10.61318781923274, 11.110802372046207, 11.631615896889334, 12.176709937508571, 12.747216459501617, 13.344320200990031, 13.969261132879788, 14.62333703381867, 15.307906185197586, 16.02439019179215, 16.774276933901753, 17.55912365711638, 18.380560206127292, 19.240292409296664, 20.14010562101442, 21.08186842919809, 22.067536535634417, 23.099156817220383, 24.178871576536835, 25.30892299058118, 26.491657766896903, 27.72953201676842, 29.025116355600396, 30.38110124107244, 31.800302560153735, 33.28566747657889, 34.840280550927076, 36.467370146012584, 38.17031513088717, 39.95265189737471, 41.818081703707485, 43.77047836051252, 45.813896275107254, 47.95257887080766, 50.1909673987306, 52.53371016038688, 54.98567216021458, 57.55194520809451, 60.2378584928241, 63.048989648503536, 65.99117633681131, 69.07052836921731, 72.29344039430254, 75.66660517652723, 79.19702749401762, 82.89203868422572, 86.75931186766206, 90.80687788130814, 95.04314195478916, 99.47690116392855, 104.11736269791979, 108.97416297803971, 114.05738766759455, 119.37759261463985, 124.94582577095139, 130.77365013274988, 136.87316775080305, 143.25704485974745, 149.93853817879514, 156.931522438421, 164.2505191901703, 171.9107269593882, 179.92805280345985, 188.31914534106497, 197.10142932100337, 206.29314180234104, 215.91337002096972, 225.98209102117065, 236.52021313443421, 247.54961939161885, 259.09321295854215, 271.1749646892936, 283.8199628959496, 297.0544654379682, 310.90595423935, 325.4031923466854, 340.57628364647593, 356.45673536563135, 373.07752348481074, 390.4731612003159, 408.67977057656134, 427.7351575377584, 447.6788903543686, 468.5523817871237, 490.3989750589859, 513.2640338333512, 537.1950363850963, 562.2416741597534, 588.455954925182, 615.8923107296155, 644.6077108899104, 674.6617802442374, 706.116922914346, 739.0384518339372, 773.4947243116051, 809.5572839092906, 847.3010089302521, 886.8042678242219, 928.149081831717, 971.4212952044348, 1016.7107533543178, 1064.1114893002493, 1113.7219187984817, 1165.6450445608264, 1219.9886699833914, 1276.8656228282869, 1336.3939893212378, 1398.6973591495407, 1463.9050818672608, 1532.152535238084, 1603.58140607083, 1678.339984128363, 1756.5834697175478, 1838.474295596058, 1924.182463861286, 2013.8858985174138, 2107.7708144489243, 2206.0321035625248, 2308.8737388947175, 2416.5091975191003, 2529.161903126045, 2647.06568918772, 2770.4652836635846, 2899.6168162455815, 3034.7883491883576, 3176.26043281806, 3324.326686863653, 3479.2944088074228, 3641.4852105064274, 3811.235684394258, 3988.898100632706, 4174.841136645867, 4369.450640535028, 4573.130429941438, 4786.303127995959, 5009.4110380696875, 5242.917059118146, 5487.305643493656, 5743.083799186187, 6010.782138542526, 6290.955975607101, 6584.186474325523, 6891.081849953893, 7212.278626123523, 7548.442950121949, 7900.271969067317, 8268.495269774488, 8653.876385237849, 9057.214370787899, 9479.345453116672, 9921.144755510859, 10383.528102781695, 10867.453909537206, 11373.9251556058, 11903.991452590431, 12458.751205710154, 13039.353875270988, 13647.002342300852, 14282.955383084325, 14948.53025754237, 15645.105416620143, 16374.123334073076, 17137.093468277697, 17935.595359939573, 18771.281871826573, 19645.88257692174, 20561.207301666578, 21519.149831253144, 22521.691784221905, 23570.9066639325, 24668.96409479653, 25818.134251495514, 27020.792489753672, 28279.424187594323], \"yaxis\": \"y\"}, {\"line\": {\"color\": \"red\"}, \"mode\": \"lines\", \"name\": \"historical data\", \"showlegend\": true, \"type\": \"scatter\", \"x\": [0, 1, 2, 3, 4, 5, 6, 7, 8, 9, 10, 11, 12, 13, 14, 15, 16, 17, 18, 19, 20, 21, 22, 23, 24, 25, 26, 27, 28, 29, 30, 31, 32, 33, 34, 35, 36, 37, 38, 39, 40, 41, 42, 43, 44, 45, 46, 47, 48, 49, 50, 51, 52, 53, 54, 55, 56, 57, 58, 59, 60, 61, 62, 63, 64, 65, 66, 67, 68, 69, 70, 71, 72, 73, 74, 75, 76, 77, 78, 79, 80, 81, 82, 83, 84, 85, 86, 87, 88, 89, 90, 91, 92, 93, 94, 95, 96, 97, 98, 99, 100, 101, 102, 103, 104, 105, 106, 107, 108, 109, 110, 111, 112, 113, 114, 115, 116, 117, 118, 119, 120, 121, 122, 123, 124, 125, 126, 127, 128, 129, 130, 131, 132, 133, 134, 135, 136, 137, 138, 139, 140, 141, 142, 143, 144, 145, 146], \"y\": [0.0, 0.0, 0.0, 0.0, 0.0, 0.0, 0.0, 0.0, 0.0, 0.0, 0.0, 0.0, 0.0, 0.0, 0.0, 0.0, 0.0, 0.0, 0.0, 0.0, 0.0, 0.0, 0.0, 0.0, 0.0, 0.0, 0.0, 0.0, 0.0, 0.0, 0.0, 0.0, 0.0, 0.0, 0.0, 0.0, 0.0, 0.0, 0.0, 0.0, 0.0, 0.0, 0.0, 0.0, 0.0, 0.0, 0.0, 0.0, 0.0, 0.0, 0.0, 0.0, 0.0, 0.0, 0.0, 0.0, 0.0, 0.0, 0.0, 0.0, 0.0, 0.0, 0.0, 0.0, 0.0, 0.0, 0.0, 0.0, 0.0, null, 0.0, 0.0, 0.0, 1.0, 2.0, 2.0, 2.0, 3.0, 3.0, 3.0, 4.0, 4.0, 4.0, 7.0, 9.0, 9.0, 13.0, 17.0, 19.0, 25.0, 29.0, 32.0, 35.0, 50.0, 56.0, 68.0, 77.0, 109.0, 114.0, 149.0, 166.0, 199.0, 239.0, 273.0, 308.0, 339.0, 377.0, 414.0, 437.0, 480.0, 507.0, 543.0, 590.0, 640.0, 681.0, 718.0, 775.0, 824.0, 872.0, 934.0, 1007.0, 1074.0, 1147.0, 1218.0, 1301.0, 1373.0, 1568.0, 1694.0, 1783.0, 1886.0, 1981.0, 2109.0, 2206.0, 2293.0, 2415.0, 2549.0, 2649.0, 2752.0, 2872.0, 3029.0, 3163.0, 3303.0, 3435.0, 3583.0, 3720.0, 3867.0, 4021.0]}],\n                        {\"legend\": {\"orientation\": \"h\", \"title\": {\"text\": \"scenario\"}, \"tracegroupgap\": 0}, \"margin\": {\"t\": 60}, \"template\": {\"data\": {\"bar\": [{\"error_x\": {\"color\": \"rgb(36,36,36)\"}, \"error_y\": {\"color\": \"rgb(36,36,36)\"}, \"marker\": {\"line\": {\"color\": \"white\", \"width\": 0.5}}, \"type\": \"bar\"}], \"barpolar\": [{\"marker\": {\"line\": {\"color\": \"white\", \"width\": 0.5}}, \"type\": \"barpolar\"}], \"carpet\": [{\"aaxis\": {\"endlinecolor\": \"rgb(36,36,36)\", \"gridcolor\": \"white\", \"linecolor\": \"white\", \"minorgridcolor\": \"white\", \"startlinecolor\": \"rgb(36,36,36)\"}, \"baxis\": {\"endlinecolor\": \"rgb(36,36,36)\", \"gridcolor\": \"white\", \"linecolor\": \"white\", \"minorgridcolor\": \"white\", \"startlinecolor\": \"rgb(36,36,36)\"}, \"type\": \"carpet\"}], \"choropleth\": [{\"colorbar\": {\"outlinewidth\": 1, \"tickcolor\": \"rgb(36,36,36)\", \"ticks\": \"outside\"}, \"type\": \"choropleth\"}], \"contour\": [{\"colorbar\": {\"outlinewidth\": 1, \"tickcolor\": \"rgb(36,36,36)\", \"ticks\": \"outside\"}, \"colorscale\": [[0.0, \"#440154\"], [0.1111111111111111, \"#482878\"], [0.2222222222222222, \"#3e4989\"], [0.3333333333333333, \"#31688e\"], [0.4444444444444444, \"#26828e\"], [0.5555555555555556, \"#1f9e89\"], [0.6666666666666666, \"#35b779\"], [0.7777777777777778, \"#6ece58\"], [0.8888888888888888, \"#b5de2b\"], [1.0, \"#fde725\"]], \"type\": \"contour\"}], \"contourcarpet\": [{\"colorbar\": {\"outlinewidth\": 1, \"tickcolor\": \"rgb(36,36,36)\", \"ticks\": \"outside\"}, \"type\": \"contourcarpet\"}], \"heatmap\": [{\"colorbar\": {\"outlinewidth\": 1, \"tickcolor\": \"rgb(36,36,36)\", \"ticks\": \"outside\"}, \"colorscale\": [[0.0, \"#440154\"], [0.1111111111111111, \"#482878\"], [0.2222222222222222, \"#3e4989\"], [0.3333333333333333, \"#31688e\"], [0.4444444444444444, \"#26828e\"], [0.5555555555555556, \"#1f9e89\"], [0.6666666666666666, \"#35b779\"], [0.7777777777777778, \"#6ece58\"], [0.8888888888888888, \"#b5de2b\"], [1.0, \"#fde725\"]], \"type\": \"heatmap\"}], \"heatmapgl\": [{\"colorbar\": {\"outlinewidth\": 1, \"tickcolor\": \"rgb(36,36,36)\", \"ticks\": \"outside\"}, \"colorscale\": [[0.0, \"#440154\"], [0.1111111111111111, \"#482878\"], [0.2222222222222222, \"#3e4989\"], [0.3333333333333333, \"#31688e\"], [0.4444444444444444, \"#26828e\"], [0.5555555555555556, \"#1f9e89\"], [0.6666666666666666, \"#35b779\"], [0.7777777777777778, \"#6ece58\"], [0.8888888888888888, \"#b5de2b\"], [1.0, \"#fde725\"]], \"type\": \"heatmapgl\"}], \"histogram\": [{\"marker\": {\"line\": {\"color\": \"white\", \"width\": 0.6}}, \"type\": \"histogram\"}], \"histogram2d\": [{\"colorbar\": {\"outlinewidth\": 1, \"tickcolor\": \"rgb(36,36,36)\", \"ticks\": \"outside\"}, \"colorscale\": [[0.0, \"#440154\"], [0.1111111111111111, \"#482878\"], [0.2222222222222222, \"#3e4989\"], [0.3333333333333333, \"#31688e\"], [0.4444444444444444, \"#26828e\"], [0.5555555555555556, \"#1f9e89\"], [0.6666666666666666, \"#35b779\"], [0.7777777777777778, \"#6ece58\"], [0.8888888888888888, \"#b5de2b\"], [1.0, \"#fde725\"]], \"type\": \"histogram2d\"}], \"histogram2dcontour\": [{\"colorbar\": {\"outlinewidth\": 1, \"tickcolor\": \"rgb(36,36,36)\", \"ticks\": \"outside\"}, \"colorscale\": [[0.0, \"#440154\"], [0.1111111111111111, \"#482878\"], [0.2222222222222222, \"#3e4989\"], [0.3333333333333333, \"#31688e\"], [0.4444444444444444, \"#26828e\"], [0.5555555555555556, \"#1f9e89\"], [0.6666666666666666, \"#35b779\"], [0.7777777777777778, \"#6ece58\"], [0.8888888888888888, \"#b5de2b\"], [1.0, \"#fde725\"]], \"type\": \"histogram2dcontour\"}], \"mesh3d\": [{\"colorbar\": {\"outlinewidth\": 1, \"tickcolor\": \"rgb(36,36,36)\", \"ticks\": \"outside\"}, \"type\": \"mesh3d\"}], \"parcoords\": [{\"line\": {\"colorbar\": {\"outlinewidth\": 1, \"tickcolor\": \"rgb(36,36,36)\", \"ticks\": \"outside\"}}, \"type\": \"parcoords\"}], \"pie\": [{\"automargin\": true, \"type\": \"pie\"}], \"scatter\": [{\"marker\": {\"colorbar\": {\"outlinewidth\": 1, \"tickcolor\": \"rgb(36,36,36)\", \"ticks\": \"outside\"}}, \"type\": \"scatter\"}], \"scatter3d\": [{\"line\": {\"colorbar\": {\"outlinewidth\": 1, \"tickcolor\": \"rgb(36,36,36)\", \"ticks\": \"outside\"}}, \"marker\": {\"colorbar\": {\"outlinewidth\": 1, \"tickcolor\": \"rgb(36,36,36)\", \"ticks\": \"outside\"}}, \"type\": \"scatter3d\"}], \"scattercarpet\": [{\"marker\": {\"colorbar\": {\"outlinewidth\": 1, \"tickcolor\": \"rgb(36,36,36)\", \"ticks\": \"outside\"}}, \"type\": \"scattercarpet\"}], \"scattergeo\": [{\"marker\": {\"colorbar\": {\"outlinewidth\": 1, \"tickcolor\": \"rgb(36,36,36)\", \"ticks\": \"outside\"}}, \"type\": \"scattergeo\"}], \"scattergl\": [{\"marker\": {\"colorbar\": {\"outlinewidth\": 1, \"tickcolor\": \"rgb(36,36,36)\", \"ticks\": \"outside\"}}, \"type\": \"scattergl\"}], \"scattermapbox\": [{\"marker\": {\"colorbar\": {\"outlinewidth\": 1, \"tickcolor\": \"rgb(36,36,36)\", \"ticks\": \"outside\"}}, \"type\": \"scattermapbox\"}], \"scatterpolar\": [{\"marker\": {\"colorbar\": {\"outlinewidth\": 1, \"tickcolor\": \"rgb(36,36,36)\", \"ticks\": \"outside\"}}, \"type\": \"scatterpolar\"}], \"scatterpolargl\": [{\"marker\": {\"colorbar\": {\"outlinewidth\": 1, \"tickcolor\": \"rgb(36,36,36)\", \"ticks\": \"outside\"}}, \"type\": \"scatterpolargl\"}], \"scatterternary\": [{\"marker\": {\"colorbar\": {\"outlinewidth\": 1, \"tickcolor\": \"rgb(36,36,36)\", \"ticks\": \"outside\"}}, \"type\": \"scatterternary\"}], \"surface\": [{\"colorbar\": {\"outlinewidth\": 1, \"tickcolor\": \"rgb(36,36,36)\", \"ticks\": \"outside\"}, \"colorscale\": [[0.0, \"#440154\"], [0.1111111111111111, \"#482878\"], [0.2222222222222222, \"#3e4989\"], [0.3333333333333333, \"#31688e\"], [0.4444444444444444, \"#26828e\"], [0.5555555555555556, \"#1f9e89\"], [0.6666666666666666, \"#35b779\"], [0.7777777777777778, \"#6ece58\"], [0.8888888888888888, \"#b5de2b\"], [1.0, \"#fde725\"]], \"type\": \"surface\"}], \"table\": [{\"cells\": {\"fill\": {\"color\": \"rgb(237,237,237)\"}, \"line\": {\"color\": \"white\"}}, \"header\": {\"fill\": {\"color\": \"rgb(217,217,217)\"}, \"line\": {\"color\": \"white\"}}, \"type\": \"table\"}]}, \"layout\": {\"annotationdefaults\": {\"arrowhead\": 0, \"arrowwidth\": 1}, \"coloraxis\": {\"colorbar\": {\"outlinewidth\": 1, \"tickcolor\": \"rgb(36,36,36)\", \"ticks\": \"outside\"}}, \"colorscale\": {\"diverging\": [[0.0, \"rgb(103,0,31)\"], [0.1, \"rgb(178,24,43)\"], [0.2, \"rgb(214,96,77)\"], [0.3, \"rgb(244,165,130)\"], [0.4, \"rgb(253,219,199)\"], [0.5, \"rgb(247,247,247)\"], [0.6, \"rgb(209,229,240)\"], [0.7, \"rgb(146,197,222)\"], [0.8, \"rgb(67,147,195)\"], [0.9, \"rgb(33,102,172)\"], [1.0, \"rgb(5,48,97)\"]], \"sequential\": [[0.0, \"#440154\"], [0.1111111111111111, \"#482878\"], [0.2222222222222222, \"#3e4989\"], [0.3333333333333333, \"#31688e\"], [0.4444444444444444, \"#26828e\"], [0.5555555555555556, \"#1f9e89\"], [0.6666666666666666, \"#35b779\"], [0.7777777777777778, \"#6ece58\"], [0.8888888888888888, \"#b5de2b\"], [1.0, \"#fde725\"]], \"sequentialminus\": [[0.0, \"#440154\"], [0.1111111111111111, \"#482878\"], [0.2222222222222222, \"#3e4989\"], [0.3333333333333333, \"#31688e\"], [0.4444444444444444, \"#26828e\"], [0.5555555555555556, \"#1f9e89\"], [0.6666666666666666, \"#35b779\"], [0.7777777777777778, \"#6ece58\"], [0.8888888888888888, \"#b5de2b\"], [1.0, \"#fde725\"]]}, \"colorway\": [\"#1F77B4\", \"#FF7F0E\", \"#2CA02C\", \"#D62728\", \"#9467BD\", \"#8C564B\", \"#E377C2\", \"#7F7F7F\", \"#BCBD22\", \"#17BECF\"], \"font\": {\"color\": \"rgb(36,36,36)\"}, \"geo\": {\"bgcolor\": \"white\", \"lakecolor\": \"white\", \"landcolor\": \"white\", \"showlakes\": true, \"showland\": true, \"subunitcolor\": \"white\"}, \"hoverlabel\": {\"align\": \"left\"}, \"hovermode\": \"closest\", \"mapbox\": {\"style\": \"light\"}, \"paper_bgcolor\": \"white\", \"plot_bgcolor\": \"white\", \"polar\": {\"angularaxis\": {\"gridcolor\": \"rgb(232,232,232)\", \"linecolor\": \"rgb(36,36,36)\", \"showgrid\": false, \"showline\": true, \"ticks\": \"outside\"}, \"bgcolor\": \"white\", \"radialaxis\": {\"gridcolor\": \"rgb(232,232,232)\", \"linecolor\": \"rgb(36,36,36)\", \"showgrid\": false, \"showline\": true, \"ticks\": \"outside\"}}, \"scene\": {\"xaxis\": {\"backgroundcolor\": \"white\", \"gridcolor\": \"rgb(232,232,232)\", \"gridwidth\": 2, \"linecolor\": \"rgb(36,36,36)\", \"showbackground\": true, \"showgrid\": false, \"showline\": true, \"ticks\": \"outside\", \"zeroline\": false, \"zerolinecolor\": \"rgb(36,36,36)\"}, \"yaxis\": {\"backgroundcolor\": \"white\", \"gridcolor\": \"rgb(232,232,232)\", \"gridwidth\": 2, \"linecolor\": \"rgb(36,36,36)\", \"showbackground\": true, \"showgrid\": false, \"showline\": true, \"ticks\": \"outside\", \"zeroline\": false, \"zerolinecolor\": \"rgb(36,36,36)\"}, \"zaxis\": {\"backgroundcolor\": \"white\", \"gridcolor\": \"rgb(232,232,232)\", \"gridwidth\": 2, \"linecolor\": \"rgb(36,36,36)\", \"showbackground\": true, \"showgrid\": false, \"showline\": true, \"ticks\": \"outside\", \"zeroline\": false, \"zerolinecolor\": \"rgb(36,36,36)\"}}, \"shapedefaults\": {\"fillcolor\": \"black\", \"line\": {\"width\": 0}, \"opacity\": 0.3}, \"ternary\": {\"aaxis\": {\"gridcolor\": \"rgb(232,232,232)\", \"linecolor\": \"rgb(36,36,36)\", \"showgrid\": false, \"showline\": true, \"ticks\": \"outside\"}, \"baxis\": {\"gridcolor\": \"rgb(232,232,232)\", \"linecolor\": \"rgb(36,36,36)\", \"showgrid\": false, \"showline\": true, \"ticks\": \"outside\"}, \"bgcolor\": \"white\", \"caxis\": {\"gridcolor\": \"rgb(232,232,232)\", \"linecolor\": \"rgb(36,36,36)\", \"showgrid\": false, \"showline\": true, \"ticks\": \"outside\"}}, \"title\": {\"x\": 0.05}, \"xaxis\": {\"automargin\": true, \"gridcolor\": \"rgb(232,232,232)\", \"linecolor\": \"rgb(36,36,36)\", \"showgrid\": true, \"showline\": true, \"ticks\": \"outside\", \"title\": {\"standoff\": 15}, \"zeroline\": false, \"zerolinecolor\": \"rgb(36,36,36)\"}, \"yaxis\": {\"automargin\": true, \"gridcolor\": \"rgb(232,232,232)\", \"linecolor\": \"rgb(36,36,36)\", \"showgrid\": true, \"showline\": true, \"ticks\": \"outside\", \"title\": {\"standoff\": 15}, \"zeroline\": false, \"zerolinecolor\": \"rgb(36,36,36)\"}}}, \"width\": 800, \"xaxis\": {\"anchor\": \"y\", \"domain\": [0.0, 1.0], \"title\": {\"text\": \"Days\"}}, \"yaxis\": {\"anchor\": \"x\", \"domain\": [0.0, 1.0], \"title\": {\"text\": \"Total deaths\"}}},\n                        {\"responsive\": true}\n                    ).then(function(){\n                            \nvar gd = document.getElementById('8928a05b-bde3-4025-b796-3aaa11c95c58');\nvar x = new MutationObserver(function (mutations, observer) {{\n        var display = window.getComputedStyle(gd).display;\n        if (!display || display === 'none') {{\n            console.log([gd, 'removed!']);\n            Plotly.purge(gd);\n            observer.disconnect();\n        }}\n}});\n\n// Listen for the removal of the full notebook cells\nvar notebookContainer = gd.closest('#notebook-container');\nif (notebookContainer) {{\n    x.observe(notebookContainer, {childList: true});\n}}\n\n// Listen for the clearing of the current output cell\nvar outputEl = gd.closest('.output');\nif (outputEl) {{\n    x.observe(outputEl, {childList: true});\n}}\n\n                        })\n                };\n                });\n            </script>\n        </div>"
     },
     "metadata": {}
    },
    {
     "output_type": "stream",
     "name": "stdout",
     "text": "writing file  6.0.00.2020/2020-08-26 - Reference plot without lockdown 1.0-covid_deaths\n"
    }
   ],
   "source": [
    "sim.reference_plot(sim.get_run_data(),reference,'covid_deaths','total_deaths','Days','Total deaths','','Reference plot without lockdown 1.0')\n"
   ]
  },
  {
   "cell_type": "code",
   "execution_count": null,
   "metadata": {},
   "outputs": [],
   "source": []
  }
 ],
 "metadata": {
  "language_info": {
   "codemirror_mode": {
    "name": "ipython",
    "version": 3
   },
   "file_extension": ".py",
   "mimetype": "text/x-python",
   "name": "python",
   "nbconvert_exporter": "python",
   "pygments_lexer": "ipython3",
   "version": "3.7.6-final"
  },
  "orig_nbformat": 2,
  "kernelspec": {
   "name": "python3",
   "display_name": "Python 3"
  }
 },
 "nbformat": 4,
 "nbformat_minor": 2
}